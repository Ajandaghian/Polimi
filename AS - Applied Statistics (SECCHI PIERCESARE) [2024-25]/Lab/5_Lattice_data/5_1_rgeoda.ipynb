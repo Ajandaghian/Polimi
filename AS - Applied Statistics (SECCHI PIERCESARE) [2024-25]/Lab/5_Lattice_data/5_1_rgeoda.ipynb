{
 "cells": [
  {
   "cell_type": "code",
   "execution_count": 2,
   "metadata": {
    "vscode": {
     "languageId": "r"
    }
   },
   "outputs": [],
   "source": [
    "#_________________ Applied Statistics 2023/2024 _________________________________\n",
    "\n",
    "#### 5.1.Exploratory Spatial Data Analysis on Lattice Data with rgeoda ####\n",
    "#_______________________________________________________________________________#"
   ]
  },
  {
   "cell_type": "code",
   "execution_count": 3,
   "metadata": {
    "vscode": {
     "languageId": "r"
    }
   },
   "outputs": [
    {
     "name": "stderr",
     "output_type": "stream",
     "text": [
      "also installing the dependencies 'proxy', 'e1071', 'wk', 'classInt', 'DBI', 's2', 'units', 'sf', 'BH'\n",
      "\n",
      "\n"
     ]
    },
    {
     "name": "stdout",
     "output_type": "stream",
     "text": [
      "\n",
      "The downloaded binary packages are in\n",
      "\t/var/folders/2n/xc_5x6ys00q7kj5lcfn2s10r0000gn/T//Rtmp2EF1Wy/downloaded_packages\n"
     ]
    },
    {
     "name": "stderr",
     "output_type": "stream",
     "text": [
      "Loading required package: digest\n",
      "\n"
     ]
    }
   ],
   "source": [
    "\n",
    "#### 1. Install and load `rgeoda` ####\n",
    "\n",
    "install.packages(\"rgeoda\")\n",
    "\n",
    "library(rgeoda)"
   ]
  },
  {
   "cell_type": "code",
   "execution_count": 4,
   "metadata": {
    "vscode": {
     "languageId": "r"
    }
   },
   "outputs": [
    {
     "name": "stderr",
     "output_type": "stream",
     "text": [
      "Linking to GEOS 3.11.0, GDAL 3.5.3, PROJ 9.1.0; sf_use_s2() is TRUE\n",
      "\n"
     ]
    }
   ],
   "source": [
    "# In addition, the package sf needs to be loaded, since it is a dependency:\n",
    "\n",
    "library(sf)"
   ]
  },
  {
   "cell_type": "code",
   "execution_count": 5,
   "metadata": {
    "vscode": {
     "languageId": "r"
    }
   },
   "outputs": [
    {
     "name": "stdout",
     "output_type": "stream",
     "text": [
      "[1] \"/Library/Frameworks/R.framework/Versions/4.4-arm64/Resources/library/rgeoda/extdata/Guerry.shp\"\n",
      "Reading layer `Guerry' from data source \n",
      "  `/Library/Frameworks/R.framework/Versions/4.4-arm64/Resources/library/rgeoda/extdata/Guerry.shp' \n",
      "  using driver `ESRI Shapefile'\n",
      "Simple feature collection with 85 features and 29 fields\n",
      "Geometry type: MULTIPOLYGON\n",
      "Dimension:     XY\n",
      "Bounding box:  xmin: 47680 ymin: 1703258 xmax: 1031401 ymax: 2677441\n",
      "Projected CRS: NTF (Paris) / Lambert zone II\n"
     ]
    }
   ],
   "source": [
    "#### 2. Load Spatial Data ####\n",
    "\n",
    "# The rgeoda package for R relies on the sf package for basic spatial data\n",
    "# handling functions. \n",
    "# In a typical R workflow, one first reads a shape file (or other GIS format file) \n",
    "# with the data using the sf st_read(file path) command. \n",
    "# For example, to load the Shapefile `Guerry.shp` comes with the package:\n",
    "  \n",
    "guerry_path <- system.file(\"extdata\", \"Guerry.shp\", package = \"rgeoda\")\n",
    "print(guerry_path)\n",
    "guerry <- st_read(guerry_path)\n",
    "\n",
    "# Once the spatial object has been created, \n",
    "# it can be used to compute a spatial weights matrix\n",
    "# using one of the several weights functions in rgeoda."
   ]
  },
  {
   "cell_type": "code",
   "execution_count": null,
   "metadata": {
    "vscode": {
     "languageId": "r"
    }
   },
   "outputs": [],
   "source": [
    "#### 3. Spatial Weights ####\n",
    "\n",
    "# Spatial weights are central components in spatial data analysis: \n",
    "# they represent the possible spatial interactions between observations in space. \n",
    "# rgeoda provides 4 functions to create 3 different types of spatial weights:\n",
    "  \n",
    "# - Contiguity Based Weights: `queen_weights()`, `rook_weights()`\n",
    "# - Distance Based Weights: `distance_weights()`\n",
    "# - K-Nearest Neighbor Weights: `knn_weights()`"
   ]
  },
  {
   "cell_type": "code",
   "execution_count": 6,
   "metadata": {
    "vscode": {
     "languageId": "r"
    }
   },
   "outputs": [
    {
     "data": {
      "text/html": [
       "<table class=\"dataframe\">\n",
       "<caption>A data.frame: 8 x 2</caption>\n",
       "<thead>\n",
       "\t<tr><th></th><th scope=col>name</th><th scope=col>value</th></tr>\n",
       "\t<tr><th></th><th scope=col>&lt;I&lt;chr&gt;&gt;</th><th scope=col>&lt;I&lt;chr&gt;&gt;</th></tr>\n",
       "</thead>\n",
       "<tbody>\n",
       "\t<tr><th scope=row>1</th><td>number of observations:</td><td>85                </td></tr>\n",
       "\t<tr><th scope=row>2</th><td>is symmetric:          </td><td>TRUE              </td></tr>\n",
       "\t<tr><th scope=row>3</th><td>sparsity:              </td><td>0.0581314878892734</td></tr>\n",
       "\t<tr><th scope=row>4</th><td># min neighbors:       </td><td>2                 </td></tr>\n",
       "\t<tr><th scope=row>5</th><td># max neighbors:       </td><td>8                 </td></tr>\n",
       "\t<tr><th scope=row>6</th><td># mean neighbors:      </td><td>4.94117647058824  </td></tr>\n",
       "\t<tr><th scope=row>7</th><td># median neighbors:    </td><td>5                 </td></tr>\n",
       "\t<tr><th scope=row>8</th><td>has isolates:          </td><td>FALSE             </td></tr>\n",
       "</tbody>\n",
       "</table>\n"
      ],
      "text/latex": [
       "A data.frame: 8 x 2\n",
       "\\begin{tabular}{r|ll}\n",
       "  & name & value\\\\\n",
       "  & <I<chr>> & <I<chr>>\\\\\n",
       "\\hline\n",
       "\t1 & number of observations: & 85                \\\\\n",
       "\t2 & is symmetric:           & TRUE              \\\\\n",
       "\t3 & sparsity:               & 0.0581314878892734\\\\\n",
       "\t4 & \\# min neighbors:        & 2                 \\\\\n",
       "\t5 & \\# max neighbors:        & 8                 \\\\\n",
       "\t6 & \\# mean neighbors:       & 4.94117647058824  \\\\\n",
       "\t7 & \\# median neighbors:     & 5                 \\\\\n",
       "\t8 & has isolates:           & FALSE             \\\\\n",
       "\\end{tabular}\n"
      ],
      "text/markdown": [
       "\n",
       "A data.frame: 8 x 2\n",
       "\n",
       "| <!--/--> | name &lt;I&lt;chr&gt;&gt; | value &lt;I&lt;chr&gt;&gt; |\n",
       "|---|---|---|\n",
       "| 1 | number of observations: | 85                 |\n",
       "| 2 | is symmetric:           | TRUE               |\n",
       "| 3 | sparsity:               | 0.0581314878892734 |\n",
       "| 4 | # min neighbors:        | 2                  |\n",
       "| 5 | # max neighbors:        | 8                  |\n",
       "| 6 | # mean neighbors:       | 4.94117647058824   |\n",
       "| 7 | # median neighbors:     | 5                  |\n",
       "| 8 | has isolates:           | FALSE              |\n",
       "\n"
      ],
      "text/plain": [
       "  name                    value             \n",
       "1 number of observations: 85                \n",
       "2 is symmetric:           TRUE              \n",
       "3 sparsity:               0.0581314878892734\n",
       "4 # min neighbors:        2                 \n",
       "5 # max neighbors:        8                 \n",
       "6 # mean neighbors:       4.94117647058824  \n",
       "7 # median neighbors:     5                 \n",
       "8 has isolates:           FALSE             "
      ]
     },
     "metadata": {},
     "output_type": "display_data"
    }
   ],
   "source": [
    "##### 3.1 Queen Contiguity Weights #####\n",
    "\n",
    "# Contiguity means that two spatial units share a common border of non-zero length. \n",
    "# Operationally, we can further distinguish between a rook and a queen criterion of contiguity.\n",
    "# The queen criterion is somewhat more encompassing and defines neighbors \n",
    "# as spatial units sharing a common edge or a common vertex.\n",
    "\n",
    "# To create a Queen contiguity weights, one can call the function \n",
    "# queen_weights(sf_obj, order=1, include_lower_order = False, precision_threshold = 0)\n",
    "\n",
    "# For example, to create a Queen contiguity weights using the sf object guerry:\n",
    "  \n",
    "queen_w <- queen_weights(guerry)\n",
    "summary(queen_w)\n",
    "\n",
    "# The function `queen_weights()` returns an instance of  `Weight` object. "
   ]
  },
  {
   "cell_type": "code",
   "execution_count": 7,
   "metadata": {
    "vscode": {
     "languageId": "r"
    }
   },
   "outputs": [
    {
     "data": {
      "text/html": [
       "TRUE"
      ],
      "text/latex": [
       "TRUE"
      ],
      "text/markdown": [
       "TRUE"
      ],
      "text/plain": [
       "[1] TRUE"
      ]
     },
     "metadata": {},
     "output_type": "display_data"
    },
    {
     "data": {
      "text/html": [
       "FALSE"
      ],
      "text/latex": [
       "FALSE"
      ],
      "text/markdown": [
       "FALSE"
      ],
      "text/plain": [
       "[1] FALSE"
      ]
     },
     "metadata": {},
     "output_type": "display_data"
    },
    {
     "data": {
      "text/html": [
       "0.0581314878892734"
      ],
      "text/latex": [
       "0.0581314878892734"
      ],
      "text/markdown": [
       "0.0581314878892734"
      ],
      "text/plain": [
       "[1] 0.05813149"
      ]
     },
     "metadata": {},
     "output_type": "display_data"
    },
    {
     "name": "stdout",
     "output_type": "stream",
     "text": [
      "\n",
      "Neighbors of the 1-st observation are: 36 37 67 69"
     ]
    },
    {
     "data": {
      "text/html": [
       "<table class=\"dataframe\">\n",
       "<caption>A data.frame: 6 x 1</caption>\n",
       "<thead>\n",
       "\t<tr><th></th><th scope=col>Spatial.Lag</th></tr>\n",
       "\t<tr><th></th><th scope=col>&lt;dbl&gt;</th></tr>\n",
       "</thead>\n",
       "<tbody>\n",
       "\t<tr><th scope=row>1</th><td>23047.50</td></tr>\n",
       "\t<tr><th scope=row>2</th><td>26919.67</td></tr>\n",
       "\t<tr><th scope=row>3</th><td>26195.50</td></tr>\n",
       "\t<tr><th scope=row>4</th><td>14401.25</td></tr>\n",
       "\t<tr><th scope=row>5</th><td>15038.67</td></tr>\n",
       "\t<tr><th scope=row>6</th><td>15749.00</td></tr>\n",
       "</tbody>\n",
       "</table>\n"
      ],
      "text/latex": [
       "A data.frame: 6 x 1\n",
       "\\begin{tabular}{r|l}\n",
       "  & Spatial.Lag\\\\\n",
       "  & <dbl>\\\\\n",
       "\\hline\n",
       "\t1 & 23047.50\\\\\n",
       "\t2 & 26919.67\\\\\n",
       "\t3 & 26195.50\\\\\n",
       "\t4 & 14401.25\\\\\n",
       "\t5 & 15038.67\\\\\n",
       "\t6 & 15749.00\\\\\n",
       "\\end{tabular}\n"
      ],
      "text/markdown": [
       "\n",
       "A data.frame: 6 x 1\n",
       "\n",
       "| <!--/--> | Spatial.Lag &lt;dbl&gt; |\n",
       "|---|---|\n",
       "| 1 | 23047.50 |\n",
       "| 2 | 26919.67 |\n",
       "| 3 | 26195.50 |\n",
       "| 4 | 14401.25 |\n",
       "| 5 | 15038.67 |\n",
       "| 6 | 15749.00 |\n",
       "\n"
      ],
      "text/plain": [
       "  Spatial.Lag\n",
       "1 23047.50   \n",
       "2 26919.67   \n",
       "3 26195.50   \n",
       "4 14401.25   \n",
       "5 15038.67   \n",
       "6 15749.00   "
      ]
     },
     "metadata": {},
     "output_type": "display_data"
    }
   ],
   "source": [
    "#### Attributes of `Weight` object\n",
    "\n",
    "# To check if weights matrix is symmetric\n",
    "is_symmetric(queen_w)\n",
    "\n",
    "# To check if weights matrix has isolates, or if any observation has no neighbors\n",
    "has_isolates(queen_w)\n",
    "\n",
    "weights_sparsity(queen_w) # A numeric value of spatial weights sparsity\n",
    "\n",
    "# To access the details of the weights: e.g. list the neighbors of a specified observation:\n",
    "nbrs <- get_neighbors(queen_w, idx = 1)\n",
    "cat(\"\\nNeighbors of the 1-st observation are:\", nbrs)\n",
    "\n",
    "# To compute the spatial lag of a specified observation by passing the values of the selected variable:\n",
    "lag <- spatial_lag(queen_w, guerry['Crm_prs']) # \"Crm_prs\" is \"Population per Crime against persons\"\n",
    "head(lag)"
   ]
  },
  {
   "cell_type": "code",
   "execution_count": 8,
   "metadata": {
    "vscode": {
     "languageId": "r"
    }
   },
   "outputs": [
    {
     "data": {
      "text/html": [
       "<table class=\"dataframe\">\n",
       "<caption>A data.frame: 8 x 2</caption>\n",
       "<thead>\n",
       "\t<tr><th></th><th scope=col>name</th><th scope=col>value</th></tr>\n",
       "\t<tr><th></th><th scope=col>&lt;I&lt;chr&gt;&gt;</th><th scope=col>&lt;I&lt;chr&gt;&gt;</th></tr>\n",
       "</thead>\n",
       "<tbody>\n",
       "\t<tr><th scope=row>1</th><td>number of observations:</td><td>85                </td></tr>\n",
       "\t<tr><th scope=row>2</th><td>is symmetric:          </td><td>TRUE              </td></tr>\n",
       "\t<tr><th scope=row>3</th><td>sparsity:              </td><td>0.0581314878892734</td></tr>\n",
       "\t<tr><th scope=row>4</th><td># min neighbors:       </td><td>2                 </td></tr>\n",
       "\t<tr><th scope=row>5</th><td># max neighbors:       </td><td>8                 </td></tr>\n",
       "\t<tr><th scope=row>6</th><td># mean neighbors:      </td><td>4.94117647058824  </td></tr>\n",
       "\t<tr><th scope=row>7</th><td># median neighbors:    </td><td>5                 </td></tr>\n",
       "\t<tr><th scope=row>8</th><td>has isolates:          </td><td>FALSE             </td></tr>\n",
       "</tbody>\n",
       "</table>\n"
      ],
      "text/latex": [
       "A data.frame: 8 x 2\n",
       "\\begin{tabular}{r|ll}\n",
       "  & name & value\\\\\n",
       "  & <I<chr>> & <I<chr>>\\\\\n",
       "\\hline\n",
       "\t1 & number of observations: & 85                \\\\\n",
       "\t2 & is symmetric:           & TRUE              \\\\\n",
       "\t3 & sparsity:               & 0.0581314878892734\\\\\n",
       "\t4 & \\# min neighbors:        & 2                 \\\\\n",
       "\t5 & \\# max neighbors:        & 8                 \\\\\n",
       "\t6 & \\# mean neighbors:       & 4.94117647058824  \\\\\n",
       "\t7 & \\# median neighbors:     & 5                 \\\\\n",
       "\t8 & has isolates:           & FALSE             \\\\\n",
       "\\end{tabular}\n"
      ],
      "text/markdown": [
       "\n",
       "A data.frame: 8 x 2\n",
       "\n",
       "| <!--/--> | name &lt;I&lt;chr&gt;&gt; | value &lt;I&lt;chr&gt;&gt; |\n",
       "|---|---|---|\n",
       "| 1 | number of observations: | 85                 |\n",
       "| 2 | is symmetric:           | TRUE               |\n",
       "| 3 | sparsity:               | 0.0581314878892734 |\n",
       "| 4 | # min neighbors:        | 2                  |\n",
       "| 5 | # max neighbors:        | 8                  |\n",
       "| 6 | # mean neighbors:       | 4.94117647058824   |\n",
       "| 7 | # median neighbors:     | 5                  |\n",
       "| 8 | has isolates:           | FALSE              |\n",
       "\n"
      ],
      "text/plain": [
       "  name                    value             \n",
       "1 number of observations: 85                \n",
       "2 is symmetric:           TRUE              \n",
       "3 sparsity:               0.0581314878892734\n",
       "4 # min neighbors:        2                 \n",
       "5 # max neighbors:        8                 \n",
       "6 # mean neighbors:       4.94117647058824  \n",
       "7 # median neighbors:     5                 \n",
       "8 has isolates:           FALSE             "
      ]
     },
     "metadata": {},
     "output_type": "display_data"
    },
    {
     "data": {
      "text/html": [
       "FALSE"
      ],
      "text/latex": [
       "FALSE"
      ],
      "text/markdown": [
       "FALSE"
      ],
      "text/plain": [
       "[1] FALSE"
      ]
     },
     "metadata": {},
     "output_type": "display_data"
    }
   ],
   "source": [
    "##### 3.2 Rook Contiguity Weights #####\n",
    "\n",
    "# The rook criterion defines neighbors by the existence of a common edge between two spatial units.\n",
    "# To create a Rook contiguity weights, one can call function: \n",
    "#rook_weights(sf_obj, order=1,include_lower_order=False, precision_threshold = 0)\n",
    "\n",
    "# For example, to create a Rook contiguity weights using the sf object guerry:\n",
    "  \n",
    "rook_w <- rook_weights(guerry)\n",
    "summary(rook_w)\n",
    "\n",
    "# The weights we created are in memory. To save the weights to a file, one can call the function:\n",
    "# save_weights(gda_w, id_variable, out_path, layer_name = \"\")\n",
    "\n",
    "# The id_variable defines the unique value of each observation when saving a weights file\n",
    "\n",
    "# The layer_name is the layer name of loaded dataset. \n",
    "# For a shapefile, the layer name is the file name without the suffix (e.g. Guerry). \n",
    "\n",
    "# For example, using Guerry dataset, the column \"CODE_DE\" can be used as a key to save a weights file:\n",
    "  \n",
    "save_weights(rook_w, guerry['CODE_DE'], out_path = '/Users/alessandragni/Downloads/Guerry_r.gal', \n",
    "             layer_name = 'Guerry')"
   ]
  },
  {
   "cell_type": "code",
   "execution_count": null,
   "metadata": {
    "vscode": {
     "languageId": "r"
    }
   },
   "outputs": [],
   "source": [
    "##### 3.3 Distance Based Weights #####\n",
    "\n",
    "# The most straightforward spatial weights matrix constructed from a distance measure \n",
    "# is obtained when i and j are considered neighbors whenever j falls within \n",
    "# a critical distance band from i. In order to start the distance based neighbors, \n",
    "# we first need to compute a threshold value. \n",
    "# rgeoda provides a function min_distthreshold to help you find a optimized \n",
    "# distance threshold that guarantees that every observation has at least one neighbor:\n",
    "# min_distthreshold(GeoDa gda, bool is_arc = False, is_mile = True)\n",
    "\n",
    "#To create a Distance based weights, one can call the function distance_weights:\n",
    "# Then, with this distance threshold, we can create a distance-band weights using the function:\n",
    "#distance_weights(geoda_obj, dist_thres, power=1.0,  is_inverse=False, is_arc=False, is_mile=True)\n",
    "\n",
    "# For example:   \n",
    "dist_thres <- min_distthreshold(guerry)\n",
    "dist_thres\n",
    "dist_w <- distance_weights(guerry, dist_thres)\n",
    "summary(dist_w)\n",
    "\n",
    "\n",
    "\n",
    "##### 3.4 K-Nearest Neighbor Weights #####\n",
    "\n",
    "# A special case of distance based weights is K-Nearest neighbor weights, \n",
    "# in which every observation will have exactly k neighbors. It can be used to avoid \n",
    "# the problem of isolate in distance-band weights when a smaller cut-off distance is used. \n",
    "# To create a KNN weights, we can call the function `knn_weights`:\n",
    "# knn_weights(gda, k, power = 1.0,is_inverse = False, is_arc = False, is_mile = True)\n",
    "\n",
    "# For example, to create a 6-nearest neighbor weights using Guerry:\n",
    "\n",
    "knn6_w <- knn_weights(guerry, 6)\n",
    "summary(knn6_w)\n",
    "\n",
    "\n",
    "\n",
    "\n",
    "\n",
    "#### 4 Local Indicators of Spatial Association–LISA ####\n",
    "\n",
    "# rgeoda provides following methods for local spatial autocorrelation statistics:\n",
    "  \n",
    "# - Local Moran: local_moran()\n",
    "# - Quantile LISA: local_quantilelisa()\n",
    "\n",
    "\n",
    "\n",
    "##### 4.1 Local Moran #####\n",
    "\n",
    "# The Local Moran statistic is a method to identify local clusters and local spatial outliers. \n",
    "# For example, we can call  the function `local_moran()` with the created Queen weights \n",
    "# and the data \"crm_prp = guerry['Crm_prp']\" as input parameters:\n",
    "  \n",
    "crm_prp = guerry[\"Crm_prp\"]\n",
    "lisa <- local_moran(queen_w, crm_prp)\n",
    "\n",
    "\n",
    "# The `local_moran()` function will return a `lisa` object, and we can access its \n",
    "# values/results of lisa computation using the following functions:\n",
    "  \n",
    "# - lisa_clusters(): Get the local cluster indicators returned from LISA computation.\n",
    "# - lisa_colors(): Get the cluster colors of LISA computation.\n",
    "# - lisa_labels(): Get the cluster labels of LISA computation.\n",
    "# - lisa_values(): Get the local spatial autocorrelation values returned from LISA computation.\n",
    "# - lisa_num_nbrs(): Get the number of neighbors of every observations in LISA computation.\n",
    "# - lisa_pvalues(): Get the local pseudo-p values of significance returned from LISA computation.\n",
    "\n",
    "\n",
    "# For example, we can call the function `lisa_values()` to get the values of the local Moran:\n",
    "\n",
    "lms <- lisa_values(gda_lisa = lisa)\n",
    "lms\n",
    "\n",
    "\n",
    "# To get the pseudo-p values of significance of local Moran computation:\n",
    "  \n",
    "pvals <- lisa_pvalues(lisa)\n",
    "pvals\n",
    "\n",
    "\n",
    "# To get the cluster indicators of local Moran computation:\n",
    "  \n",
    "cats <- lisa_clusters(lisa, cutoff = 0.05)\n",
    "cats\n",
    "\n",
    "\n",
    "# The predefined values of the indicators of LISA cluster are:\n",
    "\n",
    "# 0 Not significant\n",
    "# 1 High-High\n",
    "# 2 Low-Low\n",
    "# 3 High-Low\n",
    "# 4 Low-High\n",
    "# 5 Undefined\n",
    "# 6 Isolated\n",
    "\n",
    "# which can be accessed via the function lisa_labels():\n",
    "\n",
    "lbls <- lisa_labels(lisa)\n",
    "lbls\n",
    "\n",
    "\n",
    "# By default, the local_moran() function will run with some default parameters, e.g.:\n",
    "# significance_cutoff: 0.05\n",
    "# permutation: 999\n",
    "# permutation_method: 'complete'\n",
    "# cpu_threads: 6\n",
    "# seed (for random number generator): 123456789\n",
    "\n",
    "# which are identical to GeoDa desktop software so to replicate the results in GeoDa software. \n",
    "# You can set different values when calling the lisa functions.\n",
    "\n",
    "# For example, re-run the above local Moran example using 9999 permutations. \n",
    "lisa <- local_moran(queen_w, crm_prp, permutations = 9999)\n",
    "\n",
    "# Then, we can use the same lisa object to get the new results after 9999 permutations:\n",
    "\n",
    "pvals <- lisa_pvalues(lisa)\n",
    "pvals\n",
    "\n",
    "\n",
    "# rgeoda uses GeoDa C++ code, in which multi-threading is used to accelerate the computation of LISA. \n",
    "# We can use the argument `ncpu` to specify how many threads to run the computation:\n",
    "  \n",
    "lisa <- local_moran(queen_w, crm_prp, cpu_threads = 4)\n",
    "\n",
    "\n",
    "\n",
    "##### 4.2 Quantile LISA #####\n",
    "\n",
    "# The quantile local spatial autocorrelation converts the continuous variable \n",
    "# to a binary variable that takes the value of 1 for a specific quantile. \n",
    "# Then apply a local join count to the data converted. \n",
    "# Two input parameters, k and q, need to be specified in the function local_quantilelisa(): \n",
    "# k is the number of quantiles (k > 2), and the q is the index of selected quantile lisa ranging from 1 to k.\n",
    "\n",
    "# For example, \n",
    "\n",
    "qsa <- local_quantilelisa(queen_w, crm_prp, 5, 5)\n",
    "\n",
    "# To get the p-values and cluster indicators of the quantile LISA computation:\n",
    "lisa_pvalues(qsa)\n",
    "lisa_clusters(qsa)\n",
    "\n",
    "\n",
    "\n",
    "#### 6 Exploratory Spatial Data Analysis ####\n",
    "\n",
    "# For exploratory spatial data analysis, rgeoda provides some utility functions \n",
    "# to allow users to easily work with sf to visualize the results and do exploratory spatial data analysis.\n",
    "\n",
    "##### 6.1 Start from sf package #####\n",
    "\n",
    "# The sf package has been popular tool to handle geospatial data. \n",
    "# It is a good substitute of sp package which will be deprecated soon.\n",
    "\n",
    "# For example, we can simply call plot() function to render the first 9 choropleth maps \n",
    "# using the first 9 variables in the dataset:\n",
    "  \n",
    "plot(guerry)\n",
    "\n",
    "\n",
    "##### 6.2 Exploratory Spatial Data Analysis with rgeoda #####\n",
    "\n",
    "# Now, with the sf object guerry, you can call rgeoda's spatial analysis functions. \n",
    "# For example, to examine the local Moran statistics of variable \"crm_prs\" \n",
    "# (Population per Crime against persons):\n",
    "\n",
    "queen_w <- queen_weights(guerry)\n",
    "lisa <- local_moran(queen_w,  guerry['Crm_prs'])\n",
    "\n",
    "\n",
    "##### 6.3 Create Local Moran Map #####\n",
    "\n",
    "# With the LISA results, we can make a local Moran cluster map:\n",
    "\n",
    "lisa_colors <- lisa_colors(lisa)\n",
    "lisa_labels <- lisa_labels(lisa)\n",
    "lisa_clusters <- lisa_clusters(lisa)\n",
    "plot(st_geometry(guerry), \n",
    "     col=sapply(lisa_clusters, function(x){return(lisa_colors[[x+1]])}), \n",
    "     border = \"#333333\", lwd=0.2)\n",
    "title(main = \"Local Moran Map of Crm_prs\")\n",
    "legend('bottomleft', legend = lisa_labels, fill = lisa_colors, border = \"#eeeeee\")\n",
    "\n",
    "# In the above code, we use th values of cluster indicators from rgeoda's LISA object \n",
    "# are used to make the LISA map. We can save the clusters back to the original sf data.frame:\n",
    "\n",
    "guerry['moran_cluster'] <- lisa_clusters\n",
    "\n",
    "\n",
    "# Checking the values of the cluster indicators, we will see they are integer numbers \n",
    "# 0 (not significant), 1 (high-high cluster), 2 (low-low cluster), 3 (low-high cluster), \n",
    "# 4 (high-low cluster), 5 (neighborless/island), 6 (undefined):\n",
    "\n",
    "lisa_clusters\n",
    "\n",
    "# To create a significance map that is associated with the local Moran map, \n",
    "# we can do the same as making the local Moran cluster map using the results from lisa_pvalues():\n",
    "  \n",
    "lisa_p <- lisa_pvalues(lisa)\n",
    "p_labels <- c(\"Not significant\", \"p <= 0.05\", \"p <= 0.01\", \"p <= 0.001\")\n",
    "p_colors <- c(\"#eeeeee\", \"#84f576\", \"#53c53c\", \"#348124\")\n",
    "plot(st_geometry(guerry), \n",
    "     col=sapply(lisa_p, function(x){\n",
    "       if (x <= 0.001) return(p_colors[4])\n",
    "       else if (x <= 0.01) return(p_colors[3])\n",
    "       else if (x <= 0.05) return (p_colors[2])\n",
    "       else return(p_colors[1])\n",
    "     }), \n",
    "     border = \"#333333\", lwd=0.2)\n",
    "title(main = \"Local Moran Map of Crm_prs\")\n",
    "legend('bottomleft', legend = p_labels, fill = p_colors, border = \"#eeeeee\")\n",
    "\n"
   ]
  }
 ],
 "metadata": {
  "kernelspec": {
   "display_name": "R",
   "language": "R",
   "name": "ir"
  },
  "language_info": {
   "codemirror_mode": "r",
   "file_extension": ".r",
   "mimetype": "text/x-r-source",
   "name": "R",
   "pygments_lexer": "r",
   "version": "4.4.1"
  }
 },
 "nbformat": 4,
 "nbformat_minor": 2
}
