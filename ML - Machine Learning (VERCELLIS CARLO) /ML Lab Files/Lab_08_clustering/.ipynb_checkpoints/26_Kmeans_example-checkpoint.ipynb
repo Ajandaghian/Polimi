{
 "cells": [
  {
   "cell_type": "markdown",
   "metadata": {},
   "source": [
    "# A clustering example"
   ]
  },
  {
   "cell_type": "code",
   "execution_count": 1,
   "metadata": {},
   "outputs": [],
   "source": [
    "import pandas as pd\n",
    "import numpy as np\n",
    "\n",
    "X = pd.read_csv(\"random_dataset.csv\",index_col=0)"
   ]
  },
  {
   "cell_type": "code",
   "execution_count": 2,
   "metadata": {},
   "outputs": [
    {
     "data": {
      "text/html": [
       "<div>\n",
       "<style scoped>\n",
       "    .dataframe tbody tr th:only-of-type {\n",
       "        vertical-align: middle;\n",
       "    }\n",
       "\n",
       "    .dataframe tbody tr th {\n",
       "        vertical-align: top;\n",
       "    }\n",
       "\n",
       "    .dataframe thead th {\n",
       "        text-align: right;\n",
       "    }\n",
       "</style>\n",
       "<table border=\"1\" class=\"dataframe\">\n",
       "  <thead>\n",
       "    <tr style=\"text-align: right;\">\n",
       "      <th></th>\n",
       "      <th>0</th>\n",
       "      <th>1</th>\n",
       "      <th>2</th>\n",
       "      <th>3</th>\n",
       "      <th>4</th>\n",
       "      <th>5</th>\n",
       "      <th>6</th>\n",
       "      <th>7</th>\n",
       "      <th>8</th>\n",
       "      <th>9</th>\n",
       "      <th>...</th>\n",
       "      <th>54</th>\n",
       "      <th>55</th>\n",
       "      <th>56</th>\n",
       "      <th>57</th>\n",
       "      <th>58</th>\n",
       "      <th>59</th>\n",
       "      <th>60</th>\n",
       "      <th>61</th>\n",
       "      <th>62</th>\n",
       "      <th>63</th>\n",
       "    </tr>\n",
       "  </thead>\n",
       "  <tbody>\n",
       "    <tr>\n",
       "      <th>count</th>\n",
       "      <td>1797.0</td>\n",
       "      <td>1797.000000</td>\n",
       "      <td>1797.000000</td>\n",
       "      <td>1797.000000</td>\n",
       "      <td>1797.000000</td>\n",
       "      <td>1797.000000</td>\n",
       "      <td>1797.000000</td>\n",
       "      <td>1797.000000</td>\n",
       "      <td>1797.000000</td>\n",
       "      <td>1797.000000</td>\n",
       "      <td>...</td>\n",
       "      <td>1797.000000</td>\n",
       "      <td>1797.000000</td>\n",
       "      <td>1797.000000</td>\n",
       "      <td>1797.000000</td>\n",
       "      <td>1797.000000</td>\n",
       "      <td>1797.000000</td>\n",
       "      <td>1797.000000</td>\n",
       "      <td>1797.000000</td>\n",
       "      <td>1797.000000</td>\n",
       "      <td>1797.000000</td>\n",
       "    </tr>\n",
       "    <tr>\n",
       "      <th>mean</th>\n",
       "      <td>0.0</td>\n",
       "      <td>0.303840</td>\n",
       "      <td>5.204786</td>\n",
       "      <td>11.835838</td>\n",
       "      <td>11.848080</td>\n",
       "      <td>5.781859</td>\n",
       "      <td>1.362270</td>\n",
       "      <td>0.129661</td>\n",
       "      <td>0.005565</td>\n",
       "      <td>1.993879</td>\n",
       "      <td>...</td>\n",
       "      <td>3.725097</td>\n",
       "      <td>0.206455</td>\n",
       "      <td>0.000556</td>\n",
       "      <td>0.279354</td>\n",
       "      <td>5.557596</td>\n",
       "      <td>12.089037</td>\n",
       "      <td>11.809126</td>\n",
       "      <td>6.764051</td>\n",
       "      <td>2.067891</td>\n",
       "      <td>0.364496</td>\n",
       "    </tr>\n",
       "    <tr>\n",
       "      <th>std</th>\n",
       "      <td>0.0</td>\n",
       "      <td>0.907192</td>\n",
       "      <td>4.754826</td>\n",
       "      <td>4.248842</td>\n",
       "      <td>4.287388</td>\n",
       "      <td>5.666418</td>\n",
       "      <td>3.325775</td>\n",
       "      <td>1.037383</td>\n",
       "      <td>0.094222</td>\n",
       "      <td>3.196160</td>\n",
       "      <td>...</td>\n",
       "      <td>4.919406</td>\n",
       "      <td>0.984401</td>\n",
       "      <td>0.023590</td>\n",
       "      <td>0.934302</td>\n",
       "      <td>5.103019</td>\n",
       "      <td>4.374694</td>\n",
       "      <td>4.933947</td>\n",
       "      <td>5.900623</td>\n",
       "      <td>4.090548</td>\n",
       "      <td>1.860122</td>\n",
       "    </tr>\n",
       "    <tr>\n",
       "      <th>min</th>\n",
       "      <td>0.0</td>\n",
       "      <td>0.000000</td>\n",
       "      <td>0.000000</td>\n",
       "      <td>0.000000</td>\n",
       "      <td>0.000000</td>\n",
       "      <td>0.000000</td>\n",
       "      <td>0.000000</td>\n",
       "      <td>0.000000</td>\n",
       "      <td>0.000000</td>\n",
       "      <td>0.000000</td>\n",
       "      <td>...</td>\n",
       "      <td>0.000000</td>\n",
       "      <td>0.000000</td>\n",
       "      <td>0.000000</td>\n",
       "      <td>0.000000</td>\n",
       "      <td>0.000000</td>\n",
       "      <td>0.000000</td>\n",
       "      <td>0.000000</td>\n",
       "      <td>0.000000</td>\n",
       "      <td>0.000000</td>\n",
       "      <td>0.000000</td>\n",
       "    </tr>\n",
       "    <tr>\n",
       "      <th>25%</th>\n",
       "      <td>0.0</td>\n",
       "      <td>0.000000</td>\n",
       "      <td>1.000000</td>\n",
       "      <td>10.000000</td>\n",
       "      <td>10.000000</td>\n",
       "      <td>0.000000</td>\n",
       "      <td>0.000000</td>\n",
       "      <td>0.000000</td>\n",
       "      <td>0.000000</td>\n",
       "      <td>0.000000</td>\n",
       "      <td>...</td>\n",
       "      <td>0.000000</td>\n",
       "      <td>0.000000</td>\n",
       "      <td>0.000000</td>\n",
       "      <td>0.000000</td>\n",
       "      <td>1.000000</td>\n",
       "      <td>11.000000</td>\n",
       "      <td>10.000000</td>\n",
       "      <td>0.000000</td>\n",
       "      <td>0.000000</td>\n",
       "      <td>0.000000</td>\n",
       "    </tr>\n",
       "    <tr>\n",
       "      <th>50%</th>\n",
       "      <td>0.0</td>\n",
       "      <td>0.000000</td>\n",
       "      <td>4.000000</td>\n",
       "      <td>13.000000</td>\n",
       "      <td>13.000000</td>\n",
       "      <td>4.000000</td>\n",
       "      <td>0.000000</td>\n",
       "      <td>0.000000</td>\n",
       "      <td>0.000000</td>\n",
       "      <td>0.000000</td>\n",
       "      <td>...</td>\n",
       "      <td>1.000000</td>\n",
       "      <td>0.000000</td>\n",
       "      <td>0.000000</td>\n",
       "      <td>0.000000</td>\n",
       "      <td>4.000000</td>\n",
       "      <td>13.000000</td>\n",
       "      <td>14.000000</td>\n",
       "      <td>6.000000</td>\n",
       "      <td>0.000000</td>\n",
       "      <td>0.000000</td>\n",
       "    </tr>\n",
       "    <tr>\n",
       "      <th>75%</th>\n",
       "      <td>0.0</td>\n",
       "      <td>0.000000</td>\n",
       "      <td>9.000000</td>\n",
       "      <td>15.000000</td>\n",
       "      <td>15.000000</td>\n",
       "      <td>11.000000</td>\n",
       "      <td>0.000000</td>\n",
       "      <td>0.000000</td>\n",
       "      <td>0.000000</td>\n",
       "      <td>3.000000</td>\n",
       "      <td>...</td>\n",
       "      <td>7.000000</td>\n",
       "      <td>0.000000</td>\n",
       "      <td>0.000000</td>\n",
       "      <td>0.000000</td>\n",
       "      <td>10.000000</td>\n",
       "      <td>16.000000</td>\n",
       "      <td>16.000000</td>\n",
       "      <td>12.000000</td>\n",
       "      <td>2.000000</td>\n",
       "      <td>0.000000</td>\n",
       "    </tr>\n",
       "    <tr>\n",
       "      <th>max</th>\n",
       "      <td>0.0</td>\n",
       "      <td>8.000000</td>\n",
       "      <td>16.000000</td>\n",
       "      <td>16.000000</td>\n",
       "      <td>16.000000</td>\n",
       "      <td>16.000000</td>\n",
       "      <td>16.000000</td>\n",
       "      <td>15.000000</td>\n",
       "      <td>2.000000</td>\n",
       "      <td>16.000000</td>\n",
       "      <td>...</td>\n",
       "      <td>16.000000</td>\n",
       "      <td>13.000000</td>\n",
       "      <td>1.000000</td>\n",
       "      <td>9.000000</td>\n",
       "      <td>16.000000</td>\n",
       "      <td>16.000000</td>\n",
       "      <td>16.000000</td>\n",
       "      <td>16.000000</td>\n",
       "      <td>16.000000</td>\n",
       "      <td>16.000000</td>\n",
       "    </tr>\n",
       "  </tbody>\n",
       "</table>\n",
       "<p>8 rows × 64 columns</p>\n",
       "</div>"
      ],
      "text/plain": [
       "            0            1            2            3            4  \\\n",
       "count  1797.0  1797.000000  1797.000000  1797.000000  1797.000000   \n",
       "mean      0.0     0.303840     5.204786    11.835838    11.848080   \n",
       "std       0.0     0.907192     4.754826     4.248842     4.287388   \n",
       "min       0.0     0.000000     0.000000     0.000000     0.000000   \n",
       "25%       0.0     0.000000     1.000000    10.000000    10.000000   \n",
       "50%       0.0     0.000000     4.000000    13.000000    13.000000   \n",
       "75%       0.0     0.000000     9.000000    15.000000    15.000000   \n",
       "max       0.0     8.000000    16.000000    16.000000    16.000000   \n",
       "\n",
       "                 5            6            7            8            9  ...  \\\n",
       "count  1797.000000  1797.000000  1797.000000  1797.000000  1797.000000  ...   \n",
       "mean      5.781859     1.362270     0.129661     0.005565     1.993879  ...   \n",
       "std       5.666418     3.325775     1.037383     0.094222     3.196160  ...   \n",
       "min       0.000000     0.000000     0.000000     0.000000     0.000000  ...   \n",
       "25%       0.000000     0.000000     0.000000     0.000000     0.000000  ...   \n",
       "50%       4.000000     0.000000     0.000000     0.000000     0.000000  ...   \n",
       "75%      11.000000     0.000000     0.000000     0.000000     3.000000  ...   \n",
       "max      16.000000    16.000000    15.000000     2.000000    16.000000  ...   \n",
       "\n",
       "                54           55           56           57           58  \\\n",
       "count  1797.000000  1797.000000  1797.000000  1797.000000  1797.000000   \n",
       "mean      3.725097     0.206455     0.000556     0.279354     5.557596   \n",
       "std       4.919406     0.984401     0.023590     0.934302     5.103019   \n",
       "min       0.000000     0.000000     0.000000     0.000000     0.000000   \n",
       "25%       0.000000     0.000000     0.000000     0.000000     1.000000   \n",
       "50%       1.000000     0.000000     0.000000     0.000000     4.000000   \n",
       "75%       7.000000     0.000000     0.000000     0.000000    10.000000   \n",
       "max      16.000000    13.000000     1.000000     9.000000    16.000000   \n",
       "\n",
       "                59           60           61           62           63  \n",
       "count  1797.000000  1797.000000  1797.000000  1797.000000  1797.000000  \n",
       "mean     12.089037    11.809126     6.764051     2.067891     0.364496  \n",
       "std       4.374694     4.933947     5.900623     4.090548     1.860122  \n",
       "min       0.000000     0.000000     0.000000     0.000000     0.000000  \n",
       "25%      11.000000    10.000000     0.000000     0.000000     0.000000  \n",
       "50%      13.000000    14.000000     6.000000     0.000000     0.000000  \n",
       "75%      16.000000    16.000000    12.000000     2.000000     0.000000  \n",
       "max      16.000000    16.000000    16.000000    16.000000    16.000000  \n",
       "\n",
       "[8 rows x 64 columns]"
      ]
     },
     "execution_count": 2,
     "metadata": {},
     "output_type": "execute_result"
    }
   ],
   "source": [
    "X.describe()"
   ]
  },
  {
   "cell_type": "code",
   "execution_count": 3,
   "metadata": {},
   "outputs": [
    {
     "data": {
      "text/plain": [
       "(1797, 64)"
      ]
     },
     "execution_count": 3,
     "metadata": {},
     "output_type": "execute_result"
    }
   ],
   "source": [
    "X.shape"
   ]
  },
  {
   "cell_type": "code",
   "execution_count": 4,
   "metadata": {},
   "outputs": [
    {
     "data": {
      "image/png": "[encoded data removed]",
      "text/plain": [
       "<Figure size 432x288 with 1 Axes>"
      ]
     },
     "metadata": {
      "needs_background": "light"
     },
     "output_type": "display_data"
    }
   ],
   "source": [
    "from sklearn.cluster import KMeans\n",
    "%matplotlib inline\n",
    "import matplotlib.pyplot as plt\n",
    "\n",
    "\n",
    "distorsions = [] #empty list\n",
    "\n",
    "for i in range(1,25):\n",
    "    km = KMeans(n_clusters=i, init ='random',n_init=10,max_iter=300,random_state=0)\n",
    "    km.fit(X)\n",
    "    distorsions.append(km.inertia_)\n",
    "    \n",
    "plt.plot(range(1,25), distorsions, marker='o')\n",
    "plt.xlabel('Number of Clusters')\n",
    "plt.ylabel('Distortion')\n",
    "plt.show()"
   ]
  },
  {
   "cell_type": "code",
   "execution_count": 21,
   "metadata": {
    "scrolled": false
   },
   "outputs": [
    {
     "data": {
      "image/png": "[encoded data removed]",
      "text/plain": [
       "<Figure size 432x288 with 1 Axes>"
      ]
     },
     "metadata": {
      "needs_background": "light"
     },
     "output_type": "display_data"
    },
    {
     "data": {
      "image/png": "[encoded data removed]",
      "text/plain": [
       "<Figure size 432x288 with 1 Axes>"
      ]
     },
     "metadata": {
      "needs_background": "light"
     },
     "output_type": "display_data"
    },
    {
     "data": {
      "image/png": "[encoded data removed]",
      "text/plain": [
       "<Figure size 432x288 with 1 Axes>"
      ]
     },
     "metadata": {
      "needs_background": "light"
     },
     "output_type": "display_data"
    },
    {
     "data": {
      "image/png": "[encoded data removed]",
      "text/plain": [
       "<Figure size 432x288 with 1 Axes>"
      ]
     },
     "metadata": {
      "needs_background": "light"
     },
     "output_type": "display_data"
    },
    {
     "data": {
      "image/png": "[encoded data removed]",
      "text/plain": [
       "<Figure size 432x288 with 1 Axes>"
      ]
     },
     "metadata": {
      "needs_background": "light"
     },
     "output_type": "display_data"
    },
    {
     "data": {
      "image/png": "[encoded data removed]",
      "text/plain": [
       "<Figure size 432x288 with 1 Axes>"
      ]
     },
     "metadata": {
      "needs_background": "light"
     },
     "output_type": "display_data"
    },
    {
     "data": {
      "image/png": "[encoded data removed]",
      "text/plain": [
       "<Figure size 432x288 with 1 Axes>"
      ]
     },
     "metadata": {
      "needs_background": "light"
     },
     "output_type": "display_data"
    },
    {
     "data": {
      "image/png": "[encoded data removed]",
      "text/plain": [
       "<Figure size 432x288 with 1 Axes>"
      ]
     },
     "metadata": {
      "needs_background": "light"
     },
     "output_type": "display_data"
    },
    {
     "data": {
      "image/png": "[encoded data removed]",
      "text/plain": [
       "<Figure size 432x288 with 1 Axes>"
      ]
     },
     "metadata": {
      "needs_background": "light"
     },
     "output_type": "display_data"
    },
    {
     "data": {
      "image/png": "[encoded data removed]",
      "text/plain": [
       "<Figure size 432x288 with 1 Axes>"
      ]
     },
     "metadata": {
      "needs_background": "light"
     },
     "output_type": "display_data"
    },
    {
     "data": {
      "image/png": "[encoded data removed]",
      "text/plain": [
       "<Figure size 432x288 with 1 Axes>"
      ]
     },
     "metadata": {
      "needs_background": "light"
     },
     "output_type": "display_data"
    },
    {
     "data": {
      "image/png": "[encoded data removed]",
      "text/plain": [
       "<Figure size 432x288 with 1 Axes>"
      ]
     },
     "metadata": {
      "needs_background": "light"
     },
     "output_type": "display_data"
    }
   ],
   "source": [
    "import numpy as np\n",
    "import matplotlib.cm as cm\n",
    "from sklearn.metrics import silhouette_samples, silhouette_score\n",
    "from sklearn.cluster import KMeans\n",
    "\n",
    "\n",
    "for j in range(2,14):\n",
    "    km = KMeans(n_clusters=j, \n",
    "                init='random',  #init=’k-means++’ \n",
    "                n_init=10, \n",
    "                max_iter=300, \n",
    "                tol=1e-04, \n",
    "                random_state=0) #init=’k-means++’ see notes below\n",
    "\n",
    "    km.fit(X) #Compute k-means clustering.\n",
    "    y_km = km.predict(X) \n",
    "    cluster_labels = np.unique(y_km)\n",
    "\n",
    "    silhouette_vals = silhouette_samples(X, y_km, metric='euclidean')\n",
    "\n",
    "    y_ax_lower, y_ax_upper=0,0\n",
    "    plt.figure(j)\n",
    "    plt.xlim([-0.2, 0.5])\n",
    "    \n",
    "    for i in cluster_labels: #for each cluster do:\n",
    "        c_silhouette_vals = silhouette_vals[y_km==i]\n",
    "        c_silhouette_vals.sort()\n",
    "        y_ax_upper += len(c_silhouette_vals)\n",
    "        plt.barh(range(y_ax_lower, y_ax_upper), c_silhouette_vals, height=1) #Make a horizontal bar plot.\n",
    "        #The bars are positioned at y with the given alignment. Their dimensions are given by width and height. \n",
    "        y_ax_lower += len(c_silhouette_vals)\n",
    "    silhouette_avg = np.mean(silhouette_vals)\n",
    "    plt.axvline(silhouette_avg, color='red', linestyle='--')\n",
    "    plt.title(str(j)+\" clusters\")"
   ]
  },
  {
   "cell_type": "code",
   "execution_count": 6,
   "metadata": {},
   "outputs": [
    {
     "data": {
      "text/plain": [
       "(array([176., 224., 175., 182., 165., 206.,  93., 179., 248., 149.]),\n",
       " array([0. , 0.9, 1.8, 2.7, 3.6, 4.5, 5.4, 6.3, 7.2, 8.1, 9. ]),\n",
       " <BarContainer object of 10 artists>)"
      ]
     },
     "execution_count": 6,
     "metadata": {},
     "output_type": "execute_result"
    },
    {
     "data": {
      "image/png": "[encoded data removed]",
      "text/plain": [
       "<Figure size 432x288 with 1 Axes>"
      ]
     },
     "metadata": {
      "needs_background": "light"
     },
     "output_type": "display_data"
    }
   ],
   "source": [
    "km = KMeans(n_clusters=10, \n",
    "            init='random',  #init=’k-means++’ \n",
    "            n_init=9, \n",
    "            max_iter=300, \n",
    "            tol=1e-04, \n",
    "            random_state=0) #init=’k-means++’ see notes below\n",
    "\n",
    "km.fit(X) #Compute k-means clustering.\n",
    "y_km = km.predict(X) \n",
    "\n",
    "plt.hist(y_km)"
   ]
  },
  {
   "cell_type": "code",
   "execution_count": 8,
   "metadata": {},
   "outputs": [
    {
     "data": {
      "text/plain": [
       "array([[ 0.00000000e+00,  5.96590909e-01,  8.71590909e+00,\n",
       "         1.46306818e+01,  1.40454545e+01,  7.00568182e+00,\n",
       "         5.45454545e-01, -5.55111512e-17,  1.13636364e-02,\n",
       "         4.20454545e+00,  1.26022727e+01,  9.07386364e+00,\n",
       "         1.12386364e+01,  1.19602273e+01,  1.84659091e+00,\n",
       "         1.13636364e-02,  5.68181818e-03,  1.85795455e+00,\n",
       "         3.53977273e+00,  3.47159091e+00,  1.17897727e+01,\n",
       "         9.92613636e+00,  8.57954545e-01, -2.08166817e-17,\n",
       "        -4.33680869e-19,  3.97727273e-02,  9.09090909e-01,\n",
       "         8.30681818e+00,  1.38295455e+01,  6.76704545e+00,\n",
       "         3.06818182e-01, -8.67361738e-19,  0.00000000e+00,\n",
       "         6.25000000e-02,  6.81818182e-01,  4.60227273e+00,\n",
       "         1.17613636e+01,  1.23125000e+01,  2.32954545e+00,\n",
       "         0.00000000e+00, -3.46944695e-18,  4.54545455e-01,\n",
       "         1.44318182e+00,  6.93181818e-01,  4.17613636e+00,\n",
       "         1.23693182e+01,  6.36363636e+00,  5.68181818e-03,\n",
       "         1.73472348e-18,  9.26136364e-01,  7.28409091e+00,\n",
       "         6.59090909e+00,  8.59659091e+00,  1.37215909e+01,\n",
       "         6.09090909e+00,  1.76136364e-01, -2.16840434e-19,\n",
       "         4.77272727e-01,  9.52840909e+00,  1.49829545e+01,\n",
       "         1.41420455e+01,  8.88068182e+00,  1.85227273e+00,\n",
       "         4.20454545e-01],\n",
       "       [ 0.00000000e+00,  1.11607143e-01,  4.00892857e+00,\n",
       "         1.18883929e+01,  1.23571429e+01,  5.36607143e+00,\n",
       "         4.33035714e-01,  2.77555756e-17,  8.92857143e-03,\n",
       "         8.57142857e-01,  8.24553571e+00,  1.35669643e+01,\n",
       "         1.26071429e+01,  9.87053571e+00,  1.56696429e+00,\n",
       "        -2.77555756e-17,  1.30104261e-18,  1.21428571e+00,\n",
       "         8.33928571e+00,  1.19062500e+01,  1.22857143e+01,\n",
       "         9.47321429e+00,  1.04464286e+00,  0.00000000e+00,\n",
       "         2.16840434e-19,  9.41964286e-01,  7.20982143e+00,\n",
       "         1.40982143e+01,  1.41651786e+01,  4.98660714e+00,\n",
       "         2.09821429e-01,  4.33680869e-19,  0.00000000e+00,\n",
       "         7.67857143e-01,  8.00446429e+00,  1.47901786e+01,\n",
       "         1.29151786e+01,  2.19642857e+00,  1.78571429e-02,\n",
       "         0.00000000e+00,  1.73472348e-18,  1.24107143e+00,\n",
       "         1.05267857e+01,  1.19910714e+01,  1.21383929e+01,\n",
       "         4.08482143e+00,  2.09821429e-01,  6.93889390e-18,\n",
       "         1.33928571e-02,  8.79464286e-01,  9.62946429e+00,\n",
       "         1.15044643e+01,  1.20714286e+01,  5.64732143e+00,\n",
       "         6.51785714e-01,  4.46428571e-03,  4.46428571e-03,\n",
       "         1.11607143e-01,  4.22321429e+00,  1.20089286e+01,\n",
       "         1.26607143e+01,  4.90625000e+00,  8.12500000e-01,\n",
       "         8.92857143e-03],\n",
       "       [ 0.00000000e+00,  9.42857143e-01,  1.01885714e+01,\n",
       "         1.44400000e+01,  7.77142857e+00,  9.82857143e-01,\n",
       "        -6.66133815e-16, -2.77555756e-17,  2.28571429e-02,\n",
       "         5.24000000e+00,  1.37200000e+01,  1.26228571e+01,\n",
       "         1.16914286e+01,  3.23428571e+00,  1.71428571e-02,\n",
       "        -2.77555756e-17,  1.14285714e-02,  4.56000000e+00,\n",
       "         8.11428571e+00,  6.13714286e+00,  1.21600000e+01,\n",
       "         3.56000000e+00,  1.71428571e-02, -1.38777878e-17,\n",
       "        -2.16840434e-19,  9.65714286e-01,  2.81714286e+00,\n",
       "         7.00571429e+00,  1.25371429e+01,  2.56000000e+00,\n",
       "         4.00000000e-02, -4.33680869e-19,  0.00000000e+00,\n",
       "         4.57142857e-02,  1.57142857e+00,  9.89714286e+00,\n",
       "         1.06971429e+01,  1.45142857e+00, -4.44089210e-16,\n",
       "         0.00000000e+00, -1.73472348e-18,  2.51428571e-01,\n",
       "         4.45714286e+00,  1.12457143e+01,  7.74285714e+00,\n",
       "         2.37142857e+00,  8.45714286e-01,  1.14285714e-02,\n",
       "         1.73472348e-18,  1.19428571e+00,  1.09942857e+01,\n",
       "         1.37314286e+01,  1.19257143e+01,  1.11600000e+01,\n",
       "         7.66857143e+00,  1.10285714e+00, -1.08420217e-19,\n",
       "         9.31428571e-01,  1.03885714e+01,  1.44685714e+01,\n",
       "         1.35028571e+01,  1.23542857e+01,  8.96571429e+00,\n",
       "         2.95428571e+00],\n",
       "       [ 0.00000000e+00,  1.11022302e-16,  1.15934066e+00,\n",
       "         1.12252747e+01,  9.53296703e+00,  1.41758242e+00,\n",
       "         5.49450549e-03, -5.55111512e-17,  2.60208521e-18,\n",
       "         6.04395604e-02,  7.18131868e+00,  1.45604396e+01,\n",
       "         6.19230769e+00,  8.29670330e-01,  2.74725275e-02,\n",
       "        -1.38777878e-17,  1.30104261e-18,  7.69230769e-01,\n",
       "         1.24560440e+01,  9.47252747e+00,  9.34065934e-01,\n",
       "         1.09890110e-01,  0.00000000e+00, -6.93889390e-18,\n",
       "        -4.33680869e-19,  2.29670330e+00,  1.36208791e+01,\n",
       "         8.09340659e+00,  3.87362637e+00,  1.92857143e+00,\n",
       "         1.04395604e-01, -8.67361738e-19,  0.00000000e+00,\n",
       "         3.52747253e+00,  1.46758242e+01,  1.29175824e+01,\n",
       "         1.22527473e+01,  1.02857143e+01,  2.71978022e+00,\n",
       "         0.00000000e+00, -3.46944695e-18,  1.86813187e+00,\n",
       "         1.45164835e+01,  1.06538462e+01,  5.57692308e+00,\n",
       "         1.01923077e+01,  9.13186813e+00,  2.30769231e-01,\n",
       "         8.67361738e-19,  1.75824176e-01,  1.02857143e+01,\n",
       "         1.26263736e+01,  5.41758242e+00,  1.13241758e+01,\n",
       "         1.08956044e+01,  6.26373626e-01, -2.16840434e-19,\n",
       "         0.00000000e+00,  1.44505495e+00,  1.07362637e+01,\n",
       "         1.50989011e+01,  1.31318681e+01,  4.62087912e+00,\n",
       "         1.70329670e-01],\n",
       "       [ 0.00000000e+00,  1.11022302e-16,  2.90909091e-01,\n",
       "         7.11515152e+00,  1.19818182e+01,  1.94545455e+00,\n",
       "         1.51515152e-01,  5.45454545e-02,  2.60208521e-18,\n",
       "         1.21212121e-02,  3.24848485e+00,  1.38000000e+01,\n",
       "         8.50909091e+00,  1.50303030e+00,  9.27272727e-01,\n",
       "         2.78787879e-01,  1.30104261e-18,  6.30303030e-01,\n",
       "         1.06787879e+01,  1.16121212e+01,  4.32727273e+00,\n",
       "         5.20000000e+00,  3.86666667e+00,  3.27272727e-01,\n",
       "         6.06060606e-03,  4.74545455e+00,  1.47575758e+01,\n",
       "         5.89090909e+00,  6.83636364e+00,  1.07636364e+01,\n",
       "         6.22424242e+00,  1.81818182e-02,  0.00000000e+00,\n",
       "         8.92121212e+00,  1.48181818e+01,  9.35757576e+00,\n",
       "         1.27939394e+01,  1.43878788e+01,  5.47272727e+00,\n",
       "         0.00000000e+00,  9.69696970e-02,  6.50303030e+00,\n",
       "         1.16606061e+01,  1.23212121e+01,  1.48606061e+01,\n",
       "         1.08000000e+01,  1.57575758e+00,  3.46944695e-18,\n",
       "         6.06060606e-02,  1.12121212e+00,  3.00000000e+00,\n",
       "         7.72727273e+00,  1.41393939e+01,  4.15757576e+00,\n",
       "         1.81818182e-02, -8.32667268e-17, -1.08420217e-19,\n",
       "         2.42424242e-02,  3.51515152e-01,  7.91515152e+00,\n",
       "         1.23818182e+01,  1.78181818e+00, -8.88178420e-16,\n",
       "         0.00000000e+00],\n",
       "       [ 0.00000000e+00,  1.60194175e-01,  4.92718447e+00,\n",
       "         1.29514563e+01,  1.39805825e+01,  1.08349515e+01,\n",
       "         4.89805825e+00,  9.32038835e-01,  3.46944695e-18,\n",
       "         1.12135922e+00,  1.07378641e+01,  1.15145631e+01,\n",
       "         1.03446602e+01,  1.25485437e+01,  5.43689320e+00,\n",
       "         5.33980583e-01,  1.73472348e-18,  1.19417476e+00,\n",
       "         5.59223301e+00,  2.31553398e+00,  6.86893204e+00,\n",
       "         1.15728155e+01,  3.33495146e+00,  1.11650485e-01,\n",
       "        -2.16840434e-19,  1.00000000e+00,  5.15048544e+00,\n",
       "         6.50485437e+00,  1.22038835e+01,  1.20388350e+01,\n",
       "         4.73786408e+00,  4.85436893e-03,  0.00000000e+00,\n",
       "         1.45631068e+00,  8.62135922e+00,  1.30242718e+01,\n",
       "         1.46747573e+01,  1.06116505e+01,  3.91747573e+00,\n",
       "         0.00000000e+00, -1.73472348e-18,  1.11650485e+00,\n",
       "         5.13592233e+00,  1.15679612e+01,  1.10242718e+01,\n",
       "         3.62135922e+00,  5.33980583e-01,  1.04083409e-17,\n",
       "         4.33680869e-18,  1.01941748e-01,  3.00485437e+00,\n",
       "         1.23689320e+01,  6.30582524e+00,  4.02912621e-01,\n",
       "         9.70873786e-03, -1.38777878e-16, -1.08420217e-19,\n",
       "         1.26213592e-01,  6.14077670e+00,  1.20533981e+01,\n",
       "         2.58737864e+00,  2.76699029e-01,  3.39805825e-02,\n",
       "         1.66533454e-16],\n",
       "       [ 0.00000000e+00, -5.55111512e-17,  3.22580645e-02,\n",
       "         1.84946237e+00,  1.10645161e+01,  1.25268817e+01,\n",
       "         4.21505376e+00,  2.58064516e-01,  8.67361738e-19,\n",
       "         5.37634409e-02,  1.95698925e+00,  8.93548387e+00,\n",
       "         1.37741935e+01,  1.24301075e+01,  5.27956989e+00,\n",
       "         3.22580645e-01,  4.33680869e-19,  1.56989247e+00,\n",
       "         8.66666667e+00,  1.24408602e+01,  1.19032258e+01,\n",
       "         1.28387097e+01,  3.98924731e+00,  1.39784946e-01,\n",
       "         0.00000000e+00,  3.55913978e+00,  1.19784946e+01,\n",
       "         1.17634409e+01,  1.29354839e+01,  1.35376344e+01,\n",
       "         2.61290323e+00,  0.00000000e+00,  0.00000000e+00,\n",
       "         1.94623656e+00,  6.87096774e+00,  7.44086022e+00,\n",
       "         1.18172043e+01,  1.26021505e+01,  1.89247312e+00,\n",
       "         0.00000000e+00,  0.00000000e+00,  7.84946237e-01,\n",
       "         2.01075269e+00,  3.77419355e+00,  1.16774194e+01,\n",
       "         1.19354839e+01,  1.20430108e+00, -3.46944695e-18,\n",
       "        -1.73472348e-18,  6.45161290e-02,  3.11827957e-01,\n",
       "         3.02150538e+00,  1.24623656e+01,  1.16021505e+01,\n",
       "         1.65591398e+00, -8.32667268e-17,  0.00000000e+00,\n",
       "        -5.55111512e-17, -8.88178420e-16,  1.96774194e+00,\n",
       "         1.13978495e+01,  1.05698925e+01,  1.68817204e+00,\n",
       "         0.00000000e+00],\n",
       "       [ 0.00000000e+00,  2.23463687e-02,  4.22905028e+00,\n",
       "         1.31396648e+01,  1.12681564e+01,  2.93854749e+00,\n",
       "         3.35195531e-02, -2.77555756e-17,  2.60208521e-18,\n",
       "         8.82681564e-01,  1.26201117e+01,  1.33687151e+01,\n",
       "         1.14078212e+01,  1.13687151e+01,  9.60893855e-01,\n",
       "        -1.38777878e-17,  1.30104261e-18,  3.72625698e+00,\n",
       "         1.42122905e+01,  5.25139665e+00,  2.10614525e+00,\n",
       "         1.21173184e+01,  3.53072626e+00, -1.38777878e-17,\n",
       "        -2.16840434e-19,  5.29608939e+00,  1.26424581e+01,\n",
       "         2.03351955e+00,  2.29050279e-01,  9.07821229e+00,\n",
       "         6.47486034e+00, -4.33680869e-19,  0.00000000e+00,\n",
       "         5.88268156e+00,  1.14916201e+01,  8.65921788e-01,\n",
       "         3.35195531e-02,  8.81005587e+00,  7.15083799e+00,\n",
       "         0.00000000e+00, -1.73472348e-18,  3.51396648e+00,\n",
       "         1.32849162e+01,  1.65921788e+00,  1.49162011e+00,\n",
       "         1.13519553e+01,  5.84357542e+00,  3.46944695e-18,\n",
       "         8.67361738e-19,  8.04469274e-01,  1.31117318e+01,\n",
       "         9.96089385e+00,  1.03519553e+01,  1.32960894e+01,\n",
       "         2.47486034e+00,  2.23463687e-02, -1.08420217e-19,\n",
       "         5.58659218e-03,  4.19553073e+00,  1.35865922e+01,\n",
       "         1.33407821e+01,  5.48044693e+00,  3.18435754e-01,\n",
       "         1.67597765e-02],\n",
       "       [ 0.00000000e+00,  1.97580645e-01,  6.49193548e+00,\n",
       "         1.24879032e+01,  1.18669355e+01,  5.69758065e+00,\n",
       "         6.85483871e-01,  8.06451613e-03,  4.03225806e-03,\n",
       "         2.61290323e+00,  1.39919355e+01,  9.22177419e+00,\n",
       "         9.44354839e+00,  1.04314516e+01,  1.32661290e+00,\n",
       "         4.03225806e-03,  1.30104261e-18,  4.31451613e+00,\n",
       "         1.28588710e+01,  4.48790323e+00,  6.94758065e+00,\n",
       "         1.11209677e+01,  1.88709677e+00,  0.00000000e+00,\n",
       "         2.16840434e-19,  2.31854839e+00,  1.04072581e+01,\n",
       "         1.17782258e+01,  1.32096774e+01,  1.20403226e+01,\n",
       "         2.46370968e+00,  4.33680869e-19,  0.00000000e+00,\n",
       "         3.02419355e-01,  3.17338710e+00,  6.12096774e+00,\n",
       "         6.76612903e+00,  1.12822581e+01,  4.26612903e+00,\n",
       "         0.00000000e+00,  1.73472348e-18,  2.17741935e-01,\n",
       "         2.32661290e+00,  1.95161290e+00,  1.67741935e+00,\n",
       "         1.09798387e+01,  6.41129032e+00,  1.61290323e-02,\n",
       "         4.33680869e-18,  7.62096774e-01,  8.10887097e+00,\n",
       "         5.66532258e+00,  4.75806452e+00,  1.22217742e+01,\n",
       "         5.97983871e+00,  1.12903226e-01,  1.08420217e-19,\n",
       "         1.69354839e-01,  6.39516129e+00,  1.34717742e+01,\n",
       "         1.44879032e+01,  9.93548387e+00,  2.31451613e+00,\n",
       "         1.12903226e-01],\n",
       "       [ 0.00000000e+00,  1.10738255e+00,  1.00268456e+01,\n",
       "         1.34093960e+01,  1.41610738e+01,  1.25369128e+01,\n",
       "         4.37583893e+00,  4.02684564e-02,  6.71140940e-03,\n",
       "         4.55704698e+00,  1.49328859e+01,  1.25637584e+01,\n",
       "         8.70469799e+00,  7.03355705e+00,  2.47651007e+00,\n",
       "         3.35570470e-02,  1.34228188e-02,  6.07382550e+00,\n",
       "         1.45302013e+01,  5.95302013e+00,  1.97315436e+00,\n",
       "         1.02684564e+00,  2.01342282e-01, -1.38777878e-17,\n",
       "         6.71140940e-03,  5.30201342e+00,  1.43355705e+01,\n",
       "         1.23624161e+01,  7.85906040e+00,  2.26174497e+00,\n",
       "         1.47651007e-01,  0.00000000e+00,  0.00000000e+00,\n",
       "         1.94630872e+00,  8.15436242e+00,  1.00939597e+01,\n",
       "         1.02684564e+01,  5.51006711e+00,  6.37583893e-01,\n",
       "         0.00000000e+00,  0.00000000e+00,  3.02013423e-01,\n",
       "         1.39597315e+00,  4.87248322e+00,  9.87248322e+00,\n",
       "         7.02013423e+00,  7.78523490e-01,  0.00000000e+00,\n",
       "         8.67361738e-19,  8.05369128e-01,  5.06040268e+00,\n",
       "         9.47651007e+00,  1.21275168e+01,  5.27516779e+00,\n",
       "         4.42953020e-01, -1.11022302e-16,  0.00000000e+00,\n",
       "         1.05369128e+00,  1.08926174e+01,  1.45369128e+01,\n",
       "         7.83892617e+00,  1.08724832e+00,  2.01342282e-02,\n",
       "         0.00000000e+00]])"
      ]
     },
     "execution_count": 8,
     "metadata": {},
     "output_type": "execute_result"
    }
   ],
   "source": [
    "km.cluster_centers_"
   ]
  },
  {
   "cell_type": "code",
   "execution_count": 9,
   "metadata": {},
   "outputs": [
    {
     "name": "stdout",
     "output_type": "stream",
     "text": [
      ".. _digits_dataset:\n",
      "\n",
      "Optical recognition of handwritten digits dataset\n",
      "--------------------------------------------------\n",
      "\n",
      "**Data Set Characteristics:**\n",
      "\n",
      "    :Number of Instances: 1797\n",
      "    :Number of Attributes: 64\n",
      "    :Attribute Information: 8x8 image of integer pixels in the range 0..16.\n",
      "    :Missing Attribute Values: None\n",
      "    :Creator: E. Alpaydin (alpaydin '@' boun.edu.tr)\n",
      "    :Date: July; 1998\n",
      "\n",
      "This is a copy of the test set of the UCI ML hand-written digits datasets\n",
      "https://archive.ics.uci.edu/ml/datasets/Optical+Recognition+of+Handwritten+Digits\n",
      "\n",
      "The data set contains images of hand-written digits: 10 classes where\n",
      "each class refers to a digit.\n",
      "\n",
      "Preprocessing programs made available by NIST were used to extract\n",
      "normalized bitmaps of handwritten digits from a preprinted form. From a\n",
      "total of 43 people, 30 contributed to the training set and different 13\n",
      "to the test set. 32x32 bitmaps are divided into nonoverlapping blocks of\n",
      "4x4 and the number of on pixels are counted in each block. This generates\n",
      "an input matrix of 8x8 where each element is an integer in the range\n",
      "0..16. This reduces dimensionality and gives invariance to small\n",
      "distortions.\n",
      "\n",
      "For info on NIST preprocessing routines, see M. D. Garris, J. L. Blue, G.\n",
      "T. Candela, D. L. Dimmick, J. Geist, P. J. Grother, S. A. Janet, and C.\n",
      "L. Wilson, NIST Form-Based Handprint Recognition System, NISTIR 5469,\n",
      "1994.\n",
      "\n",
      ".. topic:: References\n",
      "\n",
      "  - C. Kaynak (1995) Methods of Combining Multiple Classifiers and Their\n",
      "    Applications to Handwritten Digit Recognition, MSc Thesis, Institute of\n",
      "    Graduate Studies in Science and Engineering, Bogazici University.\n",
      "  - E. Alpaydin, C. Kaynak (1998) Cascading Classifiers, Kybernetika.\n",
      "  - Ken Tang and Ponnuthurai N. Suganthan and Xi Yao and A. Kai Qin.\n",
      "    Linear dimensionalityreduction using relevance weighted LDA. School of\n",
      "    Electrical and Electronic Engineering Nanyang Technological University.\n",
      "    2005.\n",
      "  - Claudio Gentile. A New Approximate Maximal Margin Classification\n",
      "    Algorithm. NIPS. 2000.\n",
      "\n"
     ]
    }
   ],
   "source": [
    "from sklearn.datasets import load_digits\n",
    "digits = load_digits()\n",
    "print(digits.DESCR)"
   ]
  },
  {
   "cell_type": "code",
   "execution_count": 15,
   "metadata": {
    "scrolled": false
   },
   "outputs": [
    {
     "data": {
      "image/png": "[encoded data removed]",
      "text/plain": [
       "<Figure size 288x288 with 1 Axes>"
      ]
     },
     "metadata": {
      "needs_background": "light"
     },
     "output_type": "display_data"
    },
    {
     "name": "stdout",
     "output_type": "stream",
     "text": [
      "9\n",
      "[ 0.  0.  3. 11. 15. 13.  2.  0.  0.  2. 15. 11.  8. 14.  7.  0.  0.  8.\n",
      " 14.  0.  2. 13.  2.  0.  0.  3. 13. 16. 16. 15.  1.  0.  0.  0.  0.  0.\n",
      " 14.  5.  0.  0.  0.  0.  0.  7. 14.  0.  0.  0.  0.  0.  1. 15.  4.  0.\n",
      "  0.  0.  0.  0.  2. 16.  1.  0.  0.  0.]\n"
     ]
    },
    {
     "data": {
      "image/png": "[encoded data removed]",
      "text/plain": [
       "<Figure size 288x288 with 1 Axes>"
      ]
     },
     "metadata": {
      "needs_background": "light"
     },
     "output_type": "display_data"
    },
    {
     "name": "stdout",
     "output_type": "stream",
     "text": [
      "9\n",
      "[ 0.  1. 10. 13.  9.  2.  0.  0.  0.  2. 12.  4. 12. 10.  0.  0.  0.  0.\n",
      " 14.  5. 11. 11.  0.  0.  0.  0.  2.  8.  8. 15.  2.  0.  0.  0.  0.  0.\n",
      "  0. 12.  5.  0.  0.  0.  0.  0.  0.  4. 12.  0.  0.  0.  4.  1.  0.  8.\n",
      " 11.  0.  0.  0. 11. 16. 16. 14.  3.  0.]\n"
     ]
    },
    {
     "data": {
      "image/png": "[encoded data removed]",
      "text/plain": [
       "<Figure size 288x288 with 1 Axes>"
      ]
     },
     "metadata": {
      "needs_background": "light"
     },
     "output_type": "display_data"
    },
    {
     "name": "stdout",
     "output_type": "stream",
     "text": [
      "4\n",
      "[ 0.  0.  0. 10. 12.  0.  0.  0.  0.  0.  4. 15.  1.  0.  0.  0.  0.  0.\n",
      " 13. 10.  1.  2.  0.  0.  0.  5. 15.  2. 15.  9.  1.  0.  0. 11. 13.  6.\n",
      " 16. 16.  9.  0.  0. 13. 16. 16. 16. 10.  2.  0.  0.  2.  7. 13. 11.  0.\n",
      "  0.  0.  0.  0.  0. 13. 11.  0.  0.  0.]\n"
     ]
    },
    {
     "data": {
      "image/png": "[encoded data removed]",
      "text/plain": [
       "<Figure size 288x288 with 1 Axes>"
      ]
     },
     "metadata": {
      "needs_background": "light"
     },
     "output_type": "display_data"
    },
    {
     "name": "stdout",
     "output_type": "stream",
     "text": [
      "2\n",
      "[ 0.  2. 11. 16. 12.  1.  0.  0.  0.  9. 16.  9. 16.  4.  0.  0.  0. 14.\n",
      "  7.  4. 16.  1.  0.  0.  0.  6.  5.  9. 14.  0.  0.  0.  0.  0.  3. 16.\n",
      "  5.  0.  0.  0.  0.  0. 13. 14.  0.  0.  0.  0.  0.  3. 16. 11.  8. 12.\n",
      "  9.  0.  0.  2. 15. 16. 16. 13. 16.  1.]\n"
     ]
    },
    {
     "data": {
      "image/png": "[encoded data removed]",
      "text/plain": [
       "<Figure size 288x288 with 1 Axes>"
      ]
     },
     "metadata": {
      "needs_background": "light"
     },
     "output_type": "display_data"
    },
    {
     "name": "stdout",
     "output_type": "stream",
     "text": [
      "7\n",
      "[ 0.  0.  7. 14. 16.  5.  0.  0.  0.  0. 16. 12. 15. 12.  0.  0.  0.  0.\n",
      "  3.  0. 14.  9.  0.  0.  0.  0.  5. 12. 16. 15. 10.  0.  0.  8. 16. 16.\n",
      " 13.  6.  0.  0.  0.  3.  9. 16.  6.  0.  0.  0.  0.  0. 10. 12.  1.  0.\n",
      "  0.  0.  0.  0. 12.  5.  0.  0.  0.  0.]\n"
     ]
    }
   ],
   "source": [
    "%matplotlib inline\n",
    "import matplotlib.pyplot as plt\n",
    "from random import randint\n",
    "\n",
    "for j in range(5):\n",
    "    i=randint(0,len(digits.data))\n",
    "    plt.figure(1, figsize=(4, 4))\n",
    "    plt.imshow(digits.images[i], cmap=plt.cm.gray_r, interpolation='nearest')\n",
    "    plt.show()\n",
    "    print(digits.target[i])\n",
    "    print(digits.data[i])"
   ]
  },
  {
   "cell_type": "code",
   "execution_count": 24,
   "metadata": {},
   "outputs": [
    {
     "data": {
      "image/png": "[encoded data removed]",
      "text/plain": [
       "<Figure size 576x216 with 9 Axes>"
      ]
     },
     "metadata": {},
     "output_type": "display_data"
    }
   ],
   "source": [
    "n=10\n",
    "\n",
    "km = KMeans(n_clusters=n, \n",
    "            init='random',  #init=’k-means++’ \n",
    "            n_init=9, \n",
    "            max_iter=300, \n",
    "            tol=1e-04, \n",
    "            random_state=0) #init=’k-means++’ see notes below\n",
    "\n",
    "km.fit(X) #Compute k-means clustering.\n",
    "y_km = km.predict(X) \n",
    "\n",
    "\n",
    "# Plot the centers\n",
    "fig, ax = plt.subplots(1, n, figsize=(8, 3))\n",
    "centers = km.cluster_centers_.reshape(n, 8, 8)\n",
    "for axi, center in zip(ax.flat, centers):\n",
    "    axi.set(xticks=[], yticks=[])\n",
    "    axi.imshow(center, interpolation='nearest', cmap=plt.cm.binary)"
   ]
  },
  {
   "cell_type": "code",
   "execution_count": 17,
   "metadata": {},
   "outputs": [
    {
     "data": {
      "text/plain": [
       "array([6, 1, 1, ..., 1, 8, 8], dtype=int32)"
      ]
     },
     "execution_count": 17,
     "metadata": {},
     "output_type": "execute_result"
    }
   ],
   "source": [
    "y_km"
   ]
  },
  {
   "cell_type": "code",
   "execution_count": 18,
   "metadata": {},
   "outputs": [
    {
     "name": "stdout",
     "output_type": "stream",
     "text": [
      "0 - 8\n"
     ]
    }
   ],
   "source": [
    "print(y_km.min(),\"-\",y_km.max())"
   ]
  },
  {
   "cell_type": "code",
   "execution_count": 21,
   "metadata": {},
   "outputs": [
    {
     "data": {
      "text/plain": [
       "array([0, 8, 8, ..., 8, 9, 9], dtype=int32)"
      ]
     },
     "execution_count": 21,
     "metadata": {},
     "output_type": "execute_result"
    }
   ],
   "source": [
    "d = {0: 1, 1: 8, 2: 2, 3: 6, 4: 5, 5: 7, 6: 0, 7: 4, 8: 9, 9: 3}\n",
    "\n",
    "y_2 = y_km.copy()\n",
    "for i in range(len(y_km)):\n",
    "    y_2[i]=d[y_km[i]]\n",
    "y_2"
   ]
  },
  {
   "cell_type": "code",
   "execution_count": 22,
   "metadata": {},
   "outputs": [
    {
     "data": {
      "text/plain": [
       "array([[177,   0,   0,   0,   1,   0,   0,   0,   0,   0],\n",
       "       [  0,  54,  25,   0,   0,   1,   2,   0, 100,   0],\n",
       "       [  1,   2, 151,   0,   0,   0,   0,   3,   8,  12],\n",
       "       [  0,   0,   0,   0,   0,   2,   0,   8,   7, 166],\n",
       "       [  0,   3,   0,   0, 166,   0,   0,   8,   4,   0],\n",
       "       [  0,   0,   0,   0,   2, 138,   2,   0,   0,  40],\n",
       "       [  1,   0,   0,   0,   0,   0, 177,   0,   3,   0],\n",
       "       [  0,   0,   0,   0,   0,   0,   0, 176,   3,   0],\n",
       "       [  1,   6,   4,   0,   0,   4,   2,   7, 102,  48],\n",
       "       [  0,  20,   0,   0,   0,   6,   0,   7,   2, 145]])"
      ]
     },
     "execution_count": 22,
     "metadata": {},
     "output_type": "execute_result"
    }
   ],
   "source": [
    "from sklearn import metrics\n",
    "metrics.confusion_matrix(digits.target,y_2)\n"
   ]
  },
  {
   "cell_type": "code",
   "execution_count": null,
   "metadata": {},
   "outputs": [],
   "source": []
  },
  {
   "cell_type": "code",
   "execution_count": null,
   "metadata": {},
   "outputs": [],
   "source": []
  },
  {
   "cell_type": "code",
   "execution_count": null,
   "metadata": {},
   "outputs": [],
   "source": []
  },
  {
   "cell_type": "code",
   "execution_count": null,
   "metadata": {},
   "outputs": [],
   "source": []
  },
  {
   "cell_type": "code",
   "execution_count": null,
   "metadata": {},
   "outputs": [],
   "source": []
  }
 ],
 "metadata": {
  "kernelspec": {
   "display_name": "Python 3",
   "language": "python",
   "name": "python3"
  },
  "language_info": {
   "codemirror_mode": {
    "name": "ipython",
    "version": 3
   },
   "file_extension": ".py",
   "mimetype": "text/x-python",
   "name": "python",
   "nbconvert_exporter": "python",
   "pygments_lexer": "ipython3",
   "version": "3.9.7"
  }
 },
 "nbformat": 4,
 "nbformat_minor": 4
}
