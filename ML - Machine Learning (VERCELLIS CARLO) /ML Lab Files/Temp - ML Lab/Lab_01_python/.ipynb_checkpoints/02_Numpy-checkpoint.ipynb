{
 "cells": [
  {
   "cell_type": "markdown",
   "metadata": {},
   "source": [
    "# Numpy library\n",
    "\n",
    "### Numpy (Numerical Python)\n",
    "[Numpy](https://numpy.org/) is a powerful library for array management, efficient and comprehensive mathematical functions which can play an important role in image manipulation because images are de-facto arrays.\n",
    "\n",
    "Core library for scientific computing in Python. It provides a\n",
    "high-performance multidimensional array object, and tools for\n",
    "working with these arrays\n",
    "1. Numeric Python\n",
    "2. Calculation over entire arrays\n",
    "3. Efficient\n",
    "4. Linear algebra\n",
    "\n",
    "BE AWARE:\n",
    "- can only contain values of the same type!\n",
    "- operator + works differently than with LIST type!\n",
    "\n",
    "[Documentation](https://numpy.org/doc/stable/)"
   ]
  },
  {
   "cell_type": "markdown",
   "metadata": {},
   "source": [
    "In this Python code, the following operations are performed using both regular Python lists and NumPy arrays.  \n",
    "Let's break it down:"
   ]
  },
  {
   "cell_type": "markdown",
   "metadata": {},
   "source": [
    "__Steps:__\n",
    "\n",
    "__1. Importing the NumPy library__: This imports the numpy library and gives it the alias np, allowing you to use np as a shorthand throughout the code."
   ]
  },
  {
   "cell_type": "code",
   "execution_count": 88,
   "metadata": {},
   "outputs": [],
   "source": [
    "import numpy as np #alias"
   ]
  },
  {
   "cell_type": "markdown",
   "metadata": {},
   "source": [
    "__2. Defining a list__:"
   ]
  },
  {
   "cell_type": "code",
   "execution_count": 89,
   "metadata": {},
   "outputs": [],
   "source": [
    "scores = [24, 23, 30, 29, 17, 16, 15] # simple list"
   ]
  },
  {
   "cell_type": "markdown",
   "metadata": {},
   "source": [
    "3. A simple Python list named `scores` is created with seven integer elements representing some hypothetical scores."
   ]
  },
  {
   "cell_type": "markdown",
   "metadata": {},
   "source": [
    "__3. Creating a NumPy array__:"
   ]
  },
  {
   "cell_type": "code",
   "execution_count": 90,
   "metadata": {},
   "outputs": [],
   "source": [
    "np_scores = np.array(scores) # numpy array with array constructor"
   ]
  },
  {
   "cell_type": "markdown",
   "metadata": {},
   "source": [
    "The list `scores` is converted into a NumPy array using the `np.array()` function, creating a new array `np_scores`."
   ]
  },
  {
   "cell_type": "markdown",
   "metadata": {},
   "source": [
    "__4. Printing the NumPy array__:"
   ]
  },
  {
   "cell_type": "code",
   "execution_count": 91,
   "metadata": {},
   "outputs": [
    {
     "name": "stdout",
     "output_type": "stream",
     "text": [
      "[48 46 60 58 34 32 30]\n"
     ]
    }
   ],
   "source": [
    "print(2*np_scores)  #or try *2 or whatever operation..."
   ]
  },
  {
   "cell_type": "markdown",
   "metadata": {},
   "source": [
    "This will print the contents of the NumPy array `np_scores`. It will look like the original list but is now a NumPy array."
   ]
  },
  {
   "cell_type": "markdown",
   "metadata": {},
   "source": [
    "__5. List concatenation__:"
   ]
  },
  {
   "cell_type": "markdown",
   "metadata": {},
   "source": [
    "Multiplying the Python list `scores` by 2 results in list concatenation. It repeats the list's contents twice, not multiplying the values but extending the list. For example, the output will be:"
   ]
  },
  {
   "cell_type": "code",
   "execution_count": 92,
   "metadata": {},
   "outputs": [
    {
     "name": "stdout",
     "output_type": "stream",
     "text": [
      "[24, 23, 30, 29, 17, 16, 15, 24, 23, 30, 29, 17, 16, 15]\n"
     ]
    }
   ],
   "source": [
    "print(scores*2) # concatanation!"
   ]
  },
  {
   "cell_type": "markdown",
   "metadata": {},
   "source": [
    "__6. NumPy array element-wise multiplication__:"
   ]
  },
  {
   "cell_type": "code",
   "execution_count": 93,
   "metadata": {},
   "outputs": [
    {
     "name": "stdout",
     "output_type": "stream",
     "text": [
      "[48 46 60 58 34 32 30]\n"
     ]
    }
   ],
   "source": [
    "print(np_scores*2) # operations on array"
   ]
  },
  {
   "cell_type": "markdown",
   "metadata": {},
   "source": [
    "Multiplying a NumPy array by 2 performs element-wise multiplication, meaning each value in the array will be doubled. The output will be:"
   ]
  },
  {
   "cell_type": "markdown",
   "metadata": {},
   "source": [
    "__7. Adding 1 to each element in the array__:"
   ]
  },
  {
   "cell_type": "markdown",
   "metadata": {},
   "source": [
    "Adding 1 to a NumPy array results in element-wise addition, where each value in the array is incremented by 1.  \n",
    "The output will be:"
   ]
  },
  {
   "cell_type": "code",
   "execution_count": 94,
   "metadata": {},
   "outputs": [
    {
     "name": "stdout",
     "output_type": "stream",
     "text": [
      "[25 24 31 30 18 17 16]\n"
     ]
    }
   ],
   "source": [
    "print(np_scores+1)"
   ]
  },
  {
   "cell_type": "markdown",
   "metadata": {},
   "source": [
    "__8. Checking the types of scores and np_scores__:"
   ]
  },
  {
   "cell_type": "code",
   "execution_count": 95,
   "metadata": {},
   "outputs": [
    {
     "name": "stdout",
     "output_type": "stream",
     "text": [
      "<class 'list'>\n",
      "<class 'numpy.ndarray'>\n"
     ]
    }
   ],
   "source": [
    "print(type(scores))    # type list\n",
    "print(type(np_scores)) # type numpy array"
   ]
  },
  {
   "cell_type": "markdown",
   "metadata": {},
   "source": [
    "`type(scores)` will output `<class 'list'>`, indicating that scores is a regular Python list.\n",
    "`type(np_scores)` will output `<class 'numpy.ndarray'>`, indicating that `np_scores` is a NumPy array."
   ]
  },
  {
   "cell_type": "markdown",
   "metadata": {},
   "source": [
    "In this code snippet, you're working with subsetting a NumPy array using square brackets and then showing how to convert it to a list for further operations. Let's break down what's happening:"
   ]
  },
  {
   "cell_type": "code",
   "execution_count": 96,
   "metadata": {},
   "outputs": [],
   "source": [
    "# subsetting as the list type using square brackets\n",
    "# np_scores[3:-2]\n",
    "# we can convert it to a list\n",
    "# np_scores_list=np_scores.tolist()\n",
    "# np_scores_list[:4]"
   ]
  },
  {
   "cell_type": "markdown",
   "metadata": {},
   "source": [
    "__1. Subsetting a NumPy array__:"
   ]
  },
  {
   "cell_type": "code",
   "execution_count": 97,
   "metadata": {},
   "outputs": [
    {
     "data": {
      "text/plain": [
       "array([29, 17])"
      ]
     },
     "execution_count": 97,
     "metadata": {},
     "output_type": "execute_result"
    }
   ],
   "source": [
    "np_scores[3:-2]"
   ]
  },
  {
   "cell_type": "markdown",
   "metadata": {},
   "source": [
    " - The syntax `np_scores[3:-2]` is a slice operation on the NumPy array `np_scores`.\n",
    " - It selects elements starting from index `3` (inclusive) to the second-to-last index `-2` (exclusive). In other words, it will grab elements from index 3 up to (but not including) the second-to-last element in the array."
   ]
  },
  {
   "cell_type": "markdown",
   "metadata": {},
   "source": [
    "__2. Converting the NumPy array to a Python list__:"
   ]
  },
  {
   "cell_type": "code",
   "execution_count": 98,
   "metadata": {},
   "outputs": [],
   "source": [
    "np_scores_list = np_scores.tolist()"
   ]
  },
  {
   "cell_type": "markdown",
   "metadata": {},
   "source": [
    "- `np_scores.tolist()` converts the NumPy array into a regular Python list, allowing you to perform list-specific operations that may not be available with NumPy arrays."
   ]
  },
  {
   "cell_type": "markdown",
   "metadata": {},
   "source": [
    "__3. Subsetting the list__:"
   ]
  },
  {
   "cell_type": "code",
   "execution_count": 99,
   "metadata": {},
   "outputs": [
    {
     "data": {
      "text/plain": [
       "[24, 23, 30, 29]"
      ]
     },
     "execution_count": 99,
     "metadata": {},
     "output_type": "execute_result"
    }
   ],
   "source": [
    "np_scores_list[:4]"
   ]
  },
  {
   "cell_type": "markdown",
   "metadata": {},
   "source": [
    "- This slices the list `np_scores_list` to select the first 4 elements (indices 0 to 3)."
   ]
  },
  {
   "cell_type": "markdown",
   "metadata": {},
   "source": [
    "__Boolean Operation__:"
   ]
  },
  {
   "cell_type": "code",
   "execution_count": 100,
   "metadata": {},
   "outputs": [
    {
     "data": {
      "text/plain": [
       "array([ True,  True,  True,  True, False, False, False])"
      ]
     },
     "execution_count": 100,
     "metadata": {},
     "output_type": "execute_result"
    }
   ],
   "source": [
    "## subsetting specifically for numpy (boolean operations)\n",
    "np_scores >= 18"
   ]
  },
  {
   "cell_type": "markdown",
   "metadata": {},
   "source": [
    "- This expression applies the condition `>= 18` to each element in the `np_scores` array.\n",
    "- The result is a boolean array of the same shape as `np_scores`, where each element is either `True` (if the condition is satisfied) or `False` (if not)."
   ]
  },
  {
   "cell_type": "markdown",
   "metadata": {},
   "source": [
    "__Subsetting the Array__:  \n",
    "You can use this boolean array to subset the original array and return only the elements that meet the condition."
   ]
  },
  {
   "cell_type": "code",
   "execution_count": 101,
   "metadata": {},
   "outputs": [
    {
     "data": {
      "text/plain": [
       "array([24, 23, 30, 29])"
      ]
     },
     "execution_count": 101,
     "metadata": {},
     "output_type": "execute_result"
    }
   ],
   "source": [
    "np_scores[np_scores>=18]"
   ]
  },
  {
   "cell_type": "markdown",
   "metadata": {},
   "source": [
    "This will return only the elements in `np_scores` that are greater than or equal to 18."
   ]
  },
  {
   "cell_type": "markdown",
   "metadata": {},
   "source": [
    "# 2D Numpy arrays"
   ]
  },
  {
   "cell_type": "markdown",
   "metadata": {},
   "source": [
    "__Convert to NumPy Arrays__:  \n",
    "To work with these lists more efficiently, you can convert them to NumPy arrays:"
   ]
  },
  {
   "cell_type": "code",
   "execution_count": 102,
   "metadata": {},
   "outputs": [],
   "source": [
    "scores_1 = [24, 23, 30, 29, 17, 16, 15]\n",
    "scores_2 = [15, 26, 24, 25, 18, 30, 23]"
   ]
  },
  {
   "cell_type": "code",
   "execution_count": 103,
   "metadata": {},
   "outputs": [],
   "source": [
    "np_2d_scores = np.array([scores_1,scores_2])"
   ]
  },
  {
   "cell_type": "markdown",
   "metadata": {},
   "source": [
    "creates a 2D NumPy array from the two lists `scores_1` and `scores_2`. Let's break it down:\n",
    "- scores_1 and scores_2 are two Python lists with the same length.\n",
    "- By passing both lists inside a NumPy `array` function as `[scores_1, scores_2]`, you are stacking them as rows in a 2D array."
   ]
  },
  {
   "cell_type": "code",
   "execution_count": 104,
   "metadata": {},
   "outputs": [
    {
     "data": {
      "text/plain": [
       "array([[24, 23, 30, 29, 17, 16, 15],\n",
       "       [15, 26, 24, 25, 18, 30, 23]])"
      ]
     },
     "execution_count": 104,
     "metadata": {},
     "output_type": "execute_result"
    }
   ],
   "source": [
    "np_2d_scores "
   ]
  },
  {
   "cell_type": "code",
   "execution_count": 105,
   "metadata": {},
   "outputs": [
    {
     "name": "stdout",
     "output_type": "stream",
     "text": [
      "[[24, 23, 30, 29, 17, 16, 15], [15, 26, 24, 25, 18, 30, 23]]\n"
     ]
    },
    {
     "data": {
      "text/plain": [
       "array([[24, 23, 30, 29, 17, 16, 15],\n",
       "       [15, 26, 24, 25, 18, 30, 23]])"
      ]
     },
     "execution_count": 105,
     "metadata": {},
     "output_type": "execute_result"
    }
   ],
   "source": [
    "print([scores_1,scores_2])  #as a list of lists \n",
    "np_2d_scores "
   ]
  },
  {
   "cell_type": "code",
   "execution_count": 106,
   "metadata": {},
   "outputs": [
    {
     "data": {
      "text/plain": [
       "(2, 7)"
      ]
     },
     "execution_count": 106,
     "metadata": {},
     "output_type": "execute_result"
    }
   ],
   "source": [
    "np_2d_scores.shape  "
   ]
  },
  {
   "cell_type": "markdown",
   "metadata": {},
   "source": [
    "returns the shape of the NumPy array `np_2d_scores`. The shape describes the number of rows and columns in the array.\n",
    "\n",
    "Given that `np_2d_scores` was created from two lists, `scores_1` and `scores_2`, each containing 7 elements, the shape of the 2D array would be (2,7)"
   ]
  },
  {
   "cell_type": "code",
   "execution_count": 107,
   "metadata": {},
   "outputs": [
    {
     "name": "stdout",
     "output_type": "stream",
     "text": [
      "30\n",
      "30\n"
     ]
    }
   ],
   "source": [
    "print(np_2d_scores[0][2]) # how to access to values in the matrix\n",
    "print(np_2d_scores[0,2])"
   ]
  },
  {
   "cell_type": "markdown",
   "metadata": {},
   "source": [
    "In NumPy, there are two common ways to access elements in a 2D array (matrix). Both methods used (`np_2d_scores[0][2]` and `np_2d_scores[0,2]`) are valid, but they work slightly differently.  \n",
    "__Using Comma Notation__: `np_2d_scores[0, 2]`\n",
    "This is the preferred NumPy way to access elements in a 2D array. It is more efficient because it directly accesses the element at the given row and column in one step, rather than first selecting a row and then an element within that row.\n",
    "- Efficiency: NumPy's direct indexing with a comma (`[row, col]`) is faster and more efficient than using double brackets because it directly accesses the element without first extracting a row.\n",
    "- Readability: It clearly indicates you're working with a 2D array, specifying both row and column indices in one step."
   ]
  },
  {
   "cell_type": "markdown",
   "metadata": {},
   "source": [
    "__Slicing 2D NumPy array__"
   ]
  },
  {
   "cell_type": "markdown",
   "metadata": {},
   "source": [
    "1. Colon (`:`) in the Row Index:\n",
    "\n",
    "    - The colon (`:`) indicates that you want to select all rows of the array. It means \"from the beginning to the end\" of the rows.\n",
    "\n",
    "2. Slice `1:3` in the Column Index:\n",
    "\n",
    "    - The part `1:3` specifies a slice of the columns, meaning you want to select columns starting from index `1` up to (but not including) index `3`.\n",
    "    - In Python, slicing is inclusive of the start index and exclusive of the end index."
   ]
  },
  {
   "cell_type": "code",
   "execution_count": 108,
   "metadata": {},
   "outputs": [
    {
     "data": {
      "text/plain": [
       "array([[23, 30],\n",
       "       [26, 24]])"
      ]
     },
     "execution_count": 108,
     "metadata": {},
     "output_type": "execute_result"
    }
   ],
   "source": [
    "np_2d_scores[:,1:3] #all rows"
   ]
  },
  {
   "cell_type": "markdown",
   "metadata": {},
   "source": [
    "is used to slice a 2D NumPy array (`np_2d_scores`) to access a specific subset of the data. "
   ]
  },
  {
   "cell_type": "markdown",
   "metadata": {},
   "source": [
    "1. Row Index (`1`):\n",
    "\n",
    "   - The index `1` specifies that you want to select the second row of the array. In Python, indexing starts at `0`, so `0` refers to the first row and `1` refers to the second row.\n",
    "\n",
    "2. Colon (`:`) in the Column Index:\n",
    "\n",
    "   - The colon (`:`) indicates that you want to select all columns of the specified row. It means \"from the beginning to the end\" of the columns for that particular row."
   ]
  },
  {
   "cell_type": "code",
   "execution_count": 121,
   "metadata": {},
   "outputs": [
    {
     "data": {
      "text/plain": [
       "array([15, 26, 24, 25, 18, 30, 23])"
      ]
     },
     "execution_count": 121,
     "metadata": {},
     "output_type": "execute_result"
    }
   ],
   "source": [
    "np_2d_scores[1,:] #all columns first row"
   ]
  },
  {
   "cell_type": "markdown",
   "metadata": {},
   "source": [
    "is used to select a specific row from a 2D NumPy array (`np_2d_scores`)"
   ]
  },
  {
   "cell_type": "markdown",
   "metadata": {},
   "source": [
    "## Loop on a numpy array"
   ]
  },
  {
   "cell_type": "markdown",
   "metadata": {},
   "source": [
    "A simple for loop in Python that iterates over a __list__ called `scores` and prints each element one by one"
   ]
  },
  {
   "cell_type": "code",
   "execution_count": 122,
   "metadata": {},
   "outputs": [
    {
     "name": "stdout",
     "output_type": "stream",
     "text": [
      "24\n",
      "23\n",
      "30\n",
      "29\n",
      "17\n",
      "16\n",
      "15\n"
     ]
    }
   ],
   "source": [
    "for score in scores: \n",
    "    print(score)"
   ]
  },
  {
   "cell_type": "markdown",
   "metadata": {},
   "source": [
    "1. For Loop:\n",
    "   - The `for` keyword starts a loop that will iterate through each element in the `scores` list.\n",
    "   - The variable `score` takes on the value of each element in the `scores` list during each iteration of the loop.\n",
    "\n",
    "2. Print Statement:\n",
    "   - The `print(score)` statement outputs the current value of `score` to the console."
   ]
  },
  {
   "cell_type": "markdown",
   "metadata": {},
   "source": [
    "On a 2D NumPy array (`np_2d_scores`), it may not behave as you might expect if you're thinking about it in terms of 1D arrays or lists. "
   ]
  },
  {
   "cell_type": "code",
   "execution_count": 123,
   "metadata": {},
   "outputs": [
    {
     "name": "stdout",
     "output_type": "stream",
     "text": [
      "[24 23 30 29 17 16 15]\n",
      "[15 26 24 25 18 30 23]\n"
     ]
    }
   ],
   "source": [
    "for score in np_2d_scores: #doesnt work if 2D\n",
    "    print(score)\n"
   ]
  },
  {
   "cell_type": "markdown",
   "metadata": {},
   "source": [
    "Row-wise Iteration:\n",
    "- When you iterate over a 2D NumPy array, the loop iterates over the rows of the array, not the individual elements.\n",
    "- In each iteration, the variable `score` will hold an entire row (which is itself a 1D array) rather than a single element."
   ]
  },
  {
   "cell_type": "markdown",
   "metadata": {},
   "source": [
    "This example uses NumPy's `nditer` function to iterate over each element of the 2D array `np_2d_scores`, regardless of its shape or dimensions. This is an efficient and convenient way to loop through all elements of a NumPy array, especially when dealing with multi-dimensional arrays like 2D arrays."
   ]
  },
  {
   "cell_type": "code",
   "execution_count": 112,
   "metadata": {},
   "outputs": [
    {
     "name": "stdout",
     "output_type": "stream",
     "text": [
      "24\n",
      "23\n",
      "30\n",
      "29\n",
      "17\n",
      "16\n",
      "15\n",
      "15\n",
      "26\n",
      "24\n",
      "25\n",
      "18\n",
      "30\n",
      "23\n"
     ]
    }
   ],
   "source": [
    "for val in np.nditer(np_2d_scores):\n",
    "    print(val) "
   ]
  },
  {
   "cell_type": "markdown",
   "metadata": {},
   "source": [
    "1. `np.nditer(np_2d_scores)`:\n",
    "\n",
    "- `np.nditer` is a NumPy iterator that allows you to efficiently iterate through every single element of the array, regardless of whether the array is 1D, 2D, or higher dimensional.\n",
    "- It flattens the array temporarily for iteration purposes, even if the array itself remains multi-dimensional.\n",
    "\n",
    "2. Loop:\n",
    "\n",
    " - `for val in np.nditer(np_2d_scores)` loops over each individual element (val) of the 2D array.\n",
    " - `print(val)` prints each element."
   ]
  },
  {
   "cell_type": "markdown",
   "metadata": {},
   "source": [
    "Another way to iterate through all the elements in a 2D NumPy array, using __nested loops__. "
   ]
  },
  {
   "cell_type": "code",
   "execution_count": 113,
   "metadata": {},
   "outputs": [
    {
     "name": "stdout",
     "output_type": "stream",
     "text": [
      "24\n",
      "23\n",
      "30\n",
      "29\n",
      "17\n",
      "16\n",
      "15\n",
      "15\n",
      "26\n",
      "24\n",
      "25\n",
      "18\n",
      "30\n",
      "23\n"
     ]
    }
   ],
   "source": [
    "for row in np_2d_scores:\n",
    "    for x in row:\n",
    "        print(x)"
   ]
  },
  {
   "cell_type": "markdown",
   "metadata": {},
   "source": [
    "1. Outer Loop (`for row in np_2d_scores`):\n",
    "\n",
    "   - This loop iterates over each row of the 2D array `np_2d_scores`.\n",
    "   - For each iteration, row represents one row (which is a 1D NumPy array) of the 2D array.\n",
    "\n",
    "2. Inner Loop (`for x in row`):\n",
    "\n",
    "    - For each `row`, the inner loop iterates over the individual elements of that row.\n",
    "    - `x` represents each element in the current row.\n",
    "\n",
    "3. Print Statement (`print(x)`):\n",
    "\n",
    "    - For each element `x`, the value is printed."
   ]
  },
  {
   "cell_type": "markdown",
   "metadata": {},
   "source": [
    "## We can go  further"
   ]
  },
  {
   "cell_type": "code",
   "execution_count": 127,
   "metadata": {},
   "outputs": [
    {
     "data": {
      "text/plain": [
       "array([[48, 46, 60, 58, 34, 32, 30],\n",
       "       [30, 52, 48, 50, 36, 60, 46]])"
      ]
     },
     "execution_count": 127,
     "metadata": {},
     "output_type": "execute_result"
    }
   ],
   "source": [
    "np_2d_scores_2 = np_2d_scores*2\n",
    "np_2d_scores_2 "
   ]
  },
  {
   "cell_type": "markdown",
   "metadata": {},
   "source": [
    "This code performs an element-wise multiplication of the 2D NumPy array `np_2d_scores` by `2`. This operation will double the value of each element in the array."
   ]
  },
  {
   "cell_type": "markdown",
   "metadata": {},
   "source": [
    "Next example creates a list of 2D arrays: `np_2d_scores` and `np_2d_scores_2`. This means `np_3d_scores` is now a list containing two 2D NumPy arrays. However, this isn't technically a 3D array yet; it is simply a list of two 2D arrays. If you want to convert this list into an actual 3D NumPy array, you can use `np.array` to stack them into a 3D structure."
   ]
  },
  {
   "cell_type": "code",
   "execution_count": 128,
   "metadata": {},
   "outputs": [],
   "source": [
    "np_3d_scores=[np_2d_scores,np_2d_scores_2]  "
   ]
  },
  {
   "cell_type": "code",
   "execution_count": 116,
   "metadata": {},
   "outputs": [
    {
     "data": {
      "text/plain": [
       "[array([[24, 23, 30, 29, 17, 16, 15],\n",
       "        [15, 26, 24, 25, 18, 30, 23]]),\n",
       " array([[48, 46, 60, 58, 34, 32, 30],\n",
       "        [30, 52, 48, 50, 36, 60, 46]])]"
      ]
     },
     "execution_count": 116,
     "metadata": {},
     "output_type": "execute_result"
    }
   ],
   "source": [
    "np_3d_scores"
   ]
  },
  {
   "cell_type": "code",
   "execution_count": 117,
   "metadata": {},
   "outputs": [
    {
     "data": {
      "text/plain": [
       "(2, 2, 7)"
      ]
     },
     "execution_count": 117,
     "metadata": {},
     "output_type": "execute_result"
    }
   ],
   "source": [
    "np.shape(np_3d_scores)"
   ]
  },
  {
   "cell_type": "markdown",
   "metadata": {},
   "source": [
    "This would result in a 3D array with the shape `(2, 2, 7)`, where:\n",
    "\n",
    "   - The first dimension (size 2) corresponds to the two 2D arrays (original and multiplied).\n",
    "   - The second dimension (size 2) is the number of rows in each 2D array.\n",
    "   - The third dimension (size 7) is the number of columns in each row of the 2D arrays."
   ]
  },
  {
   "cell_type": "code",
   "execution_count": 118,
   "metadata": {},
   "outputs": [
    {
     "data": {
      "text/plain": [
       "array([46, 52])"
      ]
     },
     "execution_count": 118,
     "metadata": {},
     "output_type": "execute_result"
    }
   ],
   "source": [
    "np_3d_scores[0][1][3]\n",
    "np_3d_scores[1][:,1]"
   ]
  },
  {
   "cell_type": "markdown",
   "metadata": {},
   "source": [
    "- `np_3d_scores[0]`: Accesses the first 2D array in the 3D array (which is `np_2d_scores`).\n",
    "- `np_3d_scores[0][1]`: Accesses the second row (index `1`) of that first 2D array.\n",
    "- `np_3d_scores[0][1][3]`: Accesses the fourth element (index `3`) in that second row."
   ]
  },
  {
   "cell_type": "markdown",
   "metadata": {},
   "source": [
    "## Try by yourself\n",
    "\n",
    "- Create a random array of length 100.Hint: np.random.rand()\n",
    "- Sort your array.\n",
    "- Compute the mean, median and sample variance."
   ]
  }
 ],
 "metadata": {
  "kernelspec": {
   "display_name": "Python 3 (ipykernel)",
   "language": "python",
   "name": "python3"
  },
  "language_info": {
   "codemirror_mode": {
    "name": "ipython",
    "version": 3
   },
   "file_extension": ".py",
   "mimetype": "text/x-python",
   "name": "python",
   "nbconvert_exporter": "python",
   "pygments_lexer": "ipython3",
   "version": "3.9.16"
  }
 },
 "nbformat": 4,
 "nbformat_minor": 2
}
