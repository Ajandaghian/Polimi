{
 "cells": [
  {
   "cell_type": "code",
   "execution_count": 1,
   "metadata": {},
   "outputs": [],
   "source": [
    "import pandas as pd\n",
    "import numpy as np\n",
    "import scipy\n",
    "\n",
    "from sklearn.preprocessing import StandardScaler\n",
    "\n",
    "import matplotlib.pyplot as plt\n",
    "import seaborn as sns\n",
    "%matplotlib inline"
   ]
  },
  {
   "cell_type": "code",
   "execution_count": 2,
   "metadata": {},
   "outputs": [
    {
     "data": {
      "text/html": [
       "<div>\n",
       "<style scoped>\n",
       "    .dataframe tbody tr th:only-of-type {\n",
       "        vertical-align: middle;\n",
       "    }\n",
       "\n",
       "    .dataframe tbody tr th {\n",
       "        vertical-align: top;\n",
       "    }\n",
       "\n",
       "    .dataframe thead th {\n",
       "        text-align: right;\n",
       "    }\n",
       "</style>\n",
       "<table border=\"1\" class=\"dataframe\">\n",
       "  <thead>\n",
       "    <tr style=\"text-align: right;\">\n",
       "      <th></th>\n",
       "      <th>mean radius</th>\n",
       "      <th>mean texture</th>\n",
       "      <th>mean perimeter</th>\n",
       "      <th>mean area</th>\n",
       "      <th>mean smoothness</th>\n",
       "      <th>mean compactness</th>\n",
       "      <th>mean concavity</th>\n",
       "      <th>mean concave points</th>\n",
       "      <th>mean symmetry</th>\n",
       "      <th>mean fractal dimension</th>\n",
       "      <th>...</th>\n",
       "      <th>worst radius</th>\n",
       "      <th>worst texture</th>\n",
       "      <th>worst perimeter</th>\n",
       "      <th>worst area</th>\n",
       "      <th>worst smoothness</th>\n",
       "      <th>worst compactness</th>\n",
       "      <th>worst concavity</th>\n",
       "      <th>worst concave points</th>\n",
       "      <th>worst symmetry</th>\n",
       "      <th>worst fractal dimension</th>\n",
       "    </tr>\n",
       "  </thead>\n",
       "  <tbody>\n",
       "    <tr>\n",
       "      <th>0</th>\n",
       "      <td>17.99</td>\n",
       "      <td>10.38</td>\n",
       "      <td>122.80</td>\n",
       "      <td>1001.0</td>\n",
       "      <td>0.11840</td>\n",
       "      <td>0.27760</td>\n",
       "      <td>0.3001</td>\n",
       "      <td>0.14710</td>\n",
       "      <td>0.2419</td>\n",
       "      <td>0.07871</td>\n",
       "      <td>...</td>\n",
       "      <td>25.38</td>\n",
       "      <td>17.33</td>\n",
       "      <td>184.60</td>\n",
       "      <td>2019.0</td>\n",
       "      <td>0.1622</td>\n",
       "      <td>0.6656</td>\n",
       "      <td>0.7119</td>\n",
       "      <td>0.2654</td>\n",
       "      <td>0.4601</td>\n",
       "      <td>0.11890</td>\n",
       "    </tr>\n",
       "    <tr>\n",
       "      <th>1</th>\n",
       "      <td>20.57</td>\n",
       "      <td>17.77</td>\n",
       "      <td>132.90</td>\n",
       "      <td>1326.0</td>\n",
       "      <td>0.08474</td>\n",
       "      <td>0.07864</td>\n",
       "      <td>0.0869</td>\n",
       "      <td>0.07017</td>\n",
       "      <td>0.1812</td>\n",
       "      <td>0.05667</td>\n",
       "      <td>...</td>\n",
       "      <td>24.99</td>\n",
       "      <td>23.41</td>\n",
       "      <td>158.80</td>\n",
       "      <td>1956.0</td>\n",
       "      <td>0.1238</td>\n",
       "      <td>0.1866</td>\n",
       "      <td>0.2416</td>\n",
       "      <td>0.1860</td>\n",
       "      <td>0.2750</td>\n",
       "      <td>0.08902</td>\n",
       "    </tr>\n",
       "    <tr>\n",
       "      <th>2</th>\n",
       "      <td>19.69</td>\n",
       "      <td>21.25</td>\n",
       "      <td>130.00</td>\n",
       "      <td>1203.0</td>\n",
       "      <td>0.10960</td>\n",
       "      <td>0.15990</td>\n",
       "      <td>0.1974</td>\n",
       "      <td>0.12790</td>\n",
       "      <td>0.2069</td>\n",
       "      <td>0.05999</td>\n",
       "      <td>...</td>\n",
       "      <td>23.57</td>\n",
       "      <td>25.53</td>\n",
       "      <td>152.50</td>\n",
       "      <td>1709.0</td>\n",
       "      <td>0.1444</td>\n",
       "      <td>0.4245</td>\n",
       "      <td>0.4504</td>\n",
       "      <td>0.2430</td>\n",
       "      <td>0.3613</td>\n",
       "      <td>0.08758</td>\n",
       "    </tr>\n",
       "    <tr>\n",
       "      <th>3</th>\n",
       "      <td>11.42</td>\n",
       "      <td>20.38</td>\n",
       "      <td>77.58</td>\n",
       "      <td>386.1</td>\n",
       "      <td>0.14250</td>\n",
       "      <td>0.28390</td>\n",
       "      <td>0.2414</td>\n",
       "      <td>0.10520</td>\n",
       "      <td>0.2597</td>\n",
       "      <td>0.09744</td>\n",
       "      <td>...</td>\n",
       "      <td>14.91</td>\n",
       "      <td>26.50</td>\n",
       "      <td>98.87</td>\n",
       "      <td>567.7</td>\n",
       "      <td>0.2098</td>\n",
       "      <td>0.8663</td>\n",
       "      <td>0.6869</td>\n",
       "      <td>0.2575</td>\n",
       "      <td>0.6638</td>\n",
       "      <td>0.17300</td>\n",
       "    </tr>\n",
       "    <tr>\n",
       "      <th>4</th>\n",
       "      <td>20.29</td>\n",
       "      <td>14.34</td>\n",
       "      <td>135.10</td>\n",
       "      <td>1297.0</td>\n",
       "      <td>0.10030</td>\n",
       "      <td>0.13280</td>\n",
       "      <td>0.1980</td>\n",
       "      <td>0.10430</td>\n",
       "      <td>0.1809</td>\n",
       "      <td>0.05883</td>\n",
       "      <td>...</td>\n",
       "      <td>22.54</td>\n",
       "      <td>16.67</td>\n",
       "      <td>152.20</td>\n",
       "      <td>1575.0</td>\n",
       "      <td>0.1374</td>\n",
       "      <td>0.2050</td>\n",
       "      <td>0.4000</td>\n",
       "      <td>0.1625</td>\n",
       "      <td>0.2364</td>\n",
       "      <td>0.07678</td>\n",
       "    </tr>\n",
       "  </tbody>\n",
       "</table>\n",
       "<p>5 rows × 30 columns</p>\n",
       "</div>"
      ],
      "text/plain": [
       "   mean radius  mean texture  mean perimeter  mean area  mean smoothness  \\\n",
       "0        17.99         10.38          122.80     1001.0          0.11840   \n",
       "1        20.57         17.77          132.90     1326.0          0.08474   \n",
       "2        19.69         21.25          130.00     1203.0          0.10960   \n",
       "3        11.42         20.38           77.58      386.1          0.14250   \n",
       "4        20.29         14.34          135.10     1297.0          0.10030   \n",
       "\n",
       "   mean compactness  mean concavity  mean concave points  mean symmetry  \\\n",
       "0           0.27760          0.3001              0.14710         0.2419   \n",
       "1           0.07864          0.0869              0.07017         0.1812   \n",
       "2           0.15990          0.1974              0.12790         0.2069   \n",
       "3           0.28390          0.2414              0.10520         0.2597   \n",
       "4           0.13280          0.1980              0.10430         0.1809   \n",
       "\n",
       "   mean fractal dimension  ...  worst radius  worst texture  worst perimeter  \\\n",
       "0                 0.07871  ...         25.38          17.33           184.60   \n",
       "1                 0.05667  ...         24.99          23.41           158.80   \n",
       "2                 0.05999  ...         23.57          25.53           152.50   \n",
       "3                 0.09744  ...         14.91          26.50            98.87   \n",
       "4                 0.05883  ...         22.54          16.67           152.20   \n",
       "\n",
       "   worst area  worst smoothness  worst compactness  worst concavity  \\\n",
       "0      2019.0            0.1622             0.6656           0.7119   \n",
       "1      1956.0            0.1238             0.1866           0.2416   \n",
       "2      1709.0            0.1444             0.4245           0.4504   \n",
       "3       567.7            0.2098             0.8663           0.6869   \n",
       "4      1575.0            0.1374             0.2050           0.4000   \n",
       "\n",
       "   worst concave points  worst symmetry  worst fractal dimension  \n",
       "0                0.2654          0.4601                  0.11890  \n",
       "1                0.1860          0.2750                  0.08902  \n",
       "2                0.2430          0.3613                  0.08758  \n",
       "3                0.2575          0.6638                  0.17300  \n",
       "4                0.1625          0.2364                  0.07678  \n",
       "\n",
       "[5 rows x 30 columns]"
      ]
     },
     "execution_count": 2,
     "metadata": {},
     "output_type": "execute_result"
    }
   ],
   "source": [
    "from sklearn.datasets import load_breast_cancer\n",
    "#The breast cancer dataset is a classic and very easy binary classification dataset.\n",
    "dataset = load_breast_cancer() \n",
    "\n",
    "#create the dataframe\n",
    "df = pd.DataFrame(dataset.data)\n",
    "columns = dataset.feature_names\n",
    "df.columns = columns\n",
    "df.head()\n"
   ]
  },
  {
   "cell_type": "code",
   "execution_count": 3,
   "metadata": {},
   "outputs": [],
   "source": [
    "mr=df['mean radius']"
   ]
  },
  {
   "cell_type": "code",
   "execution_count": 4,
   "metadata": {},
   "outputs": [
    {
     "data": {
      "text/plain": [
       "<AxesSubplot:xlabel='mean radius'>"
      ]
     },
     "execution_count": 4,
     "metadata": {},
     "output_type": "execute_result"
    },
    {
     "data": {
      "image/png": "[encoded data removed]",
      "text/plain": [
       "<Figure size 432x288 with 1 Axes>"
      ]
     },
     "metadata": {
      "needs_background": "light"
     },
     "output_type": "display_data"
    }
   ],
   "source": [
    "# We create a boxplot of the first columns called \"mean radius\"\n",
    "sns.boxplot(data=df, x='mean radius')"
   ]
  },
  {
   "cell_type": "code",
   "execution_count": 5,
   "metadata": {},
   "outputs": [
    {
     "data": {
      "image/png": "[encoded data removed]",
      "text/plain": [
       "<Figure size 432x288 with 1 Axes>"
      ]
     },
     "metadata": {
      "needs_background": "light"
     },
     "output_type": "display_data"
    }
   ],
   "source": [
    "# We create the histogram \n",
    "plt.hist(mr)\n",
    "plt.show()"
   ]
  },
  {
   "cell_type": "code",
   "execution_count": 6,
   "metadata": {},
   "outputs": [
    {
     "data": {
      "text/plain": [
       "count    569.000000\n",
       "mean      14.127292\n",
       "std        3.524049\n",
       "min        6.981000\n",
       "25%       11.700000\n",
       "50%       13.370000\n",
       "75%       15.780000\n",
       "max       28.110000\n",
       "Name: mean radius, dtype: float64"
      ]
     },
     "execution_count": 6,
     "metadata": {},
     "output_type": "execute_result"
    }
   ],
   "source": [
    "# and check the main distribution  parameters\n",
    "mr.describe()"
   ]
  },
  {
   "cell_type": "code",
   "execution_count": 7,
   "metadata": {},
   "outputs": [],
   "source": [
    "# We scale the data \n",
    "df_mr=pd.DataFrame(mr)\n",
    "#dataset scaling and visualizing\n",
    "from sklearn.preprocessing import StandardScaler\n",
    "scaler = StandardScaler(copy=False)\n",
    "scaler.fit(pd.DataFrame(df_mr)) \n",
    "mr_scaled=scaler.transform(df_mr)"
   ]
  },
  {
   "cell_type": "code",
   "execution_count": 8,
   "metadata": {},
   "outputs": [
    {
     "data": {
      "text/plain": [
       "array([[ 1.82982061],\n",
       "       [ 1.57988811],\n",
       "       [-0.76890929],\n",
       "       [ 1.75029663]])"
      ]
     },
     "execution_count": 8,
     "metadata": {},
     "output_type": "execute_result"
    }
   ],
   "source": [
    "# but we get a array of (single) arrays\n",
    "mr_scaled[1:5,:]"
   ]
  },
  {
   "cell_type": "code",
   "execution_count": 9,
   "metadata": {},
   "outputs": [
    {
     "data": {
      "text/plain": [
       "array([ 1.09706398,  1.82982061,  1.57988811, -0.76890929,  1.75029663,\n",
       "       -0.47637467,  1.17090767, -0.11851678, -0.32016686, -0.47353452,\n",
       "        0.53755602,  0.46939261,  1.43220073,  0.4892736 , -0.11283649,\n",
       "        0.117215  ,  0.15697699,  0.56879758,  1.61396982, -0.16679919,\n",
       "       -0.29744572, -1.31308049,  0.34442636,  1.99738898,  0.71648496,\n",
       "        0.85565191,  0.12857557,  1.27315278,  0.33306579,  0.97777802,\n",
       "        1.27883307, -0.64962332,  0.82157021,  1.46060215,  0.56879758,\n",
       "        0.74204624,  0.03485089, -0.31164643,  0.24502139, -0.18384004,\n",
       "       -0.19520061, -0.90239596,  1.40379931, -0.24064288, -0.27188444,\n",
       "        1.28451335, -1.68457106, -0.27188444, -0.58998034, -0.1809999 ,\n",
       "       -0.67234446, -0.13839777, -0.62122191,  1.16238725,  0.27626295,\n",
       "       -0.74050787,  1.4435613 ,  0.16549742, -0.30596615, -1.56471706,\n",
       "       -1.12392703, -1.57039735,  0.03485089, -1.40708919, -0.4110514 ,\n",
       "        0.18537841, -1.32415704, -0.80015085, -1.44798723, -0.38264998,\n",
       "        1.36687747, -1.48803323,  0.87269277, -0.0929555 , -0.51613665,\n",
       "        0.55175672, -0.16963933,  1.11410483,  1.71905507, -0.35992884,\n",
       "       -0.76038886, -0.22360203,  3.15048662,  1.41231974, -0.60418105,\n",
       "        1.23055065,  0.10017415,  1.3895986 , -0.50193594,  0.14561642,\n",
       "        0.13993614,  0.35294679, -0.24348302, -0.19236047,  0.26490239,\n",
       "        1.74177621, -0.5530585 , -1.23270447, -0.71778673,  0.0831333 ,\n",
       "       -0.1469182 , -2.0296483 , -0.5530585 , -1.20742721, -1.03304249,\n",
       "       -0.2889253 , -0.70642616, -0.50193594,  2.31264474, -0.79163042,\n",
       "       -1.23554461, -0.42525211,  0.03769103, -1.02736221, -1.53404353,\n",
       "       -0.62406205, -1.47042435,  0.21093969,  0.46939261,  1.08570341,\n",
       "       -0.77174943,  1.28735349,  2.87499285,  0.10585444, -0.2150816 ,\n",
       "       -0.07875479, -0.1469182 ,  1.38391832,  0.27626295,  1.60828953,\n",
       "       -0.55021836,  0.37850807,  0.577318  ,  0.44951161,  1.22771051,\n",
       "       -0.38549012, -0.68654517, -0.76606915,  0.23366083, -0.80867127,\n",
       "       -1.24662117,  0.56311729, -0.76606915, -0.34856828, -0.9591988 ,\n",
       "       -0.63258247, -0.66098389,  0.23366083,  0.08881359, -0.10999635,\n",
       "       -0.32016686, -1.67803873, -1.24860926, -0.84559312, -0.27756473,\n",
       "       -0.5331775 ,  1.00901958,  0.77044766, -0.5871402 , -0.91659667,\n",
       "       -0.6751846 ,  1.43788102,  1.5514867 , -0.50761623,  2.59665894,\n",
       "        0.23934111, -0.94499809,  0.7534068 ,  0.9493766 ,  0.23934111,\n",
       "       -0.51329651, -0.19804075,  0.37850807, -0.86547411, -0.98476008,\n",
       "       -1.54966431, -1.19947481,  0.66252226, -0.31732672, -0.37412955,\n",
       "        3.71851501,  1.97750799,  0.44667147, -0.77174943,  0.32738551,\n",
       "       -1.14948831,  1.18794852, -0.68654517, -0.65814375, -0.51897679,\n",
       "        0.02633046, -0.38549012, -1.25173342, -0.50761623,  0.20809955,\n",
       "       -0.34572813, -0.10147593,  1.12262526,  1.43504087,  0.09165373,\n",
       "       -0.53885779,  0.96925759,  2.60233922, -0.09011536, -0.47069438,\n",
       "        0.28194324, -1.20742721,  0.81873007, -0.2889253 ,  0.32454537,\n",
       "        1.83266075, -0.64962332,  3.97128765,  0.93517589,  0.01781004,\n",
       "       -0.07591465, -0.63542262, -1.11540661,  1.61112968,  1.53444584,\n",
       "       -0.13555763, -0.16111891, -1.12108689,  0.46087218, -0.24348302,\n",
       "        0.06041217, -1.0472432 ,  0.24786153, -0.42809225, -0.36844927,\n",
       "        0.83009064, -0.79731071, -0.82571213,  1.81277976, -1.29518759,\n",
       "       -0.02763224,  2.57961809,  1.80425933,  0.02633046,  0.94653646,\n",
       "       -0.13839777, -0.48489509, -0.80299099, -0.10715621,  1.497524  ,\n",
       "       -1.03588263, -0.26336402, -0.35140842, -0.98760022, -0.74050787,\n",
       "        1.93490586, -0.74618815,  1.59124868,  0.90109419,  1.51172471,\n",
       "       -0.04751323,  1.54012613,  0.33874608,  0.4353109 ,  0.39838906,\n",
       "        1.75597692,  0.9152949 ,  0.89825404,  0.42111019,  0.86985262,\n",
       "        1.87526288, -1.00180093, -0.15259848, -0.3570887 , -0.97055937,\n",
       "        0.04621146, -0.80583113,  2.16495736, -1.24548511,  1.08002313,\n",
       "       -0.63542262, -0.79447056,  1.32995562, -0.15259848, -0.07875479,\n",
       "        1.42936059, -0.67802474,  1.497524  ,  0.60003914, -0.35140842,\n",
       "       -0.43945282, -0.62122191, -0.35140842, -0.81435156, -0.78311   ,\n",
       "        0.08029316,  0.23650097, -0.33436757, -0.64678318, -0.39969083,\n",
       "       -0.10147593, -0.91375653, -0.67234446,  0.03769103, -1.02736221,\n",
       "        1.53444584, -0.47353452,  1.69349379, -1.03304249, -0.75754872,\n",
       "       -0.71778673, -0.26336402, -1.45622364, -0.17815976, -0.30596615,\n",
       "       -0.68938531,  0.137096  , -0.38833026, -0.73482758, -1.57068136,\n",
       "       -0.4650141 , -0.5530585 ,  1.16238725, -1.44429505, -0.48205495,\n",
       "       -1.1012059 ,  1.71337479, -0.35992884,  1.76449734, -0.54737821,\n",
       "       -0.41389154, -0.0049111 , -0.59566063,  0.60855956,  0.60571942,\n",
       "        0.54039616, -0.32584714, -0.82571213, -0.8171917 , -0.51897679,\n",
       "        0.83293078, -0.323007  ,  1.31859505, -1.15800874,  2.66482234,\n",
       "        0.0831333 , -1.28411104, -0.8711544 ,  1.57704797, -0.68654517,\n",
       "       -1.09836575, -0.5871402 ,  0.17969813, -0.75470858, -0.61838176,\n",
       "       -0.70074588,  0.46087218,  3.29533386,  0.27058267, -0.84843326,\n",
       "       -0.4451331 , -0.30596615, -0.07307451, -1.49087337, -1.33239345,\n",
       "       -0.45081339, -0.2349626 , -0.38833026,  0.67388283, -0.20656118,\n",
       "        1.79289876,  1.72473535, -0.54453807,  2.15359679,  2.23880105,\n",
       "        0.6312807 ,  0.30182423,  2.05703196,  1.8497016 , -0.12419706,\n",
       "        0.58015814, -1.01032135, -0.18952033, -0.13271749, -0.86547411,\n",
       "       -0.81151142, -0.87683468, -0.58998034, -0.49341552, -0.24064288,\n",
       "        0.13425586, -0.54453807, -0.07023436, -0.81151142,  1.54012613,\n",
       "       -1.09836575, -1.53177142,  0.38702849,  2.12519537, -0.57577963,\n",
       "       -0.01911181, -0.17531962, -0.3769697 , -0.8711544 , -0.66098389,\n",
       "        1.07434285, -0.62406205, -0.33152743, -0.33720771, -0.50761623,\n",
       "       -0.9052361 ,  0.57163772, -0.36276899,  1.09706398, -0.52749722,\n",
       "       -0.78595014, -0.87683468, -1.34347001,  0.24502139,  0.28478338,\n",
       "       -0.63542262, -1.34119789,  0.38986863, -0.40537112, -0.84275298,\n",
       "       -0.72630716,  0.15981713, -0.71494659, -0.13271749, -1.24548511,\n",
       "       -1.16368902, -1.03588263, -0.94499809, -0.8512734 , -0.39969083,\n",
       "        0.21946012, -0.49057538,  1.71905507,  1.33279576,  0.20809955,\n",
       "       -0.04183295, -0.3570887 , -0.02479209, -0.07875479, -0.03047238,\n",
       "       -0.89671568,  0.89257376, -0.09863578, -1.01032135,  1.10842455,\n",
       "       -0.6070212 ,  1.02890057,  0.1910587 ,  0.11437486,  1.98034813,\n",
       "       -0.6411029 ,  1.5514867 , -0.60418105,  0.11437486, -0.42809225,\n",
       "       -0.21224146, -0.70926631, -0.26052388, -0.32016686, -1.24179292,\n",
       "        0.83861106,  3.77531785,  0.07745302, -0.71778673, -0.27188444,\n",
       "       -0.25200345, -0.28040487, -1.26650216,  0.98629844, -0.71210645,\n",
       "       -1.26678617, -0.59282049,  0.2251404 , -0.52749722, -0.92227695,\n",
       "       -0.36844927,  0.02065018, -0.06455408, -0.74902829,  0.60287928,\n",
       "       -0.55873878, -0.06455408, -0.18668019, -0.12135692,  0.4551919 ,\n",
       "       -0.47637467,  0.14561642,  1.50888457, -0.6950656 ,  0.72784553,\n",
       "       -0.5331775 ,  1.05730199,  1.10274427, -0.47353452, -0.27472459,\n",
       "        0.21093969, -0.41957183, -0.47069438,  1.23907108,  1.83550089,\n",
       "        0.2592221 , -0.08727522, -0.45081339,  2.54553638, -1.38010784,\n",
       "       -1.26423005, -0.54169793, -0.8711544 ,  0.61707999,  0.37850807,\n",
       "       -0.67802474,  0.19389884, -0.20656118,  0.12857557,  0.26206224,\n",
       "       -0.79163042,  1.18794852,  1.63669095, -0.35424856, -0.39117041,\n",
       "       -1.37243945,  2.98291824, -0.81435156, -0.11851678, -1.21566362,\n",
       "       -1.57806573, -0.18952033, -0.50761623, -0.05319351, -0.58430006,\n",
       "       -0.6751846 , -0.69790574, -0.1270372 ,  1.80141919, -0.89955582,\n",
       "        1.82414032,  0.04053117, -0.69222545, -1.81720569, -1.82799822,\n",
       "       -0.73482758,  0.09733401,  0.17401784, -0.26052388, -0.07307451,\n",
       "       -0.14407806, -1.0813249 , -1.09836575, -1.26224195, -0.9393178 ,\n",
       "       -0.92795724, -0.8512734 , -0.38549012, -1.36164691, -0.35424856,\n",
       "       -1.08984533, -1.12676717, -1.33608564,  0.13141571, -0.74334801,\n",
       "       -0.02195195, -0.83139241,  0.31034466,  1.92922558,  2.11099466,\n",
       "        1.70485436,  0.70228425,  1.83834103, -1.80840125])"
      ]
     },
     "execution_count": 9,
     "metadata": {},
     "output_type": "execute_result"
    }
   ],
   "source": [
    "# so we \"flatten\" the array\n",
    "mr_scaled=mr_scaled.flatten()\n",
    "mr_scaled"
   ]
  },
  {
   "cell_type": "code",
   "execution_count": 10,
   "metadata": {},
   "outputs": [
    {
     "data": {
      "image/png": "[encoded data removed]",
      "text/plain": [
       "<Figure size 432x288 with 1 Axes>"
      ]
     },
     "metadata": {
      "needs_background": "light"
     },
     "output_type": "display_data"
    }
   ],
   "source": [
    "#Now is normalized!\n",
    "plt.hist(mr_scaled)\n",
    "plt.show()"
   ]
  },
  {
   "cell_type": "code",
   "execution_count": 11,
   "metadata": {},
   "outputs": [
    {
     "data": {
      "text/plain": [
       "(5.2522981710301195, -2.258530855286059, 0.43000801938966693)"
      ]
     },
     "execution_count": 11,
     "metadata": {},
     "output_type": "execute_result"
    }
   ],
   "source": [
    "# In order to check the distribution we can generate probability distributions and fit it to our specific data\n",
    "# The library scipy.stats provide a set of tools for generate samples with a given theoretical prob. distribution\n",
    "dist=scipy.stats.gamma\n",
    "#dist = getattr(scipy.stats, 'norm')\n",
    "param = dist.fit(mr_scaled)\n",
    "param"
   ]
  },
  {
   "cell_type": "code",
   "execution_count": 12,
   "metadata": {},
   "outputs": [],
   "source": [
    "# Clearly the normal that best approximate our data is with mean 0 and std 1 "
   ]
  },
  {
   "cell_type": "markdown",
   "metadata": {},
   "source": [
    "### Test 1. Uniform distribution"
   ]
  },
  {
   "cell_type": "code",
   "execution_count": 13,
   "metadata": {},
   "outputs": [
    {
     "data": {
      "image/png": "[encoded data removed]",
      "text/plain": [
       "<Figure size 432x288 with 1 Axes>"
      ]
     },
     "metadata": {
      "needs_background": "light"
     },
     "output_type": "display_data"
    },
    {
     "data": {
      "image/png": "[encoded data removed]",
      "text/plain": [
       "<Figure size 432x288 with 1 Axes>"
      ]
     },
     "metadata": {
      "needs_background": "light"
     },
     "output_type": "display_data"
    }
   ],
   "source": [
    "# A list of possible probability distributions\n",
    "#dist_names = ['beta',\n",
    "#              'expon',\n",
    "#              'gamma',\n",
    "#              'norm',\n",
    "#              'uniform']\n",
    "\n",
    "# We test a uniform distribution\n",
    "dist = getattr(scipy.stats, 'uniform')\n",
    "param = dist.fit(mr_scaled)\n",
    "    \n",
    "# We generate a sample of size  len(mr_scaled) of data distributed according to distribution dist\n",
    "# The function rvs generates a sample with distribution dist with mean loc and std scale\n",
    "test_dist = dist.rvs(*param[0:-2],loc=param[-2], scale=param[-1],size = len(mr_scaled))\n",
    "test_dist.sort()\n",
    "\n",
    "# We create the percentiles for both distributions\n",
    "percs = np.linspace(0,100,21)\n",
    "q_a = np.percentile(mr_scaled, percs)\n",
    "q_b = np.percentile(test_dist, percs)\n",
    "\n",
    "# and generate the QQ-plot \n",
    "plt.plot(q_a,q_b, ls=\"\", marker=\"o\")\n",
    "plt.title(\"QQ plot\")\n",
    "x = np.linspace(np.min((q_a.min(),q_b.min())), np.max((q_a.max(),q_b.max())))\n",
    "plt.plot(x,x, color=\"k\", ls=\"--\")\n",
    "plt.show()\n",
    "\n",
    "plt.hist(mr_scaled,alpha=.3,density=True)\n",
    "plt.hist(test_dist,alpha=.3,density=True)\n",
    "plt.show()\n",
    "\n",
    "# The next plot show the comparison of a uniform distribution (as reference) respect to our empirical distribution  "
   ]
  },
  {
   "cell_type": "markdown",
   "metadata": {},
   "source": [
    "We see that our distribution have more weight at the beginning of the interval respect to the end"
   ]
  },
  {
   "cell_type": "markdown",
   "metadata": {},
   "source": [
    "### Test 2. Test Exponential distribution"
   ]
  },
  {
   "cell_type": "code",
   "execution_count": 14,
   "metadata": {},
   "outputs": [
    {
     "data": {
      "text/plain": [
       "0.9999999999999987"
      ]
     },
     "execution_count": 14,
     "metadata": {},
     "output_type": "execute_result"
    }
   ],
   "source": [
    "sum(q_a/sum(q_a))"
   ]
  },
  {
   "cell_type": "code",
   "execution_count": 15,
   "metadata": {},
   "outputs": [
    {
     "data": {
      "text/plain": [
       "(-2.0296483039857525, 6.000935950530862)"
      ]
     },
     "execution_count": 15,
     "metadata": {},
     "output_type": "execute_result"
    }
   ],
   "source": [
    "param"
   ]
  },
  {
   "cell_type": "code",
   "execution_count": 16,
   "metadata": {},
   "outputs": [
    {
     "data": {
      "image/png": "[encoded data removed]",
      "text/plain": [
       "<Figure size 432x288 with 1 Axes>"
      ]
     },
     "metadata": {
      "needs_background": "light"
     },
     "output_type": "display_data"
    },
    {
     "data": {
      "image/png": "[encoded data removed]",
      "text/plain": [
       "<Figure size 432x288 with 1 Axes>"
      ]
     },
     "metadata": {
      "needs_background": "light"
     },
     "output_type": "display_data"
    }
   ],
   "source": [
    "# We test a exponential distribution\n",
    "dist = getattr(scipy.stats, 'expon')\n",
    "param = dist.fit(mr_scaled)\n",
    "    \n",
    "# We generate a sample of size  len(mr_scaled) of data distributed according to distribution dist\n",
    "# The function rvs generates a sample with distribution dist with mean loc and std scale\n",
    "test_dist = dist.rvs(*param[0:-2],loc=param[-2], scale=param[-1],size = len(mr_scaled))\n",
    "test_dist.sort()\n",
    "\n",
    "\n",
    "# We create the percentiles for both distributions\n",
    "percs = np.linspace(0,100,21)\n",
    "q_a = np.percentile(mr_scaled, percs)\n",
    "q_b = np.percentile(test_dist, percs)\n",
    "\n",
    "# and generate the QQ-plot \n",
    "plt.plot(q_a,q_b, ls=\"\", marker=\"o\")\n",
    "plt.title(\"QQ plot\")\n",
    "x = np.linspace(np.min((q_a.min(),q_b.min())), np.max((q_a.max(),q_b.max())))\n",
    "plt.plot(x,x, color=\"k\", ls=\"--\")\n",
    "plt.show()\n",
    "\n",
    "plt.hist(mr_scaled,alpha=.3, density=True)\n",
    "plt.hist(test_dist,alpha=.3, density=True)\n",
    "plt.show()"
   ]
  },
  {
   "cell_type": "markdown",
   "metadata": {},
   "source": [
    "In this case our distribution have less weight at the beggining of the interval respect to the reference distribution"
   ]
  },
  {
   "cell_type": "markdown",
   "metadata": {},
   "source": [
    "### Test 3. The Gamma distribution "
   ]
  },
  {
   "cell_type": "code",
   "execution_count": 17,
   "metadata": {},
   "outputs": [
    {
     "data": {
      "text/plain": [
       "(-2.0296483039857525, 2.0296483039857525)"
      ]
     },
     "execution_count": 17,
     "metadata": {},
     "output_type": "execute_result"
    }
   ],
   "source": [
    "param"
   ]
  },
  {
   "cell_type": "code",
   "execution_count": 18,
   "metadata": {},
   "outputs": [
    {
     "data": {
      "image/png": "[encoded data removed]",
      "text/plain": [
       "<Figure size 432x288 with 1 Axes>"
      ]
     },
     "metadata": {
      "needs_background": "light"
     },
     "output_type": "display_data"
    },
    {
     "data": {
      "image/png": "[encoded data removed]",
      "text/plain": [
       "<Figure size 432x288 with 1 Axes>"
      ]
     },
     "metadata": {
      "needs_background": "light"
     },
     "output_type": "display_data"
    }
   ],
   "source": [
    "# We test a exponential distribution\n",
    "dist = getattr(scipy.stats, 'gamma')\n",
    "param = dist.fit(mr_scaled)\n",
    "    \n",
    "# We generate a sample of size  len(mr_scaled) of data distributed according to distribution dist\n",
    "# The function rvs generates a sample with distribution dist with mean loc and std scale\n",
    "test_dist = dist.rvs(*param[0:-2],loc=param[-2], scale=param[-1],size = len(mr_scaled))\n",
    "test_dist.sort()\n",
    "\n",
    "# We create the percentiles for both distributions\n",
    "percs = np.linspace(0,100,21)\n",
    "q_a = np.percentile(mr_scaled, percs)\n",
    "q_b = np.percentile(test_dist, percs)\n",
    "\n",
    "# and generate the QQ-plot \n",
    "plt.plot(q_a,q_b, ls=\"\", marker=\"o\")\n",
    "plt.title(\"QQ plot\")\n",
    "x = np.linspace(np.min((q_a.min(),q_b.min())), np.max((q_a.max(),q_b.max())))\n",
    "plt.plot(x,x, color=\"k\", ls=\"--\")\n",
    "plt.show()\n",
    "\n",
    "plt.hist(mr_scaled,alpha=.3, density=True)\n",
    "plt.hist(test_dist,alpha=.3, density=True)\n",
    "plt.show()"
   ]
  },
  {
   "cell_type": "markdown",
   "metadata": {},
   "source": [
    "Finally we see that the Gamma distribution fits our empirical data distribution  "
   ]
  },
  {
   "cell_type": "code",
   "execution_count": 19,
   "metadata": {},
   "outputs": [
    {
     "data": {
      "text/plain": [
       "KstestResult(statistic=0.08084358523725835, pvalue=0.048487166892833146)"
      ]
     },
     "execution_count": 19,
     "metadata": {},
     "output_type": "execute_result"
    }
   ],
   "source": [
    "# Kolmogorov-Smirnov Test\n",
    "#    Test the distribution G(x) against a given distribution F(x).\n",
    "#    Under the null hypothesis the two distributions are identical, G(x)=F(x).\n",
    "\n",
    "from scipy import stats\n",
    "stats.kstest(mr_scaled, test_dist)"
   ]
  },
  {
   "cell_type": "markdown",
   "metadata": {},
   "source": [
    "## The normal distribution"
   ]
  },
  {
   "cell_type": "code",
   "execution_count": 20,
   "metadata": {},
   "outputs": [
    {
     "data": {
      "image/png": "[encoded data removed]",
      "text/plain": [
       "<Figure size 432x288 with 1 Axes>"
      ]
     },
     "metadata": {
      "needs_background": "light"
     },
     "output_type": "display_data"
    },
    {
     "data": {
      "image/png": "[encoded data removed]",
      "text/plain": [
       "<Figure size 432x288 with 1 Axes>"
      ]
     },
     "metadata": {
      "needs_background": "light"
     },
     "output_type": "display_data"
    }
   ],
   "source": [
    "# We test a normal distribution\n",
    "dist = getattr(scipy.stats, 'norm')\n",
    "param = dist.fit(mr_scaled)\n",
    "    \n",
    "# We generate a sample of size  len(mr_scaled) of data distributed according to distribution dist\n",
    "# The function rvs generates a sample with distribution dist with mean loc and std scale\n",
    "test_dist = dist.rvs(*param[0:-2],loc=param[-2], scale=param[-1],size = len(mr_scaled))\n",
    "test_dist.sort()\n",
    "\n",
    "# We create the percentiles for both distributions\n",
    "percs = np.linspace(0,100,11)\n",
    "q_a = np.percentile(mr_scaled, percs)\n",
    "q_b = np.percentile(test_dist, percs)\n",
    "\n",
    "# and generate the QQ-plot \n",
    "plt.plot(q_a,q_b, ls=\"\", marker=\"o\")\n",
    "plt.title(\"QQ plot\")\n",
    "x = np.linspace(np.min((q_a.min(),q_b.min())), np.max((q_a.max(),q_b.max())))\n",
    "plt.plot(x,x, color=\"k\", ls=\"--\")\n",
    "plt.show()\n",
    "\n",
    "plt.hist(mr_scaled,alpha=.3, density=True)\n",
    "plt.hist(test_dist,alpha=.3, density=True)\n",
    "plt.show()"
   ]
  },
  {
   "cell_type": "code",
   "execution_count": 21,
   "metadata": {},
   "outputs": [
    {
     "data": {
      "text/plain": [
       "0      0.00632\n",
       "1      0.02731\n",
       "2      0.02729\n",
       "3      0.03237\n",
       "4      0.06905\n",
       "        ...   \n",
       "501    0.06263\n",
       "502    0.04527\n",
       "503    0.06076\n",
       "504    0.10959\n",
       "505    0.04741\n",
       "Name: CRIM, Length: 506, dtype: float64"
      ]
     },
     "execution_count": 21,
     "metadata": {},
     "output_type": "execute_result"
    },
    {
     "data": {
      "image/png": "[encoded data removed]",
      "text/plain": [
       "<Figure size 432x288 with 1 Axes>"
      ]
     },
     "metadata": {
      "needs_background": "light"
     },
     "output_type": "display_data"
    }
   ],
   "source": [
    "#OUTLIER DETECTION\n",
    "from sklearn.datasets import load_boston\n",
    "import pandas as pd\n",
    "import seaborn as sns\n",
    "import scipy\n",
    "import numpy as np\n",
    "\n",
    "import matplotlib.pyplot as plt\n",
    "import seaborn as sns\n",
    "%matplotlib inline\n",
    "\n",
    "\n",
    "#DETECT AND REMOVE Outliers \n",
    "boston = load_boston()\n",
    "\n",
    "\n",
    "\n",
    "#create the dataframe\n",
    "boston_df = pd.DataFrame(boston.data)\n",
    "\n",
    "boston_df.columns = boston.feature_names\n",
    "\n",
    "boston_df.head()\n",
    "\n",
    "\n",
    "## check your data first \n",
    "df2=pd.DataFrame(boston_df[\"CRIM\"])\n",
    "mean2 = df2.mean()\n",
    "sd2 = df2.std()\n",
    "\n",
    "df2.describe()\n",
    "sns.boxplot(x=boston_df.CRIM)\n",
    "\n",
    "\n",
    "boston_df.CRIM\n",
    "#df2.shape"
   ]
  },
  {
   "cell_type": "code",
   "execution_count": 22,
   "metadata": {},
   "outputs": [
    {
     "data": {
      "image/png": "[encoded data removed]",
      "text/plain": [
       "<Figure size 432x288 with 1 Axes>"
      ]
     },
     "metadata": {
      "needs_background": "light"
     },
     "output_type": "display_data"
    },
    {
     "data": {
      "image/png": "[encoded data removed]",
      "text/plain": [
       "<Figure size 432x288 with 1 Axes>"
      ]
     },
     "metadata": {
      "needs_background": "light"
     },
     "output_type": "display_data"
    }
   ],
   "source": [
    "# A list of possible probability distributions\n",
    "#dist_names = ['beta',\n",
    "#              'expon',\n",
    "#              'gamma',\n",
    "#              'norm',\n",
    "#              'uniform']\n",
    "\n",
    "# We test a uniform distribution\n",
    "dist = getattr(scipy.stats, 'norm')\n",
    "param = dist.fit(boston_df.CRIM)\n",
    "    \n",
    "# We generate a sample of size  len(mr_scaled) of data distributed according to distribution dist\n",
    "# The function rvs generates a sample with distribution dist with mean loc and std scale\n",
    "test_dist = dist.rvs(*param[0:-2],loc=param[-2], scale=param[-1],size = len(boston_df.CRIM))\n",
    "test_dist.sort()\n",
    "\n",
    "# We create the percentiles for both distributions\n",
    "percs = np.linspace(0,100,21)\n",
    "q_a = np.percentile(boston_df.CRIM, percs)\n",
    "q_b = np.percentile(test_dist, percs)\n",
    "\n",
    "# and generate the QQ-plot \n",
    "plt.plot(q_a,q_b, ls=\"\", marker=\"o\")\n",
    "plt.title(\"QQ plot\")\n",
    "x = np.linspace(np.min((q_a.min(),q_b.min())), np.max((q_a.max(),q_b.max())))\n",
    "plt.plot(x,x, color=\"k\", ls=\"--\")\n",
    "plt.show()\n",
    "\n",
    "plt.hist(boston_df.CRIM,alpha=.3,density=True)\n",
    "plt.hist(test_dist,alpha=.3,density=True)\n",
    "plt.show()"
   ]
  },
  {
   "cell_type": "code",
   "execution_count": null,
   "metadata": {},
   "outputs": [],
   "source": []
  },
  {
   "cell_type": "code",
   "execution_count": null,
   "metadata": {},
   "outputs": [],
   "source": []
  },
  {
   "cell_type": "code",
   "execution_count": null,
   "metadata": {},
   "outputs": [],
   "source": []
  },
  {
   "cell_type": "code",
   "execution_count": null,
   "metadata": {},
   "outputs": [],
   "source": []
  },
  {
   "cell_type": "code",
   "execution_count": null,
   "metadata": {},
   "outputs": [],
   "source": []
  }
 ],
 "metadata": {
  "kernelspec": {
   "display_name": "Python 3 (ipykernel)",
   "language": "python",
   "name": "python3"
  },
  "language_info": {
   "codemirror_mode": {
    "name": "ipython",
    "version": 3
   },
   "file_extension": ".py",
   "mimetype": "text/x-python",
   "name": "python",
   "nbconvert_exporter": "python",
   "pygments_lexer": "ipython3",
   "version": "3.8.8"
  }
 },
 "nbformat": 4,
 "nbformat_minor": 2
}
