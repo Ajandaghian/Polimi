{
 "cells": [
  {
   "cell_type": "markdown",
   "id": "62ef1ed4",
   "metadata": {},
   "source": [
    "<!-- Markdown cell\n",
    "\n",
    "# ML Labs\n",
    "## Labs\n",
    "regular text\n",
    "\n",
    " - Danilo Greco: danilo.greco@polimi.it\n",
    " - text \n",
    " \n",
    " 1. first\n",
    " 2. second\n",
    " 3. third -->"
   ]
  },
  {
   "cell_type": "markdown",
   "id": "5f268994",
   "metadata": {},
   "source": [
    "### code cells\n",
    "containing python code to be executed by pressing <code>Shift+Enter</code> or the <code>Run</code> button on the toolbar."
   ]
  },
  {
   "cell_type": "code",
   "execution_count": 1,
   "id": "eb36fea5",
   "metadata": {},
   "outputs": [
    {
     "name": "stdout",
     "output_type": "stream",
     "text": [
      "2 3.14\n",
      "2\n"
     ]
    }
   ],
   "source": [
    "# Code cell\n",
    "\n",
    "a,b = 2, 3.14\n",
    "print(a,b)\n",
    "print(1+1)"
   ]
  },
  {
   "cell_type": "markdown",
   "id": "54ecbbd3",
   "metadata": {},
   "source": [
    "### Lecture 1\n",
    "This lecture will provide an overview on:\n",
    "1. Python installation on Linux, Mac OS and Windows\n",
    "2. introduction on Jupyter Notebooks and Google Colaboratory for interactive rapid prototyping of python applications\n",
    "2. basic programming concepts\n",
    "3. main language statements\n",
    "4. functions, arguments and parameters\n",
    "5. strings, lists, tuples and dictionaries"
   ]
  },
  {
   "cell_type": "markdown",
   "id": "861822f0",
   "metadata": {},
   "source": [
    "# Python installation\n",
    "The Python language can be easily installed both in Windows, Mac OS and in Linux. \n",
    "\n",
    "It can be downloaded from the [official web site](https://www.python.org/downloads/) and installed by following these [instructions](https://docs.python.org/3/using/index.html), depending on your target platform.\n",
    "\n",
    "Official documentation for the latest version is available on [this web site](https://docs.python.org/).\n",
    "\n",
    "Additional libraries can be used to expand the native features of the language; these software modules can be installed by running:\n",
    "\n",
    "><code>pip install</code> \n",
    "\n",
    "or \n",
    "\n",
    "><code>python -m pip install</code>\n",
    "\n",
    "followed by the required module name.\n",
    "\n",
    "Beginners are often tempted to install [Anaconda](https://www.anaconda.com/products/individual), which is definitely easier to setup but generates a lot of troubles for unsatisfied dependencies when updating or installing packages (therefore it is not recommended).\n",
    "\n",
    "Eventually, if you're familiar with [Docker](https://hub.docker.com), you can download a ready made python image and run the interpreter inside a container by typing the following command:\n",
    "\n",
    "><code>docker pull python</code>"
   ]
  },
  {
   "cell_type": "markdown",
   "id": "8a55a5b3",
   "metadata": {},
   "source": [
    "# What is Jupyter Notebook?\n",
    "The Jupyter Notebook is an open source web application that you can use to create and share documents that contain\n",
    "- live code, \n",
    "- equations, \n",
    "- visualizations, \n",
    "- text.\n",
    "\n",
    "As a client-server application, the Jupyter Notebook allows you to edit and run your notebooks via a web browser, even without internet access. \n",
    "\n",
    "There are two components: the Python kernel and the dashboard. These lessons are delivered through Jupyter Notebooks.\n",
    "\n",
    "[Additional kernels](https://github.com/jupyter/jupyter/wiki/Jupyter-kernels) are available for other programming languages which can be installed following [these instructions](https://ipython.readthedocs.io/en/latest/install/kernel_install.html)."
   ]
  },
  {
   "cell_type": "markdown",
   "id": "30741325",
   "metadata": {},
   "source": [
    "# Install\n",
    "It can be installed by executing the following command:\n",
    "\n",
    "><code>pip install jupyter</code> \n",
    "\n",
    "or \n",
    "\n",
    "><code>python -m pip install jupyter</code>\n",
    "\n",
    "Easier installation can be done through Anaconda, a popular data science platform that can be downloaded [here](https://www.anaconda.com/): by installing Anaconda the tool is already available along with many other preinstalled scientific libraries.\n",
    "\n",
    "It can be started by running the following command in a terminal shell:\n",
    "\n",
    "><code>jupyter notebook</code>\n",
    "\n",
    "This will start up Jupyter and your default browser should start (or open a new tab) to the following URL:\n",
    "\n",
    "><code><a href=http://localhost:8888/tree>http://localhost:8888/tree</a></code>"
   ]
  },
  {
   "cell_type": "markdown",
   "id": "19299c27",
   "metadata": {},
   "source": [
    "# Basic usage\n",
    "Each notebook can be organized in independent cells that can be of two main types: "
   ]
  },
  {
   "cell_type": "markdown",
   "id": "6f5b338e",
   "metadata": {},
   "source": [
    "### markdown cells\n",
    "containing text, html code, $\\LaTeX$ mathematical formulas\n",
    "\n",
    "HTML code can be used to format text or include images such as:\n",
    "><pre>&lt;img src=\"lena.jpg\" /&gt;</pre>\n",
    "\n",
    "which produces:\n",
    "<img  src=\"lena.jpg\">\n",
    "\n",
    "Mathematical expressions can be written inline with other text, like $e^{i\\pi} + 1 = 0$, with \n",
    "><code>$e^{i\\pi} + 1 = 0$</code>\n",
    "\n",
    "or on a single line: \n",
    "\n",
    "$$e^x=\\sum_{i=0}^\\infty \\frac{1}{i!}x^i$$\n",
    "\n",
    "by typing <code>$$e^x=\\sum_{i=0}^\\infty \\frac{1}{i!}x^i$$</code>"
   ]
  },
  {
   "cell_type": "markdown",
   "id": "62997f8a",
   "metadata": {},
   "source": [
    "# Alternatives to local installation"
   ]
  },
  {
   "cell_type": "markdown",
   "id": "80565658",
   "metadata": {},
   "source": [
    "It is possible to use jupyter notebooks even without installing anything on your computer. Best available options on internet are:\n",
    "\n",
    "- [Google Colaboratory](https://colab.research.google.com/) (<b>recommended</b> alternative, requires a Google account): provides a customized version of jupyter notebooks which can be executed either on a standard CPU, for low computational requirements, or on GPUs or on TPUs when parallel processing is required. Provides a good quickstart tutorial and can mount Google Drive storage for data persistence.\n"
   ]
  },
  {
   "cell_type": "code",
   "execution_count": 1,
   "id": "d33682c3",
   "metadata": {},
   "outputs": [
    {
     "name": "stdout",
     "output_type": "stream",
     "text": [
      "Sum: 30\n",
      "Difference: -10\n",
      "Product: 200\n",
      "Quotient: 0.5\n",
      "Power: 100000000000000000000 100000000000000000000\n"
     ]
    }
   ],
   "source": [
    "# Operations\n",
    "a = 10\n",
    "b = 20\n",
    "\n",
    "print(\"Sum:\", a + b)\n",
    "print(\"Difference:\", a - b)\n",
    "print(\"Product:\", a * b)\n",
    "print(\"Quotient:\", a / b)\n",
    "print(\"Power:\", a ** b, pow(a, b)) #two ways"
   ]
  },
  {
   "cell_type": "markdown",
   "id": "626f1ad2",
   "metadata": {},
   "source": [
    "what about a^b? (XOR)"
   ]
  },
  {
   "cell_type": "code",
   "execution_count": 4,
   "id": "026cf3b4",
   "metadata": {},
   "outputs": [
    {
     "data": {
      "text/plain": [
       "1"
      ]
     },
     "execution_count": 4,
     "metadata": {},
     "output_type": "execute_result"
    }
   ],
   "source": [
    "0 ^ 1  #try True False"
   ]
  },
  {
   "cell_type": "markdown",
   "id": "a82354eb",
   "metadata": {},
   "source": [
    "# Python Comparison Operators"
   ]
  },
  {
   "cell_type": "code",
   "execution_count": 5,
   "id": "76bbf30a",
   "metadata": {},
   "outputs": [
    {
     "name": "stdout",
     "output_type": "stream",
     "text": [
      "False\n",
      "True\n",
      "False\n",
      "True\n",
      "False\n",
      "True\n"
     ]
    }
   ],
   "source": [
    "x = 5\n",
    "y = 10\n",
    "\n",
    "print(x == y)  # Output: False\n",
    "print(x != y)  # Output: True\n",
    "print(x > y)   # Output: False\n",
    "print(x < y)   # Output: True\n",
    "print(x >= y)  # Output: False\n",
    "print(x <= y)  # Output: True"
   ]
  },
  {
   "cell_type": "code",
   "execution_count": 6,
   "id": "cc99045d",
   "metadata": {},
   "outputs": [
    {
     "name": "stdout",
     "output_type": "stream",
     "text": [
      "True\n"
     ]
    }
   ],
   "source": [
    "x = 5\n",
    "y = 5.\n",
    "print(x == y)"
   ]
  },
  {
   "cell_type": "markdown",
   "id": "46f3bfe6",
   "metadata": {},
   "source": [
    "# Python Logical Operators"
   ]
  },
  {
   "cell_type": "code",
   "execution_count": 7,
   "id": "97bc6505",
   "metadata": {},
   "outputs": [
    {
     "name": "stdout",
     "output_type": "stream",
     "text": [
      "False\n",
      "True\n",
      "False\n"
     ]
    }
   ],
   "source": [
    "x = True\n",
    "y = False\n",
    "\n",
    "print(x and y)\n",
    "print(x or y)\n",
    "print(not x)"
   ]
  },
  {
   "cell_type": "code",
   "execution_count": null,
   "id": "3e11ae66",
   "metadata": {},
   "outputs": [],
   "source": []
  }
 ],
 "metadata": {
  "kernelspec": {
   "display_name": "Python 3 (ipykernel)",
   "language": "python",
   "name": "python3"
  },
  "language_info": {
   "codemirror_mode": {
    "name": "ipython",
    "version": 3
   },
   "file_extension": ".py",
   "mimetype": "text/x-python",
   "name": "python",
   "nbconvert_exporter": "python",
   "pygments_lexer": "ipython3",
   "version": "3.9.16"
  }
 },
 "nbformat": 4,
 "nbformat_minor": 5
}
