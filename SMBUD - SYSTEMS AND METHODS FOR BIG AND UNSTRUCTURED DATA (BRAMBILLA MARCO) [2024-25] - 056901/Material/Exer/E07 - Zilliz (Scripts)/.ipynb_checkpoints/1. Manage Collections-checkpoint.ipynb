{
 "cells": [
  {
   "cell_type": "markdown",
   "id": "6d3be498-7f46-43b7-8456-9cbf0cb434aa",
   "metadata": {},
   "source": [
    "<h1>Vector DB - Zilliz Cloud</h1>\n",
    "<h4>1.1. Configure Python</h4>"
   ]
  },
  {
   "cell_type": "code",
   "execution_count": null,
   "id": "a5e62fc2-6c53-4fc1-8e14-925f06e9b987",
   "metadata": {
    "tags": []
   },
   "outputs": [],
   "source": [
    "# Install pymilvus compatible with Milvus v2.3.x\n",
    "!python3 -m pip install pymilvus==2.3.7\n",
    "\n",
    "# Install pymilvus compatible with Milvus v2.4.x\n",
    "!python3 -m pip install pymilvus==2.4.4\n",
    "\n",
    "# Update PyMilvus to the newest version\n",
    "!python3 -m pip install --upgrade pymilvus\n",
    "\n",
    "# Verify installation success\n",
    "!python3 -m pip list | grep pymilvus\n",
    "\n",
    "!python3 -m pip uninstall -y setuptools\n",
    "\n",
    "# Required for pymilvus\n",
    "!python3 -m pip install setuptools==69.0.3"
   ]
  },
  {
   "cell_type": "markdown",
   "id": "d7e0774b-cbc2-4710-8f7d-718f19b203b7",
   "metadata": {},
   "source": [
    "<h4>1.2. Get Credentials</h4>\n",
    "<p>Credentials are stored in an external <b>.yaml</b> file for privacy reasons.</p>"
   ]
  },
  {
   "cell_type": "code",
   "execution_count": null,
   "id": "a779b2b9-c0bc-46c5-832b-70acd6249086",
   "metadata": {
    "tags": []
   },
   "outputs": [],
   "source": [
    "# Open the configuration file\n",
    "import yaml\n",
    "\n",
    "with open(\"credentials.yaml\") as f:\n",
    "    credentials = yaml.safe_load(f)\n",
    "    \n",
    "    CLUSTER_ENDPOINT = credentials[\"CLUSTER_ENDPOINT\"]\n",
    "    TOKEN = credentials[\"TOKEN\"]"
   ]
  },
  {
   "cell_type": "markdown",
   "id": "0e3005de-4900-4479-8b3e-fa62ea276c3c",
   "metadata": {},
   "source": [
    "<h4>2.1. Connect to a Cluster</h4>"
   ]
  },
  {
   "cell_type": "code",
   "execution_count": null,
   "id": "7460e31b-a30f-463d-a463-0425beac13cd",
   "metadata": {
    "tags": []
   },
   "outputs": [],
   "source": [
    "# Connect using a MilvusClient object\n",
    "from pymilvus import MilvusClient\n",
    "\n",
    "# Initialize a MilvusClient instance\n",
    "client = MilvusClient(\n",
    "    uri = CLUSTER_ENDPOINT, # Cluster endpoint obtained from the web console in their website\n",
    "    token = TOKEN # API key (better) or a colon-separated cluster username and password\n",
    ")"
   ]
  },
  {
   "cell_type": "markdown",
   "id": "68e5bcca-013e-48e6-a976-f3b4b535ce23",
   "metadata": {},
   "source": [
    "<h4>2.2. Create Collection with Quick Setup</h4>\n",
    "<p>In this section, we will create a collection with a very simple setup, i.e., an id and a single vector field.</p>"
   ]
  },
  {
   "cell_type": "code",
   "execution_count": null,
   "id": "2a56425b-1964-40d8-888e-90632451af3b",
   "metadata": {
    "tags": []
   },
   "outputs": [],
   "source": [
    "# Create a collection in quick setup mode\n",
    "client.create_collection(\n",
    "    collection_name = \"test_collection\", # Collection Name\n",
    "    dimension = 5 # Dimension of the vector embeddings (> 1)\n",
    ")\n",
    "\n",
    "# Collection with an id and a vector field\n",
    "# + auto_id - Auto-incremental id\n",
    "# + enable_dynamic_field enabled - Dynamic fields (allow extra data field during insertion) and include a $meta field\n",
    "\n",
    "load_state = client.get_load_state(\n",
    "    collection_name = \"test_collection\"\n",
    ")\n",
    "\n",
    "print(load_state)"
   ]
  },
  {
   "cell_type": "markdown",
   "id": "c16ff05d-effa-4ec6-9fdb-80c23591bd76",
   "metadata": {},
   "source": [
    "<h4>2.3. Drop Collection</h4>\n",
    "<p>In this tutorial, we will be using the free setup of Zilliz, hence, we can only have two collections instantiated at a time. Consequently, we will remove each collection as soon as we are done using it.</p>"
   ]
  },
  {
   "cell_type": "code",
   "execution_count": null,
   "id": "b709029d-ee74-4114-bdd9-3ea2671eb0a6",
   "metadata": {},
   "outputs": [],
   "source": [
    "# Drop Collection\n",
    "client.drop_collection(\n",
    "    collection_name = \"test_collection\"\n",
    ")"
   ]
  },
  {
   "cell_type": "markdown",
   "id": "d79dfde7-d7b9-4a3d-a2d8-b3428ec339a4",
   "metadata": {
    "tags": []
   },
   "source": [
    "<h4>2.4.1 Create Collection with Customized Setup - Create Schema</h4>\n",
    "<p>Custom collections can be created by configuring (a) the schema, (b) the indexes, and (c) creating the actual collection.</p>"
   ]
  },
  {
   "cell_type": "code",
   "execution_count": null,
   "id": "8343dce6-00d1-480e-8d33-121df1eb74fa",
   "metadata": {
    "tags": []
   },
   "outputs": [],
   "source": [
    "from pymilvus import DataType\n",
    "\n",
    "# Create schema\n",
    "schema = MilvusClient.create_schema(\n",
    "    auto_id = False,\n",
    "    enable_dynamic_field = True,\n",
    ")\n",
    "\n",
    "# Add fields to schema\n",
    "schema.add_field(field_name = \"custom_id\", datatype = DataType.INT64, is_primary = True)\n",
    "schema.add_field(field_name = \"custom_vector\", datatype = DataType.FLOAT_VECTOR, dim = 5)"
   ]
  },
  {
   "cell_type": "markdown",
   "id": "8b8b7ae7-1298-44b3-940b-8d78d1649905",
   "metadata": {},
   "source": [
    "<h4>2.4.2. Create Collection with Customized Setup - Create Indexes</h4>"
   ]
  },
  {
   "cell_type": "code",
   "execution_count": null,
   "id": "f7accf0f-9920-40db-8478-a4996b1395cd",
   "metadata": {
    "tags": []
   },
   "outputs": [],
   "source": [
    "# Prepare index parameters\n",
    "index_params = client.prepare_index_params()\n",
    "\n",
    "# Add indexes\n",
    "index_params.add_index(\n",
    "    field_name = \"custom_id\",\n",
    "    index_type = \"STL_SORT\" # Standard Library Sort\n",
    ")\n",
    "\n",
    "index_params.add_index(\n",
    "    field_name = \"custom_vector\", \n",
    "    index_type = \"AUTOINDEX\", # Customized version of HNSW (Hierarchical Navigable Small World, high dimensional\n",
    "                              # similarity search) and DiskANN (graph-based indexing and search system)\n",
    "    metric_type = \"IP\", # Inner Product\n",
    "    params = { \"nlist\": 128 }\n",
    ")"
   ]
  },
  {
   "cell_type": "markdown",
   "id": "cdc3c418-cc85-4603-9477-83561ebe6ea4",
   "metadata": {},
   "source": [
    "<h4>2.4.3 Create Collection with Customized Setup - Create the Collection</h4>"
   ]
  },
  {
   "cell_type": "code",
   "execution_count": null,
   "id": "700b8709-47ac-4e3e-8446-b5ec20a73aab",
   "metadata": {
    "tags": []
   },
   "outputs": [],
   "source": [
    "import time\n",
    "\n",
    "# Create a collection with the index\n",
    "client.create_collection(\n",
    "    collection_name = \"custom_collection\",\n",
    "    schema = schema,\n",
    "    index_params = index_params\n",
    ")\n",
    "\n",
    "time.sleep(5)\n",
    "\n",
    "res = client.get_load_state(\n",
    "    collection_name = \"custom_collection\"\n",
    ")\n",
    "\n",
    "print(res)"
   ]
  },
  {
   "cell_type": "markdown",
   "id": "491dcf5b-5436-4d46-8cbd-bf503b5cb58c",
   "metadata": {},
   "source": [
    "<h4>2.5. Create a Collection with Multiple Vector Fields</h4>\n",
    "<p>Collections in Zilliz can contain up to 5 vector fields.</p>"
   ]
  },
  {
   "cell_type": "code",
   "execution_count": null,
   "id": "c6099b45-9539-4cd6-a902-b98c3228064b",
   "metadata": {
    "tags": []
   },
   "outputs": [],
   "source": [
    "# Create a collection with multiple vector fields\n",
    "schema = client.create_schema(\n",
    "    auto_id = False,\n",
    "    enable_dynamic_field = True,\n",
    ")\n",
    "\n",
    "# Add primary key field to schema\n",
    "schema.add_field(field_name = \"custom_id\", datatype = DataType.INT64, is_primary = True)\n",
    "\n",
    "# Binary vector dimensions must be a multiple of 8\n",
    "schema.add_field(field_name = \"text_vector\", datatype = DataType.BINARY_VECTOR, dim = 8)\n",
    "\n",
    "schema.add_field(field_name = \"image_vector\", datatype = DataType.FLOAT_VECTOR, dim = 128)"
   ]
  },
  {
   "cell_type": "code",
   "execution_count": null,
   "id": "a5ede25d-baf7-4758-94a4-ff95b42c75e6",
   "metadata": {
    "tags": []
   },
   "outputs": [],
   "source": [
    "# Prepare index parameters\n",
    "index_params = client.prepare_index_params()\n",
    "\n",
    "index_params.add_index(\n",
    "    field_name = \"text_vector\",\n",
    "    # In Zilliz Cloud, the index type should always be `AUTOINDEX`.\n",
    "    index_type = \"AUTOINDEX\", \n",
    "    # For vector of the `BINARY_VECTOR` type, use `HAMMING` or `JACCARD` as the metric type.\n",
    "    metric_type = \"HAMMING\", \n",
    "    params = { \"nlist\": 128 }\n",
    ")\n",
    "\n",
    "index_params.add_index(\n",
    "    field_name = \"image_vector\", \n",
    "    index_type = \"AUTOINDEX\",\n",
    "    metric_type = \"IP\",\n",
    "    params = { \"nlist\": 128 }\n",
    ")\n",
    "\n",
    "client.create_collection(\n",
    "    collection_name = \"custom_multiple_vector_field_collection\",\n",
    "    schema = schema,\n",
    "    index_params = index_params\n",
    ")\n",
    "\n",
    "time.sleep(5)\n",
    "\n",
    "load_state = client.get_load_state(\n",
    "    collection_name = \"custom_multiple_vector_field_collection\"\n",
    ")\n",
    "\n",
    "print(load_state)"
   ]
  },
  {
   "cell_type": "markdown",
   "id": "361b3bd0-bc14-4e83-8c17-68eb1ddcb03d",
   "metadata": {},
   "source": [
    "<h4>2.6. View Collection</h4>"
   ]
  },
  {
   "cell_type": "code",
   "execution_count": null,
   "id": "e1c1ce5d-7c8a-4d74-83dd-840ca6ee0864",
   "metadata": {
    "tags": []
   },
   "outputs": [],
   "source": [
    "from pprint import pprint\n",
    "\n",
    "descr = client.describe_collection(\n",
    "    collection_name = \"custom_multiple_vector_field_collection\"\n",
    ")\n",
    "\n",
    "pprint(descr)"
   ]
  },
  {
   "cell_type": "code",
   "execution_count": null,
   "id": "be0e08e7-903f-4dfa-8cd7-ef03e6112fd1",
   "metadata": {
    "tags": []
   },
   "outputs": [],
   "source": [
    "collection_list = client.list_collections()\n",
    "\n",
    "print(collection_list)"
   ]
  },
  {
   "cell_type": "markdown",
   "id": "3157e770-1011-4d4b-8c5b-520662a71938",
   "metadata": {},
   "source": [
    "<h4>2.7. Load and Release Collection</h4>"
   ]
  },
  {
   "cell_type": "code",
   "execution_count": null,
   "id": "4d324f53-29df-4b88-b720-713022549dbf",
   "metadata": {
    "tags": []
   },
   "outputs": [],
   "source": [
    "client.load_collection(\n",
    "    collection_name = \"custom_multiple_vector_field_collection\"\n",
    ")\n",
    "\n",
    "load_state = client.get_load_state(\n",
    "    collection_name = \"custom_multiple_vector_field_collection\"\n",
    ")\n",
    "\n",
    "print(load_state)"
   ]
  },
  {
   "cell_type": "code",
   "execution_count": null,
   "id": "5c25c6b4-416f-4d5e-a2a5-232641921e8d",
   "metadata": {
    "tags": []
   },
   "outputs": [],
   "source": [
    "# Release the collection\n",
    "client.release_collection(\n",
    "    collection_name = \"custom_multiple_vector_field_collection\"\n",
    ")\n",
    "\n",
    "release_state = client.get_load_state(\n",
    "    collection_name = \"custom_multiple_vector_field_collection\"\n",
    ")\n",
    "\n",
    "pprint(release_state)"
   ]
  },
  {
   "cell_type": "markdown",
   "id": "a5e821cd-a125-4774-85ef-966d388f64d5",
   "metadata": {
    "tags": []
   },
   "source": [
    "<h4>2.8. Aliases</h4>\n",
    "<p>In Zilliz, we can assign aliases to collections to refer to them using different names</p>"
   ]
  },
  {
   "cell_type": "code",
   "execution_count": null,
   "id": "4d2947fb-39cd-469f-a2d7-3caecf855dd9",
   "metadata": {
    "tags": []
   },
   "outputs": [],
   "source": [
    "# Create alias\n",
    "client.create_alias(\n",
    "    collection_name = \"custom_multiple_vector_field_collection\",\n",
    "    alias = \"custom_alias\"\n",
    ")\n",
    "\n",
    "client.create_alias(\n",
    "    collection_name=\"custom_multiple_vector_field_collection\",\n",
    "    alias=\"another_custom_alias\"\n",
    ")"
   ]
  },
  {
   "cell_type": "code",
   "execution_count": null,
   "id": "43f1e3be-1115-4f68-9eda-6aed526bfb4b",
   "metadata": {
    "tags": []
   },
   "outputs": [],
   "source": [
    "# Collect aliases\n",
    "aliases = client.list_aliases(\n",
    "    collection_name = \"custom_multiple_vector_field_collection\"\n",
    ")\n",
    "\n",
    "pprint(aliases)"
   ]
  },
  {
   "cell_type": "code",
   "execution_count": null,
   "id": "b7a8b033-fa57-4577-83b9-9934d55489df",
   "metadata": {
    "tags": []
   },
   "outputs": [],
   "source": [
    "# Describe alias\n",
    "alias_desc = client.describe_alias(\n",
    "    alias = \"custom_alias\"\n",
    ")\n",
    "\n",
    "pprint(alias_desc)"
   ]
  },
  {
   "cell_type": "code",
   "execution_count": null,
   "id": "c4742461-9772-46d0-8357-8cfb59bfcee1",
   "metadata": {
    "tags": []
   },
   "outputs": [],
   "source": [
    "# Alter alias\n",
    "client.alter_alias(\n",
    "    collection_name = \"custom_collection\",\n",
    "    alias = \"another_custom_alias\"\n",
    ")\n",
    "\n",
    "cc_alias_list = client.list_aliases(\n",
    "    collection_name = \"custom_collection\"\n",
    ")\n",
    "\n",
    "cmvfc_alias_list = client.list_aliases(\n",
    "    collection_name = \"custom_multiple_vector_field_collection\"\n",
    ")\n",
    "\n",
    "pprint(cc_alias_list)\n",
    "pprint(cmvfc_alias_list)"
   ]
  },
  {
   "cell_type": "code",
   "execution_count": null,
   "id": "812089af-4da7-4ae7-a1c4-7c53b20b94a0",
   "metadata": {
    "tags": []
   },
   "outputs": [],
   "source": [
    "# Drop Alias\n",
    "client.drop_alias(\n",
    "    alias = \"custom_alias\"\n",
    ")\n",
    "\n",
    "client.drop_alias(\n",
    "    alias = \"another_custom_alias\"\n",
    ")\n",
    "\n",
    "aliases = client.list_aliases(\n",
    "    collection_name = \"custom_multiple_vector_field_collection\"\n",
    ")\n",
    "\n",
    "pprint(aliases)"
   ]
  },
  {
   "cell_type": "code",
   "execution_count": null,
   "id": "e1794ea8-1717-4847-a55b-37da436f119d",
   "metadata": {
    "tags": []
   },
   "outputs": [],
   "source": [
    "# Drop all remaning collections\n",
    "client.drop_collection(\n",
    "    collection_name = \"custom_multiple_vector_field_collection\"\n",
    ")\n",
    "\n",
    "client.drop_collection(\n",
    "    collection_name = \"custom_collection\"\n",
    ")"
   ]
  },
  {
   "cell_type": "markdown",
   "id": "12063ee6-b2d1-4072-9f88-7bf8eafb971e",
   "metadata": {},
   "source": [
    "<h4>3.1. Manage Indexes</h4>"
   ]
  },
  {
   "cell_type": "code",
   "execution_count": null,
   "id": "c141fd0c-8809-46fb-b9e9-d1de3bb9a6cf",
   "metadata": {
    "tags": []
   },
   "outputs": [],
   "source": [
    "# Create schema\n",
    "schema = MilvusClient.create_schema(\n",
    "    auto_id = False,\n",
    "    enable_dynamic_field = True,\n",
    ")\n",
    "\n",
    "schema.add_field(field_name = \"id\", datatype = DataType.INT64, is_primary = True)\n",
    "schema.add_field(field_name = \"vector\", datatype = DataType.FLOAT_VECTOR, dim = 5)\n",
    "schema.add_field(field_name = \"scalar\", datatype = DataType.FLOAT)\n",
    "\n",
    "# Create collection\n",
    "client.create_collection(\n",
    "    collection_name = \"index_collection\", \n",
    "    schema = schema,\n",
    ")\n",
    "\n",
    "# Set up the index parameters\n",
    "index_params = MilvusClient.prepare_index_params()\n",
    "\n",
    "# Add an index on the vector field.\n",
    "index_params.add_index(\n",
    "    field_name = \"vector\",\n",
    "    metric_type = \"COSINE\",\n",
    "    index_type = \"AUTOINDEX\",\n",
    "    index_name = \"vector_index\"\n",
    ")\n",
    "\n",
    "# Add an index to the scalar field\n",
    "index_params.add_index(\n",
    "    field_name = \"scalar\",\n",
    "    index_type = \"\", # Empty = AUTOINDEX\n",
    "    index_name = \"scalar_index\"\n",
    ")\n",
    "\n",
    "client.create_index(\n",
    "  collection_name = \"index_collection\", # Specify the collection name\n",
    "  index_params = index_params\n",
    ")\n",
    "\n",
    "# Create an index file\n",
    "client.create_index(\n",
    "    collection_name = \"index_collection\",\n",
    "    index_params = index_params\n",
    ")"
   ]
  },
  {
   "cell_type": "code",
   "execution_count": null,
   "id": "e849fe2f-8279-42cd-9081-d1f570546904",
   "metadata": {
    "tags": []
   },
   "outputs": [],
   "source": [
    "# Describe index\n",
    "index_list = client.list_indexes(\n",
    "    collection_name = \"index_collection\"\n",
    ")\n",
    "\n",
    "pprint(index_list)\n",
    "\n",
    "index_descr = client.describe_index(\n",
    "    collection_name = \"index_collection\",\n",
    "    index_name = \"vector_index\"\n",
    ")\n",
    "\n",
    "pprint(index_descr)"
   ]
  },
  {
   "cell_type": "code",
   "execution_count": null,
   "id": "1ea22b88-9390-4ad5-abf5-c023cb30dab3",
   "metadata": {
    "tags": []
   },
   "outputs": [],
   "source": [
    "# Drop index\n",
    "client.drop_index(\n",
    "    collection_name = \"index_collection\",\n",
    "    index_name = \"vector_index\"\n",
    ")\n",
    "\n",
    "# Describe index\n",
    "index_list = client.list_indexes(\n",
    "    collection_name = \"index_collection\"\n",
    ")\n",
    "\n",
    "pprint(index_list)"
   ]
  },
  {
   "cell_type": "code",
   "execution_count": null,
   "id": "fcaeabc3-8807-4ae7-85bb-d72a69b3341d",
   "metadata": {
    "tags": []
   },
   "outputs": [],
   "source": [
    "# Drop collection\n",
    "client.drop_collection(\n",
    "    collection_name = \"index_collection\",\n",
    ")"
   ]
  }
 ],
 "metadata": {
  "kernelspec": {
   "display_name": "Python 3 (ipykernel)",
   "language": "python",
   "name": "python3"
  },
  "language_info": {
   "codemirror_mode": {
    "name": "ipython",
    "version": 3
   },
   "file_extension": ".py",
   "mimetype": "text/x-python",
   "name": "python",
   "nbconvert_exporter": "python",
   "pygments_lexer": "ipython3",
   "version": "3.10.5"
  }
 },
 "nbformat": 4,
 "nbformat_minor": 5
}
