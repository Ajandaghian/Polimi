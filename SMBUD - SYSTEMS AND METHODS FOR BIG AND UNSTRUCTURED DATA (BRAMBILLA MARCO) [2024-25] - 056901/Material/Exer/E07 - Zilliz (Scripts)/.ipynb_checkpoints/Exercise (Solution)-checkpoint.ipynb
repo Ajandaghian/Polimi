{
 "cells": [
  {
   "cell_type": "code",
   "execution_count": null,
   "id": "43e8a62d-45ac-41ed-8de2-e3b15fdc8e2f",
   "metadata": {
    "tags": []
   },
   "outputs": [],
   "source": [
    "from IPython.display import clear_output\n",
    "\n",
    "# Install pymilvus compatible with Milvus v2.3.x\n",
    "!python -m pip install pymilvus==2.3.7\n",
    "\n",
    "# Install pymilvus compatible with Milvus v2.4.x\n",
    "!python -m pip install pymilvus==2.4.4\n",
    "\n",
    "# Update PyMilvus to the newest version\n",
    "!python -m pip install --upgrade pymilvus\n",
    "\n",
    "# Verify installation success\n",
    "!python -m pip list | grep pymilvus\n",
    "\n",
    "!python -m pip uninstall -y setuptools\n",
    "\n",
    "# Required for pymilvus\n",
    "!python -m pip install setuptools==69.0.3"
   ]
  },
  {
   "cell_type": "code",
   "execution_count": null,
   "id": "2b77311e-3a02-4ff6-a356-ecd1d0e1f825",
   "metadata": {
    "tags": []
   },
   "outputs": [],
   "source": [
    "from pprint import pprint\n",
    "\n",
    "def print_results(results):\n",
    "\n",
    "    for el in results:\n",
    "        pprint(el)"
   ]
  },
  {
   "cell_type": "code",
   "execution_count": null,
   "id": "8ab107ed-fc1e-4075-849c-b36d8a682c41",
   "metadata": {
    "tags": []
   },
   "outputs": [],
   "source": [
    "# Open the configuration file\n",
    "import yaml\n",
    "\n",
    "with open(\"credentials.yaml\") as f:\n",
    "    credentials = yaml.safe_load(f)\n",
    "\n",
    "    CLUSTER_ENDPOINT = credentials[\"CLUSTER_ENDPOINT\"]\n",
    "    TOKEN = credentials[\"TOKEN\"]"
   ]
  },
  {
   "cell_type": "code",
   "execution_count": null,
   "id": "988ba49d-589f-4fa6-a906-3b07271c23f7",
   "metadata": {
    "tags": []
   },
   "outputs": [],
   "source": [
    "from pymilvus import MilvusClient\n",
    "\n",
    "# Initialize a MilvusClient instance\n",
    "client = MilvusClient(\n",
    "    uri = CLUSTER_ENDPOINT,\n",
    "    token = TOKEN\n",
    ")"
   ]
  },
  {
   "cell_type": "code",
   "execution_count": null,
   "id": "88aed825-e653-424b-93f7-fa72555fb341",
   "metadata": {
    "tags": []
   },
   "outputs": [],
   "source": [
    "from pymilvus import DataType\n",
    "\n",
    "# Create a schema\n",
    "schema = MilvusClient.create_schema(\n",
    "    auto_id = False,\n",
    "    enable_dynamic_field = True,\n",
    ")\n",
    "\n",
    "# Add the following fields to the schema\n",
    "# - id (primary, INT64)\n",
    "# - pet_vector (FLOAT_VECTOR, 5 dimensions)\n",
    "# - breed_vector (FLOAT_VECTOR, 10 dimensions)\n",
    "# - species (VARCHAR)\n",
    "# - eye_color (VARCHAR)\n",
    "schema.add_field(field_name = \"id\", datatype = DataType.INT64, is_primary = True)\n",
    "schema.add_field(field_name = \"pet_vector\", datatype = DataType.FLOAT_VECTOR, dim = 5)\n",
    "schema.add_field(field_name = \"breed_vector\", datatype = DataType.FLOAT_VECTOR, dim = 10)\n",
    "schema.add_field(field_name = \"species\", datatype = DataType.VARCHAR, max_length = 1000)\n",
    "schema.add_field(field_name = \"pet_name\", datatype = DataType.VARCHAR, max_length = 1000)"
   ]
  },
  {
   "cell_type": "code",
   "execution_count": null,
   "id": "2ef422ea-a8d1-4e96-b791-373ee2a54de6",
   "metadata": {
    "tags": []
   },
   "outputs": [],
   "source": [
    "# Add index to id, pet_vector, breed_vector, and species\n",
    "index_params = client.prepare_index_params()\n",
    "\n",
    "index_params.add_index(\n",
    "    field_name = \"id\",\n",
    "    index_type = \"STL_SORT\"\n",
    ")\n",
    "\n",
    "index_params.add_index(\n",
    "    field_name = \"pet_vector\",\n",
    "    index_type = \"AUTOINDEX\",\n",
    "    metric_type = \"IP\",\n",
    "    params = { \"nlist\": 128 }\n",
    ")\n",
    "\n",
    "index_params.add_index(\n",
    "    field_name = \"breed_vector\",\n",
    "    index_type = \"AUTOINDEX\",\n",
    "    metric_type = \"IP\",\n",
    "    params = { \"nlist\": 128 }\n",
    ")\n",
    "\n",
    "index_params.add_index(\n",
    "    field_name = \"pet_name\",\n",
    "    index_type = \"TRIE\"\n",
    ")"
   ]
  },
  {
   "cell_type": "code",
   "execution_count": null,
   "id": "2a6599ab-776d-4180-9925-3bfcf47a80f2",
   "metadata": {
    "tags": []
   },
   "outputs": [],
   "source": [
    "# Create a collection with the index\n",
    "client.create_collection(\n",
    "    collection_name = \"pet_collection\",\n",
    "    schema = schema,\n",
    "    index_params = index_params\n",
    ")\n",
    "\n",
    "# Get the collection load state\n",
    "load_state = client.get_load_state(\n",
    "    collection_name = \"pet_collection\"\n",
    ")\n",
    "\n",
    "print(load_state)"
   ]
  },
  {
   "cell_type": "code",
   "execution_count": null,
   "id": "8e7d5c0a-6485-4f7b-8bd6-e09fa769ceee",
   "metadata": {
    "tags": []
   },
   "outputs": [],
   "source": [
    "# Add an alias zoo_collection to the collection\n",
    "# Create alias\n",
    "client.create_alias(\n",
    "    collection_name = \"pet_collection\",\n",
    "    alias = \"zoo_collection\"\n",
    ")"
   ]
  },
  {
   "cell_type": "code",
   "execution_count": null,
   "id": "bc1cd1e7-91a1-4613-a52b-8f7a1410c983",
   "metadata": {
    "tags": []
   },
   "outputs": [],
   "source": [
    "# Create two partitions: savannah and artic using the alias zoo_collection\n",
    "client.create_partition(\n",
    "    collection_name = \"zoo_collection\",\n",
    "    partition_name = \"savannah\"\n",
    ")\n",
    "\n",
    "client.create_partition(\n",
    "    collection_name = \"zoo_collection\",\n",
    "    partition_name = \"artic\"\n",
    ")\n",
    "\n",
    "# Collect the list of partitions\n",
    "partitions = client.list_partitions(collection_name = \"zoo_collection\")\n",
    "\n",
    "print(partitions)"
   ]
  },
  {
   "cell_type": "code",
   "execution_count": null,
   "id": "7742ae24-f439-4dfd-bfcd-f753eec20272",
   "metadata": {
    "tags": []
   },
   "outputs": [],
   "source": [
    "# Create 10k data for the main collection, using proper animal names based on the biome\n",
    "import random\n",
    "\n",
    "# List 10 pets to be inserted in the DB\n",
    "pet_names = [\"cat\", \"dog\", \"penguin\", \"lion\", \"zebra\", \"cow\", \"jaguar\", \"whale\", \"snake\", \"spider\"]\n",
    "# List three random species\n",
    "species = [\"feline\", \"canine\", \"insect\"]\n",
    "\n",
    "data = []\n",
    "\n",
    "# Generate 10'000 animals\n",
    "for i in range(10000):\n",
    "    data.append({\n",
    "        \"id\": i,\n",
    "        \"pet_vector\": [ random.uniform(-1, 1) for _ in range(5) ],\n",
    "        \"breed_vector\": [ random.uniform(-1, 1) for _ in range(10) ],\n",
    "        \"species\": random.choice(species),\n",
    "        \"pet_name\": random.choice(pet_names)\n",
    "    })"
   ]
  },
  {
   "cell_type": "code",
   "execution_count": null,
   "id": "2c37c04f-e442-4e37-a2cf-408165a086d2",
   "metadata": {
    "tags": []
   },
   "outputs": [],
   "source": [
    "# Add data to the collection and return the number of loaded elements\n",
    "insert_result = client.insert(\n",
    "    collection_name = \"zoo_collection\",\n",
    "    data = data,\n",
    ")\n",
    "\n",
    "print(insert_result[\"insert_count\"])"
   ]
  },
  {
   "cell_type": "code",
   "execution_count": null,
   "id": "72d6a3f4-ab6d-4743-b7dd-2885b4193025",
   "metadata": {
    "tags": []
   },
   "outputs": [],
   "source": [
    "# Create 5k data each for the partitions, using proper animal names based on the biome\n",
    "import random\n",
    "\n",
    "# List savannah animals\n",
    "savannah_pets = [\"lion\", \"zebra\", \"snake\"]\n",
    "# List artic animals\n",
    "artic_pets = [\"penguin\", \"whale\", \"sea lion\"]\n",
    "# List three random species\n",
    "species = [\"feline\", \"canine\", \"insect\"]\n",
    "\n",
    "savannah_biome_data = []\n",
    "artic_biome_data = []\n",
    "\n",
    "# Generate 10'000 animals\n",
    "for i in range(10000):\n",
    "savannah_biome_data.append({\n",
    "    \"id\": i,\n",
    "    \"pet_vector\": [ random.uniform(-1, 1) for _ in range(5) ],\n",
    "    \"breed_vector\": [ random.uniform(-1, 1) for _ in range(10) ],\n",
    "    \"species\": random.choice(species),\n",
    "    \"pet_name\": random.choice(savannah_pets)\n",
    "})\n",
    "\n",
    "artic_biome_data.append({\n",
    "    \"id\": i,\n",
    "    \"pet_vector\": [ random.uniform(-1, 1) for _ in range(5) ],\n",
    "    \"breed_vector\": [ random.uniform(-1, 1) for _ in range(10) ],\n",
    "    \"species\": random.choice(species),\n",
    "    \"pet_name\": random.choice(artic_pets)\n",
    "})"
   ]
  },
  {
   "cell_type": "code",
   "execution_count": null,
   "id": "8380260f-5119-48a6-ac81-3442ad99af73",
   "metadata": {
    "tags": []
   },
   "outputs": [],
   "source": [
    "# Upsert the data in both collections and print the number of elements upserted\n",
    "upsert_partition_status_savannah = client.upsert(\n",
    "    collection_name = \"zoo_collection\",\n",
    "    data = savannah_biome_data,\n",
    "    partition_name = \"savannah\"\n",
    ")\n",
    "\n",
    "print(upsert_partition_status_savannah[\"upsert_count\"])\n",
    "\n",
    "upsert_partition_status_artic = client.upsert(\n",
    "    collection_name = \"zoo_collection\",\n",
    "    data = artic_biome_data,\n",
    "    partition_name = \"artic\"\n",
    ")\n",
    "\n",
    "print(upsert_partition_status_artic[\"upsert_count\"])"
   ]
  },
  {
   "cell_type": "code",
   "execution_count": null,
   "id": "e4c4b000-4197-45ff-8596-8cdbe09ccf81",
   "metadata": {
    "tags": []
   },
   "outputs": [],
   "source": [
    "# Delete the first 1k entities in each partition\n",
    "id_to_delete = [i for i in range(1000)]\n",
    "\n",
    "delete_status_savannah = client.delete(\n",
    "    collection_name = \"zoo_collection\",\n",
    "    ids = id_to_delete,\n",
    "    partition_name = \"savannah\"\n",
    ")\n",
    "\n",
    "delete_status_artic = client.delete(\n",
    "    collection_name = \"zoo_collection\",\n",
    "    ids = id_to_delete,\n",
    "    partition_name = \"artic\"\n",
    ")\n",
    "\n",
    "print(delete_status_savannah)\n",
    "print(delete_status_artic)"
   ]
  },
  {
   "cell_type": "code",
   "execution_count": null,
   "id": "c2971aca-0503-4d34-ab46-fb59ed5c9154",
   "metadata": {
    "tags": []
   },
   "outputs": [],
   "source": [
    "# Search for the top 3 elements that are close to a randomly generated breed_vector using IP as the metric\n",
    "breed_vector = [ random.uniform(-1, 1) for _ in range(10) ]\n",
    "\n",
    "search_status = client.search(\n",
    "    collection_name = \"zoo_collection\",\n",
    "    data = [breed_vector],\n",
    "    anns_field = \"breed_vector\",\n",
    "    limit = 3,\n",
    "    search_params = {\"metric_type\": \"IP\", \"params\": {\"level\": 1}}\n",
    ")\n",
    "\n",
    "print_results(search_status)"
   ]
  },
  {
   "cell_type": "code",
   "execution_count": null,
   "id": "85b306f0-c84a-41d6-a7d8-82c3cb9f9a9a",
   "metadata": {
    "tags": []
   },
   "outputs": [],
   "source": [
    "# Search for the top 5 elements that are close to 3 randomly generated breed_vector using IP as the metric and return their species\n",
    "breed_vector = [[ random.uniform(-1, 1) for _ in range(10) ] for j in range(3)]\n",
    "\n",
    "search_status = client.search(\n",
    "    collection_name = \"zoo_collection\",\n",
    "    data = breed_vector,\n",
    "    anns_field = \"breed_vector\",\n",
    "    output_fields = [\"species\"],\n",
    "    limit = 5,\n",
    "    search_params = {\"metric_type\": \"IP\", \"params\": {\"level\": 1}}\n",
    ")\n",
    "\n",
    "print_results(search_status)"
   ]
  },
  {
   "cell_type": "code",
   "execution_count": null,
   "id": "e3a3e419-7455-4b54-a88d-365753f12482",
   "metadata": {
    "tags": []
   },
   "outputs": [],
   "source": [
    "# Search the top 10 elements whose pet_name contains the letter i that are close to a randomly generated pet_vector and return their names\n",
    "pet_vector = [ random.uniform(-1, 1) for _ in range(5) ]\n",
    "\n",
    "search_status = client.search(\n",
    "    collection_name = \"zoo_collection\",\n",
    "    data = [pet_vector],\n",
    "    anns_field = \"pet_vector\",\n",
    "    output_fields = [\"pet_name\"],\n",
    "    filter = 'pet_name like \"%i%\"',\n",
    "    limit = 10,\n",
    "    search_params = {\"metric_type\": \"IP\", \"params\": {\"level\": 1}}\n",
    ")\n",
    "\n",
    "print_results(search_status)"
   ]
  },
  {
   "cell_type": "code",
   "execution_count": null,
   "id": "b22e301d-b18b-4758-bcbc-4bb934ecb594",
   "metadata": {
    "tags": []
   },
   "outputs": [],
   "source": [
    "# Perform a group seach for the elements whose pet_name contains the letter i that are close to a randomly generated pet_vector\n",
    "search_status = client.search(\n",
    "    collection_name = \"zoo_collection\",\n",
    "    data = [pet_vector],\n",
    "    anns_field = \"pet_vector\",\n",
    "    output_fields = [\"pet_name\"],\n",
    "    filter = 'pet_name like \"%i%\"',\n",
    "    group_by_field = \"pet_name\",\n",
    "    search_params = {\"metric_type\": \"IP\", \"params\": {\"level\": 1}}\n",
    ")\n",
    "\n",
    "pet_names = [result['entity']['pet_name'] for result in search_status[0]]\n",
    "print(pet_names)"
   ]
  },
  {
   "cell_type": "code",
   "execution_count": null,
   "id": "03303e0a-4f6b-4d6a-accf-b2b0e4c5e1c3",
   "metadata": {
    "tags": []
   },
   "outputs": [],
   "source": [
    "# Get the entities with id from 1200 to 1205 for each partition\n",
    "savannah_elements = client.get(\n",
    "    collection_name = \"zoo_collection\",\n",
    "    ids = [ (i+1200) for i in range(5) ],\n",
    "    partition = \"savannah\"\n",
    ")\n",
    "\n",
    "print_results(savannah_elements)\n",
    "\n",
    "artic_elements = client.get(\n",
    "    collection_name = \"zoo_collection\",\n",
    "    ids = [ (i+1200) for i in range(5) ],\n",
    "    partition = \"savannah\"\n",
    ")\n",
    "\n",
    "print_results(artic_elements)"
   ]
  },
  {
   "cell_type": "code",
   "execution_count": null,
   "id": "a5f446c7-4791-489e-85a7-d2f5a04533ff",
   "metadata": {
    "tags": []
   },
   "outputs": [],
   "source": [
    "# Perform a query to collect all the elements whose pet_name is spider and return their name\n",
    "spider_result = client.query(\n",
    "    collection_name = \"pet_collection\",\n",
    "    filter = 'pet_name == \"spider\"',\n",
    "    output_fields = [\"pet_name\"],\n",
    ")\n",
    "\n",
    "print_results(spider_result)"
   ]
  },
  {
   "cell_type": "code",
   "execution_count": null,
   "id": "12275e24-7527-48e4-9989-af048a9501bf",
   "metadata": {
    "tags": []
   },
   "outputs": [],
   "source": [
    "# Compute the ratio of artic pets and savannah pets (based on the arrays created to fill the collections) compared to the number of pets in the collection\n",
    "savannah_result = client.query(\n",
    "    collection_name = \"zoo_collection\",\n",
    "    filter = 'pet_name in [\"lion\", \"zebra\", \"snake\"]',\n",
    "    output_fields = [\"count(*)\"],\n",
    ")\n",
    "\n",
    "artic_result = client.query(\n",
    "    collection_name = \"zoo_collection\",\n",
    "    filter = 'pet_name in [\"penguin\", \"whale\", \"sea lion\"]',\n",
    "    output_fields = [\"count(*)\"],\n",
    ")\n",
    "\n",
    "all_result = client.query(\n",
    "    collection_name = \"zoo_collection\",\n",
    "    output_fields = [\"count(*)\"],\n",
    ")\n",
    "\n",
    "\n",
    "print(str(round(savannah_result[0][\"count(*)\"]/all_result[0][\"count(*)\"], 4) * 100) + \"%\")\n",
    "print(str(round(artic_result[0][\"count(*)\"]/all_result[0][\"count(*)\"], 4) * 100) + \"%\")"
   ]
  },
  {
   "cell_type": "code",
   "execution_count": null,
   "id": "efebbd97-7b49-4ce6-989d-44f226e50f47",
   "metadata": {
    "tags": []
   },
   "outputs": [],
   "source": [
    "# Count the number of entities whose pet_name is penguin or lion\n",
    "advanced_operator_result = client.query(\n",
    "    collection_name = \"zoo_collection\",\n",
    "    filter = 'pet_name == \"penguin\" or pet_name == \"lion\"',\n",
    "    output_fields = [\"count(*)\"],\n",
    ")\n",
    "\n",
    "print_results(advanced_operator_result)"
   ]
  },
  {
   "cell_type": "code",
   "execution_count": null,
   "id": "b6504338-5edc-4887-971c-028d40805e14",
   "metadata": {
    "tags": []
   },
   "outputs": [],
   "source": [
    "# Drop the collection and alias\n",
    "client.drop_collection(\n",
    "  collection_name=\"pet_collection\"\n",
    ")\n",
    "\n",
    "client.drop_alias(\n",
    "    collection_name = \"pet_collection\",\n",
    "    alias = \"zoo_collection\"\n",
    ")"
   ]
  },
  {
   "cell_type": "code",
   "execution_count": null,
   "id": "fe8b6ba8-da8d-4c7b-9538-7b73ba0fecca",
   "metadata": {
    "tags": []
   },
   "outputs": [],
   "source": [
    "# Create a new collection with a json field \"pet_features\" with the species and pet_name fields and an array of randomly generated ages\n",
    "# Also, remove breeding_vector\n",
    "\n",
    "# Create a schema\n",
    "schema = MilvusClient.create_schema(\n",
    "    auto_id = False,\n",
    "    enable_dynamic_field = True,\n",
    ")\n",
    "\n",
    "schema.add_field(field_name = \"id\", datatype = DataType.INT64, is_primary = True)\n",
    "schema.add_field(field_name = \"pet_vector\", datatype = DataType.FLOAT_VECTOR, dim = 5)\n",
    "schema.add_field(field_name = \"ages\", datatype = DataType.ARRAY, element_type = DataType.INT64, max_capacity = 10)\n",
    "schema.add_field(field_name = \"pet_features\", datatype = DataType.JSON)\n",
    "\n",
    "# Add index to id, pet_vector, breed_vector, and species\n",
    "index_params = client.prepare_index_params()\n",
    "\n",
    "index_params.add_index(\n",
    "    field_name = \"id\",\n",
    "    index_type = \"STL_SORT\"\n",
    ")\n",
    "\n",
    "index_params.add_index(\n",
    "    field_name = \"pet_vector\",\n",
    "    index_type = \"AUTOINDEX\",\n",
    "    metric_type = \"IP\",\n",
    "    params = { \"nlist\": 128 }\n",
    ")\n",
    "\n",
    "# Create a collection with the index\n",
    "client.create_collection(\n",
    "    collection_name = \"pet_collection\",\n",
    "    schema = schema,\n",
    "    index_params = index_params\n",
    ")\n",
    "\n",
    "# Get the collection load state\n",
    "load_state = client.get_load_state(\n",
    "    collection_name = \"pet_collection\"\n",
    ")\n",
    "\n",
    "print(load_state)"
   ]
  },
  {
   "cell_type": "code",
   "execution_count": null,
   "id": "916452ae-fc60-4456-bef4-cd8f77627300",
   "metadata": {
    "tags": []
   },
   "outputs": [],
   "source": [
    "# Create 10k data for the main collection, using proper animal names based on the biome\n",
    "import random\n",
    "\n",
    "# List 10 pets to be inserted in the DB\n",
    "pet_names = [\"cat\", \"dog\", \"penguin\", \"lion\", \"zebra\", \"cow\", \"jaguar\", \"whale\", \"snake\", \"spider\"]\n",
    "# List three random species\n",
    "species = [\"feline\", \"canine\", \"insect\"]\n",
    "\n",
    "data = []\n",
    "\n",
    "# Generate 10'000 animals\n",
    "for i in range(10000):\n",
    "    data.append({\n",
    "        \"id\": i,\n",
    "        \"pet_vector\": [ random.uniform(-1, 1) for _ in range(5) ],\n",
    "        \"ages\": [ (j+i) for j in range(10) ],\n",
    "        \"pet_features\": {\n",
    "            \"pet_name\": random.choice(pet_names),\n",
    "            \"species\": random.choice(species)\n",
    "        }\n",
    "    })"
   ]
  },
  {
   "cell_type": "code",
   "execution_count": null,
   "id": "bab443f2-f280-4b0c-a535-8828cc992b5e",
   "metadata": {
    "tags": []
   },
   "outputs": [],
   "source": [
    "# Add data to the collection and return the number of loaded elements\n",
    "insert_result = client.insert(\n",
    "    collection_name = \"pet_collection\",\n",
    "    data = data,\n",
    ")\n",
    "\n",
    "print(insert_result[\"insert_count\"])"
   ]
  },
  {
   "cell_type": "code",
   "execution_count": null,
   "id": "053d4973-b5f9-4cd8-a80b-57f3b881c69c",
   "metadata": {
    "tags": []
   },
   "outputs": [],
   "source": [
    "# Look for all the pets whose name is penguin, cat, or dog and return their pet name that are close to a random pet_vector\n",
    "pet_vector = [ random.uniform(-1, 1) for _ in range(5) ]\n",
    "\n",
    "advanced_search_result = client.query(\n",
    "    collection_name = \"pet_collection\",\n",
    "    data = [pet_vector],\n",
    "    filter = 'pet_features[\"pet_name\"] == \"penguin\" or pet_features[\"pet_name\"] == \"cat\" or pet_features[\"pet_name\"] == \"dog\"',\n",
    "    output_fields = [\"pet_name\"],\n",
    ")\n",
    "\n",
    "print(advanced_search_result)"
   ]
  },
  {
   "cell_type": "code",
   "execution_count": null,
   "id": "1d8b8156-8354-480c-81df-2dfbbb027bfb",
   "metadata": {
    "tags": []
   },
   "outputs": [],
   "source": [
    "# Look for all the pets whose ages array contains the numbers 11 and 12\n",
    "advanced_search_result = client.query(\n",
    "    collection_name = \"pet_collection\",\n",
    "    filter = \"ARRAY_CONTAINS_ALL(ages, [11, 12])\",\n",
    "    output_fields = [\"id\"],\n",
    "    limit = 3\n",
    ")\n",
    "\n",
    "print_results(advanced_search_result)"
   ]
  }
 ],
 "metadata": {
  "kernelspec": {
   "display_name": "Python 3 (ipykernel)",
   "language": "python",
   "name": "python3"
  },
  "language_info": {
   "codemirror_mode": {
    "name": "ipython",
    "version": 3
   },
   "file_extension": ".py",
   "mimetype": "text/x-python",
   "name": "python",
   "nbconvert_exporter": "python",
   "pygments_lexer": "ipython3",
   "version": "3.10.10"
  }
 },
 "nbformat": 4,
 "nbformat_minor": 5
}
