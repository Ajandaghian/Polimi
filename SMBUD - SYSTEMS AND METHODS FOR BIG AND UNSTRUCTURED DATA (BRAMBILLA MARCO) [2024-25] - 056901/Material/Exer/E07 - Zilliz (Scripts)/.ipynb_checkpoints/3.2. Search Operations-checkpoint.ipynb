{
 "cells": [
  {
   "cell_type": "markdown",
   "id": "e4d91622-0a2f-452c-98c8-0f745ec1c006",
   "metadata": {},
   "source": [
    "<h4>Initial Configuration</h4>"
   ]
  },
  {
   "cell_type": "code",
   "execution_count": null,
   "id": "9bb4f426-00d3-47ec-8330-db592b37e317",
   "metadata": {
    "tags": []
   },
   "outputs": [],
   "source": [
    "# Open the configuration file\n",
    "import yaml\n",
    "\n",
    "with open(\"credentials.yaml\") as f:\n",
    "    credentials = yaml.safe_load(f)\n",
    "    \n",
    "    CLUSTER_ENDPOINT = credentials[\"CLUSTER_ENDPOINT\"]\n",
    "    TOKEN = credentials[\"TOKEN\"]"
   ]
  },
  {
   "cell_type": "code",
   "execution_count": null,
   "id": "24d12ba2-8b88-46a8-836a-763251906725",
   "metadata": {
    "tags": []
   },
   "outputs": [],
   "source": [
    "from pymilvus import MilvusClient, DataType\n",
    "\n",
    "# Set up a Milvus client\n",
    "client = MilvusClient(\n",
    "    uri = CLUSTER_ENDPOINT,\n",
    "    token = TOKEN \n",
    ")\n",
    "\n",
    "from pymilvus import DataType\n",
    "\n",
    "# Create schema\n",
    "schema = MilvusClient.create_schema(\n",
    "    auto_id = False,\n",
    "    enable_dynamic_field = True,\n",
    ")\n",
    "\n",
    "# Add fields to schema\n",
    "schema.add_field(field_name = \"id\", datatype = DataType.INT64, is_primary = True)\n",
    "schema.add_field(field_name = \"vector\", datatype = DataType.FLOAT_VECTOR, dim = 5)\n",
    "schema.add_field(field_name = \"color\", datatype = DataType.VARCHAR, max_length = 1000)\n",
    "schema.add_field(field_name = \"color_tag\", datatype = DataType.VARCHAR, max_length = 1000)\n",
    "\n",
    "index_params = client.prepare_index_params()\n",
    "\n",
    "index_params.add_index(\n",
    "    field_name = \"vector\", \n",
    "    index_type = \"AUTOINDEX\",\n",
    "    metric_type = \"IP\",\n",
    "    params = { \"nlist\": 128 }\n",
    ")\n",
    "\n",
    "import time\n",
    "\n",
    "# Create a collection with the index loaded simultaneously\n",
    "client.create_collection(\n",
    "    collection_name = \"quick_setup_collection\",\n",
    "    schema = schema,\n",
    "    index_params = index_params\n",
    ")\n",
    "\n",
    "time.sleep(5)\n",
    "\n",
    "res = client.get_load_state(\n",
    "    collection_name = \"quick_setup_collection\"\n",
    ")\n",
    "\n",
    "print(res)"
   ]
  },
  {
   "cell_type": "markdown",
   "id": "9476eff9-4370-4de6-8d94-221e9cdff5be",
   "metadata": {},
   "source": [
    "<h4>Random Data Generation</h4>"
   ]
  },
  {
   "cell_type": "code",
   "execution_count": null,
   "id": "ca552fda-813d-4fc0-bda6-32b49f672599",
   "metadata": {
    "tags": []
   },
   "outputs": [],
   "source": [
    "import random\n",
    "\n",
    "# Insert randomly generated vectors \n",
    "colors = [\"green\", \"blue\", \"yellow\", \"red\", \"black\", \"white\", \"purple\", \"pink\", \"orange\", \"brown\", \"grey\"]\n",
    "data = []\n",
    "\n",
    "for i in range(1000):\n",
    "    current_color = random.choice(colors)\n",
    "    data.append({\n",
    "        \"id\": i,\n",
    "        \"vector\": [ random.uniform(-1, 1) for _ in range(5) ],\n",
    "        \"color\": current_color,\n",
    "        \"color_tag\": f\"{current_color}_{str(random.randint(1000, 9999))}\"\n",
    "    })\n",
    "\n",
    "insert_status = client.insert(\n",
    "    collection_name = \"quick_setup_collection\",\n",
    "    data = data\n",
    ")\n",
    "\n",
    "print(insert_status)"
   ]
  },
  {
   "cell_type": "markdown",
   "id": "f2b2e98d-6da7-4afe-8cb3-463c47770168",
   "metadata": {
    "tags": []
   },
   "source": [
    "<h4>Generate Partitions</h4>"
   ]
  },
  {
   "cell_type": "code",
   "execution_count": null,
   "id": "9c311676-63be-4f0a-8503-e1cc17ab909c",
   "metadata": {
    "tags": []
   },
   "outputs": [],
   "source": [
    "# Create blue and red partitions\n",
    "client.create_partition(\n",
    "    collection_name = \"quick_setup_collection\",\n",
    "    partition_name = \"red\"\n",
    ")\n",
    "\n",
    "client.create_partition(\n",
    "    collection_name = \"quick_setup_collection\",\n",
    "    partition_name = \"blue\"\n",
    ")\n",
    "\n",
    "# Insert data into partitions\n",
    "red_data = [ {\"id\": i, \"vector\": [ random.uniform(-1, 1) for _ in range(5) ], \"color\": \"red\", \"color_tag\": f\"red_{str(random.randint(1000, 9999))}\" } for i in range(500) ]\n",
    "blue_data = [ {\"id\": i, \"vector\": [ random.uniform(-1, 1) for _ in range(5) ], \"color\": \"blue\", \"color_tag\": f\"blue_{str(random.randint(1000, 9999))}\" } for i in range(500) ]\n",
    "\n",
    "insert_status = client.insert(\n",
    "    collection_name = \"quick_setup_collection\",\n",
    "    data = red_data,\n",
    "    partition_name = \"red\"\n",
    ")\n",
    "\n",
    "print(insert_status)\n",
    "\n",
    "insert_status = client.insert(\n",
    "    collection_name = \"quick_setup_collection\",\n",
    "    data = blue_data,\n",
    "    partition_name = \"blue\"\n",
    ")\n",
    "\n",
    "print(insert_status)"
   ]
  },
  {
   "cell_type": "markdown",
   "id": "14fca28a-ee70-4248-8dde-3707842f69d5",
   "metadata": {},
   "source": [
    "<h4>Single Vector Search</h4>"
   ]
  },
  {
   "cell_type": "code",
   "execution_count": null,
   "id": "023ff572-fa9f-4eaf-a0cd-2a0bb08f33f0",
   "metadata": {
    "tags": []
   },
   "outputs": [],
   "source": [
    "import json\n",
    "# Single vector search\n",
    "query_vector = [0.3580376395471989, -0.6023495712049978, 0.18414012509913835, -0.26286205330961354, 0.9029438446296592]\n",
    "\n",
    "search_status = client.search(\n",
    "    collection_name = \"quick_setup_collection\",\n",
    "    data = [query_vector],\n",
    "    limit = 3, # The number of results to return\n",
    "    search_params = {\"metric_type\": \"IP\", \"params\": {\"level\": 1}}\n",
    ")\n",
    "\n",
    "search_result = json.dumps(search_status, indent = 4)\n",
    "print(search_result)"
   ]
  },
  {
   "cell_type": "markdown",
   "id": "2b52c4ad-2ab8-40a9-a071-5673be1d9228",
   "metadata": {
    "tags": []
   },
   "source": [
    "<h4>Batch Vector Search</h4>"
   ]
  },
  {
   "cell_type": "code",
   "execution_count": null,
   "id": "b167454c-f917-47ce-82f4-c9a8e5c8066c",
   "metadata": {
    "tags": []
   },
   "outputs": [],
   "source": [
    "# Batch-vector search\n",
    "bulk_query_vectors = [\n",
    "    [0.3580376395471989, -0.6023495712049978, 0.18414012509913835, -0.26286205330961354, 0.9029438446296592],\n",
    "    [0.19886812562848388, 0.06023560599112088, 0.6976963061752597, 0.2614474506242501, 0.838729485096104]\n",
    "] # A list of two vectors\n",
    "\n",
    "bulk_search_status = client.search(\n",
    "    collection_name = \"quick_setup_collection\",\n",
    "    data = bulk_query_vectors, \n",
    "    limit = 2,\n",
    "    search_params = {\"metric_type\": \"IP\", \"params\": {\"level\": 1}}\n",
    ")\n",
    "\n",
    "\n",
    "bulk_result = json.dumps(bulk_search_status, indent = 4)\n",
    "print(bulk_result)"
   ]
  },
  {
   "cell_type": "markdown",
   "id": "190a11c4-17e2-4721-b64b-098d4f6907a8",
   "metadata": {
    "tags": []
   },
   "source": [
    "<h4>Partition Search</h4>"
   ]
  },
  {
   "cell_type": "code",
   "execution_count": null,
   "id": "c0c78a16-c73c-4ce5-9ac0-aae57e782679",
   "metadata": {
    "tags": []
   },
   "outputs": [],
   "source": [
    "# Search within a partition\n",
    "partition_query_vector = [0.3580376395471989, -0.6023495712049978, 0.18414012509913835, -0.26286205330961354, 0.9029438446296592]\n",
    "\n",
    "partition_search_status = client.search(\n",
    "    collection_name = \"quick_setup_collection\",\n",
    "    data = [partition_query_vector],\n",
    "    limit = 5,\n",
    "    search_params = {\"metric_type\": \"IP\", \"params\": {\"level\": 1}}, # level -> search precision level (higher > more accurate > more computation time)\n",
    "    partition_names = [\"red\"]\n",
    ")\n",
    "\n",
    "\n",
    "partition_result = json.dumps(partition_search_status, indent = 4)\n",
    "print(partition_result)"
   ]
  },
  {
   "cell_type": "markdown",
   "id": "2a37065c-6556-486c-9004-14f1602f11d6",
   "metadata": {},
   "source": [
    "<h4>Configure Output Fields</h4>"
   ]
  },
  {
   "cell_type": "code",
   "execution_count": null,
   "id": "55993a8c-243f-4d59-919b-04c56f9122e6",
   "metadata": {
    "tags": []
   },
   "outputs": [],
   "source": [
    "# Search with output fields\n",
    "output_query_vector = [0.3580376395471989, -0.6023495712049978, 0.18414012509913835, -0.26286205330961354, 0.9029438446296592]\n",
    "\n",
    "output_search_status = client.search(\n",
    "    collection_name = \"quick_setup_collection\",\n",
    "    data = [output_query_vector],\n",
    "    limit = 5,\n",
    "    search_params = {\"metric_type\": \"IP\", \"params\": {\"level\": 1}},\n",
    "    output_fields = [\"color\"]\n",
    ")\n",
    "\n",
    "output_result = json.dumps(output_search_status, indent = 4)\n",
    "print(output_result)"
   ]
  },
  {
   "cell_type": "markdown",
   "id": "1d6f8b4b-77ee-4e90-ab0b-7d51b4e80f70",
   "metadata": {},
   "source": [
    "<h4>Like Operator</h4>"
   ]
  },
  {
   "cell_type": "code",
   "execution_count": null,
   "id": "2a22dbfb-79a0-4d6c-ad53-4e4a88fe9765",
   "metadata": {
    "tags": []
   },
   "outputs": [],
   "source": [
    "# Filter with \"like\" operator and prefix wildcard\n",
    "like_query_vector = [0.3580376395471989, -0.6023495712049978, 0.18414012509913835, -0.26286205330961354, 0.9029438446296592]\n",
    "\n",
    "like_search_status = client.search(\n",
    "    collection_name = \"quick_setup_collection\",\n",
    "    data = [like_query_vector],\n",
    "    limit = 5,\n",
    "    search_params = {\"metric_type\": \"IP\", \"params\": {\"level\": 1}},\n",
    "    filter = 'color_tag like \"red%\"',\n",
    "    output_fields = [\"color_tag\"]\n",
    ")\n",
    "\n",
    "like_result = json.dumps(like_search_status, indent = 4)\n",
    "print(like_result)"
   ]
  },
  {
   "cell_type": "code",
   "execution_count": null,
   "id": "53d03f54-8010-42cd-8cf6-2e0d592be1f9",
   "metadata": {
    "tags": []
   },
   "outputs": [],
   "source": [
    "import json\n",
    "\n",
    "# Infix match on color field\n",
    "infix_query_vector = [0.3580376395471989, -0.6023495712049978, 0.18414012509913835, -0.26286205330961354, 0.9029438446296592]\n",
    "\n",
    "infix_search_status = client.search(\n",
    "    collection_name = \"quick_setup_collection\", # Replace with the actual name of your collection\n",
    "    data = [infix_query_vector],\n",
    "    limit = 5, # Max. number of search results to return\n",
    "    search_params = {\"metric_type\": \"IP\", \"params\": {\"level\": 1}}, # Search parameters\n",
    "    output_fields = [\"color_tag\"], # Output fields to return\n",
    "    filter = 'color like \"%ll%\"' # Filter on color field, infix match on \"ll\"\n",
    ")\n",
    "\n",
    "infix_result = json.dumps(infix_search_status, indent = 4)\n",
    "print(infix_result)"
   ]
  },
  {
   "cell_type": "markdown",
   "id": "01eed96a-baf6-435e-b211-d9d953d11d8b",
   "metadata": {
    "tags": []
   },
   "source": [
    "<h4>Range Search</h4>"
   ]
  },
  {
   "cell_type": "code",
   "execution_count": null,
   "id": "2ce34cad-5ee3-4366-9f75-f64ca091d20e",
   "metadata": {
    "tags": []
   },
   "outputs": [],
   "source": [
    "# Range search\n",
    "range_search_params = {\n",
    "    \"metric_type\": \"IP\",\n",
    "    \"params\": {\n",
    "        \"radius\": 0.8, # Radius of the search circle\n",
    "        \"range_filter\": 1.0 # Range filter to filter out vectors that are not within the search circle\n",
    "    }\n",
    "}\n",
    "\n",
    "range_query_vector = [0.3580376395471989, -0.6023495712049978, 0.18414012509913835, -0.26286205330961354, 0.9029438446296592]\n",
    "\n",
    "range_search_status = client.search(\n",
    "    collection_name = \"quick_setup_collection\",\n",
    "    data = [range_query_vector],\n",
    "    limit = 3,\n",
    "    search_params = range_search_params, # Search parameters\n",
    "    output_fields = [\"color_tag\"], # Output fields to return\n",
    ")\n",
    "\n",
    "range_result = json.dumps(range_search_status, indent=4)\n",
    "print(range_result)"
   ]
  },
  {
   "cell_type": "markdown",
   "id": "b5109ca6-d8a4-45f7-91fc-7b873c7e2b2d",
   "metadata": {},
   "source": [
    "<h4>Group Search</h4>"
   ]
  },
  {
   "cell_type": "code",
   "execution_count": null,
   "id": "bccf3e1c-d0fd-4135-b4cc-e12544ebea40",
   "metadata": {
    "tags": []
   },
   "outputs": [],
   "source": [
    "# Load data into collection\n",
    "client.load_collection(\"quick_setup_collection\") # Collection name\n",
    "\n",
    "# Group search results\n",
    "res = client.search(\n",
    "    collection_name = \"quick_setup_collection\", # Collection name\n",
    "    data = [[0.14529211512077012, 0.9147257273453546, 0.7965055218724449, 0.7009258593102812, 0.5605206522382088]], # Query vector\n",
    "    search_params = {\n",
    "        \"metric_type\": \"IP\",\n",
    "        \"params\": {\"level\": 1},\n",
    "    },\n",
    "    limit = 10,\n",
    "    group_by_field = \"id\",\n",
    "    output_fields = [\"id\", \"color\", \"color_tag\"]\n",
    ")\n",
    "\n",
    "# Retrieve the values in the `doc_id` column\n",
    "doc_ids = [result['entity']['color'] for result in res[0]]\n",
    "\n",
    "print(doc_ids)"
   ]
  },
  {
   "cell_type": "code",
   "execution_count": null,
   "id": "436e35af-7f59-424f-8472-8324f2b8c25e",
   "metadata": {
    "tags": []
   },
   "outputs": [],
   "source": [
    "# Drop collection\n",
    "client.drop_collection(\n",
    "    collection_name = \"quick_setup_collection\",\n",
    ")"
   ]
  },
  {
   "cell_type": "code",
   "execution_count": null,
   "id": "f24912f4-4b7a-4113-a2a3-228d594d50ba",
   "metadata": {},
   "outputs": [],
   "source": []
  }
 ],
 "metadata": {
  "kernelspec": {
   "display_name": "Python 3 (ipykernel)",
   "language": "python",
   "name": "python3"
  },
  "language_info": {
   "codemirror_mode": {
    "name": "ipython",
    "version": 3
   },
   "file_extension": ".py",
   "mimetype": "text/x-python",
   "name": "python",
   "nbconvert_exporter": "python",
   "pygments_lexer": "ipython3",
   "version": "3.10.5"
  }
 },
 "nbformat": 4,
 "nbformat_minor": 5
}
