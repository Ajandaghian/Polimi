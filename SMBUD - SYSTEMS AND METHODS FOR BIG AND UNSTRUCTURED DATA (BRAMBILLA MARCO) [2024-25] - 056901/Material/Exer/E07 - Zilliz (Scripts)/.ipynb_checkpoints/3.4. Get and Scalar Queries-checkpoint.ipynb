{
 "cells": [
  {
   "cell_type": "markdown",
   "id": "bb445f80-c89d-4ada-9414-15a27f49f7d9",
   "metadata": {
    "tags": []
   },
   "source": [
    "<h4>Configure Collection</h4>"
   ]
  },
  {
   "cell_type": "code",
   "execution_count": null,
   "id": "f5e8d9e2-7521-4ace-af1a-2e7fedc2d0c7",
   "metadata": {
    "tags": []
   },
   "outputs": [],
   "source": [
    "# Open the configuration file\n",
    "import yaml\n",
    "\n",
    "with open(\"credentials.yaml\") as f:\n",
    "    credentials = yaml.safe_load(f)\n",
    "    \n",
    "    CLUSTER_ENDPOINT = credentials[\"CLUSTER_ENDPOINT\"]\n",
    "    TOKEN = credentials[\"TOKEN\"]"
   ]
  },
  {
   "cell_type": "code",
   "execution_count": null,
   "id": "f9ad4fbf-4c59-4fbd-81cb-8a84cffa2ec4",
   "metadata": {
    "tags": []
   },
   "outputs": [],
   "source": [
    "from pprint import pprint\n",
    "\n",
    "def print_results(results):\n",
    "\n",
    "    for el in results:\n",
    "        pprint(el)"
   ]
  },
  {
   "cell_type": "code",
   "execution_count": null,
   "id": "0c185312-f8ed-4044-b0dd-d8033328a797",
   "metadata": {
    "tags": []
   },
   "outputs": [],
   "source": [
    "import random, time\n",
    "from pymilvus import MilvusClient\n",
    "\n",
    "# Set up a Milvus client\n",
    "client = MilvusClient(\n",
    "    uri = CLUSTER_ENDPOINT,\n",
    "    token = TOKEN \n",
    ")\n",
    "\n",
    "# Create a collection\n",
    "client.create_collection(\n",
    "    collection_name = \"quick_setup_collection\",\n",
    "    dimension = 5,\n",
    ")"
   ]
  },
  {
   "cell_type": "markdown",
   "id": "d96e18b8-d4c2-4f67-a3b9-e67a64963807",
   "metadata": {},
   "source": [
    "<h4>Generate and Uplopad Random Data</h4>"
   ]
  },
  {
   "cell_type": "code",
   "execution_count": null,
   "id": "827f3b09-c555-420f-becb-2a09c227234d",
   "metadata": {
    "tags": []
   },
   "outputs": [],
   "source": [
    "# Insert randomly generated vectors \n",
    "colors = [\"green\", \"blue\", \"yellow\", \"red\", \"black\", \"white\", \"purple\", \"pink\", \"orange\", \"brown\", \"grey\"]\n",
    "data = []\n",
    "\n",
    "for i in range(1000):\n",
    "    current_color = random.choice(colors)\n",
    "    current_tag = random.randint(1000, 9999)\n",
    "    data.append({\n",
    "        \"id\": i,\n",
    "        \"vector\": [ random.uniform(-1, 1) for _ in range(5) ],\n",
    "        \"color\": current_color,\n",
    "        \"tag\": current_tag,\n",
    "        \"color_tag\": f\"{current_color}_{str(current_tag)}\"\n",
    "    })\n",
    "\n",
    "print(data[0])\n",
    "\n",
    "res = client.insert(\n",
    "    collection_name = \"quick_setup_collection\",\n",
    "    data = data\n",
    ")\n",
    "\n",
    "print(res)"
   ]
  },
  {
   "cell_type": "code",
   "execution_count": null,
   "id": "65ec08af-a1b8-4070-8e0e-eeea824d9ea2",
   "metadata": {
    "tags": []
   },
   "outputs": [],
   "source": [
    "# Create partitions and insert more entities\n",
    "client.create_partition(\n",
    "    collection_name = \"quick_setup_collection\",\n",
    "    partition_name = \"partition_1\"\n",
    ")\n",
    "\n",
    "client.create_partition(\n",
    "    collection_name = \"quick_setup_collection\",\n",
    "    partition_name = \"partition_2\"\n",
    ")\n",
    "\n",
    "# Create Data for Partitions\n",
    "data_partition_1 = []\n",
    "\n",
    "for i in range(1000, 1500):\n",
    "    current_color = random.choice(colors)\n",
    "    data_partition_1.append({\n",
    "        \"id\": i,\n",
    "        \"vector\": [ random.uniform(-1, 1) for _ in range(5) ],\n",
    "        \"color\": current_color,\n",
    "        \"tag\": current_tag,\n",
    "        \"color_tag\": f\"{current_color}_{str(current_tag)}\"\n",
    "    })\n",
    "\n",
    "result_insert_partition_1 = client.insert(\n",
    "    collection_name = \"quick_setup_collection\",\n",
    "    data = data_partition_1,\n",
    "    partition_name = \"partition_1\"\n",
    ")\n",
    "\n",
    "print(result_insert_partition_1)\n",
    "\n",
    "data_partition_2 = []\n",
    "\n",
    "for i in range(1500, 2000):\n",
    "    current_color = random.choice(colors)\n",
    "    data_partition_2.append({\n",
    "        \"id\": i,\n",
    "        \"vector\": [ random.uniform(-1, 1) for _ in range(5) ],\n",
    "        \"color\": current_color,\n",
    "        \"tag\": current_tag,\n",
    "        \"color_tag\": f\"{current_color}_{str(current_tag)}\"\n",
    "    })\n",
    "\n",
    "result_insert_partition_2 = client.insert(\n",
    "    collection_name = \"quick_setup_collection\",\n",
    "    data = data_partition_2,\n",
    "    partition_name = \"partition_2\"\n",
    ")\n",
    "\n",
    "print(result_insert_partition_2)"
   ]
  },
  {
   "cell_type": "markdown",
   "id": "93a9e8d4-9fd9-425f-b300-ac25234db39b",
   "metadata": {},
   "source": [
    "<h4>Get Entities by ID</h4>"
   ]
  },
  {
   "cell_type": "code",
   "execution_count": null,
   "id": "ab81509c-cea9-47c3-8713-4124741eb6d7",
   "metadata": {
    "tags": []
   },
   "outputs": [],
   "source": [
    "# Get entities by ID\n",
    "entities_by_id = client.get(\n",
    "    collection_name = \"quick_setup_collection\",\n",
    "    ids = [0, 1, 2]\n",
    ")\n",
    "\n",
    "print_results(entities_by_id)"
   ]
  },
  {
   "cell_type": "code",
   "execution_count": null,
   "id": "5bb525c5-8710-424e-8554-09476d8f6837",
   "metadata": {
    "tags": []
   },
   "outputs": [],
   "source": [
    "# Get entities from partitions\n",
    "partition_entities_by_id = client.get(\n",
    "    collection_name = \"quick_setup_collection\",\n",
    "    ids = [1000, 1001, 1002],\n",
    "    partition_names = [\"partition_1\"]\n",
    ")\n",
    "\n",
    "print_results(partition_entities_by_id)"
   ]
  },
  {
   "cell_type": "markdown",
   "id": "88bf9a1f-5a8a-4b38-bc34-857fc0c66ca3",
   "metadata": {},
   "source": [
    "<h4>Basic Filtering Queries</h4>"
   ]
  },
  {
   "cell_type": "code",
   "execution_count": null,
   "id": "44c82f56-394b-43b2-8c37-bf169c432628",
   "metadata": {
    "tags": []
   },
   "outputs": [],
   "source": [
    "# Basic operator\n",
    "basic_operator_result = client.query(\n",
    "    collection_name = \"quick_setup_collection\",\n",
    "    filter = \"1000 < tag < 1500\",\n",
    "    output_fields = [\"color_tag\"],\n",
    "    limit = 3\n",
    ")\n",
    "\n",
    "print_results(basic_operator_result)"
   ]
  },
  {
   "cell_type": "code",
   "execution_count": null,
   "id": "81a982d0-c802-4695-8137-b3c067904f13",
   "metadata": {
    "tags": []
   },
   "outputs": [],
   "source": [
    "basic_operator_result = client.query(\n",
    "    collection_name = \"quick_setup_collection\",\n",
    "    filter = 'color == \"brown\"',\n",
    "    output_fields = [\"color_tag\"],\n",
    "    limit = 3\n",
    ")\n",
    "\n",
    "print_results(basic_operator_result)"
   ]
  },
  {
   "cell_type": "code",
   "execution_count": null,
   "id": "636754ae-8f42-4ac6-959b-b00afa0f847f",
   "metadata": {
    "tags": []
   },
   "outputs": [],
   "source": [
    "basic_operator_result = client.query(\n",
    "    collection_name = \"quick_setup_collection\",\n",
    "    filter = 'color not in [\"green\", \"purple\"]',\n",
    "    output_fields = [\"color_tag\"],\n",
    "    limit = 3\n",
    ")\n",
    "\n",
    "print_results(basic_operator_result)"
   ]
  },
  {
   "cell_type": "code",
   "execution_count": null,
   "id": "f3e5f252-6d95-49d8-a78d-900fc7b9fd94",
   "metadata": {
    "tags": []
   },
   "outputs": [],
   "source": [
    "basic_operator_result = client.query(\n",
    "    collection_name = \"quick_setup_collection\",\n",
    "    filter = 'color_tag like \"red%\"',\n",
    "    output_fields = [\"color_tag\"],\n",
    "    limit = 3\n",
    ")\n",
    "\n",
    "print_results(basic_operator_result)"
   ]
  },
  {
   "cell_type": "code",
   "execution_count": null,
   "id": "882e905f-7991-40d4-91f1-72aa098c1911",
   "metadata": {
    "tags": []
   },
   "outputs": [],
   "source": [
    "basic_operator_result = client.query(\n",
    "    collection_name = \"quick_setup_collection\",\n",
    "    filter = '(color == \"red\") and (1000 < tag < 1500)',\n",
    "    output_fields = [\"color_tag\"],\n",
    "    limit = 3\n",
    ")\n",
    "\n",
    "print_results(basic_operator_result)"
   ]
  },
  {
   "cell_type": "markdown",
   "id": "39fb3ae6-3b8b-4908-9db0-01e47a232101",
   "metadata": {
    "tags": []
   },
   "source": [
    "<h4>Advanced Queries</h4>"
   ]
  },
  {
   "cell_type": "code",
   "execution_count": null,
   "id": "41ec0107-185f-44b5-90ed-da194cc720c9",
   "metadata": {
    "tags": []
   },
   "outputs": [],
   "source": [
    "# Advanced operator\n",
    "advanced_operator_result = client.query(\n",
    "    collection_name = \"quick_setup_collection\",\n",
    "    output_fields = [\"count(*)\"]\n",
    ")\n",
    "\n",
    "print_results(advanced_operator_result)"
   ]
  },
  {
   "cell_type": "code",
   "execution_count": null,
   "id": "0b59a015-d6e9-4318-bd60-e40a362fc150",
   "metadata": {
    "tags": []
   },
   "outputs": [],
   "source": [
    "# Count the number of entities in a partition\n",
    "advanced_operator_result = client.query(\n",
    "    collection_name = \"quick_setup_collection\",\n",
    "    output_fields = [\"count(*)\"],\n",
    "    partition_names = [\"partition_1\"]\n",
    ")\n",
    "\n",
    "print_results(advanced_operator_result)"
   ]
  },
  {
   "cell_type": "code",
   "execution_count": null,
   "id": "e4970466-a990-4705-92ec-2c6d10ad4029",
   "metadata": {
    "tags": []
   },
   "outputs": [],
   "source": [
    "# Count the number of entities that match a specific filter\n",
    "advanced_operator_result = client.query(\n",
    "    collection_name = \"quick_setup_collection\",\n",
    "    filter = '(color == \"red\") and (1000 < tag < 1500)',\n",
    "    output_fields = [\"count(*)\"],\n",
    ")\n",
    "\n",
    "print_results(advanced_operator_result)"
   ]
  },
  {
   "cell_type": "code",
   "execution_count": null,
   "id": "c2e1eb3c-c03e-4d97-8e8d-8c925ecf3cb9",
   "metadata": {},
   "outputs": [],
   "source": [
    "# Drop collection\n",
    "client.drop_collection(\n",
    "    collection_name = \"quick_setup_collection\",\n",
    ")"
   ]
  }
 ],
 "metadata": {
  "kernelspec": {
   "display_name": "Python 3 (ipykernel)",
   "language": "python",
   "name": "python3"
  },
  "language_info": {
   "codemirror_mode": {
    "name": "ipython",
    "version": 3
   },
   "file_extension": ".py",
   "mimetype": "text/x-python",
   "name": "python",
   "nbconvert_exporter": "python",
   "pygments_lexer": "ipython3",
   "version": "3.10.5"
  }
 },
 "nbformat": 4,
 "nbformat_minor": 5
}
