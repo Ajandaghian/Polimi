{
 "cells": [
  {
   "cell_type": "markdown",
   "id": "fe745112-0b0d-4eef-821c-788fbf91bbf0",
   "metadata": {},
   "source": [
    "<h4>Collection Configuration</h4>"
   ]
  },
  {
   "cell_type": "code",
   "execution_count": null,
   "id": "4d485ada-97ef-47f0-b1f2-4206ae2abc03",
   "metadata": {
    "tags": []
   },
   "outputs": [],
   "source": [
    "from pprint import pprint\n",
    "\n",
    "def print_results(results):\n",
    "\n",
    "    for el in results:\n",
    "        pprint(el)"
   ]
  },
  {
   "cell_type": "code",
   "execution_count": null,
   "id": "8a7bd35e-e668-48fd-84b0-59924bf2366c",
   "metadata": {
    "tags": []
   },
   "outputs": [],
   "source": [
    "# Open the configuration file\n",
    "import yaml\n",
    "\n",
    "with open(\"credentials.yaml\") as f:\n",
    "    credentials = yaml.safe_load(f)\n",
    "    \n",
    "    CLUSTER_ENDPOINT = credentials[\"CLUSTER_ENDPOINT\"]\n",
    "    TOKEN = credentials[\"TOKEN\"]"
   ]
  },
  {
   "cell_type": "code",
   "execution_count": null,
   "id": "18ee0148-c2bb-4b68-b14d-9a19fe5828a9",
   "metadata": {
    "tags": []
   },
   "outputs": [],
   "source": [
    "from pymilvus import MilvusClient, DataType\n",
    "\n",
    "# Set up a Milvus client\n",
    "client = MilvusClient(\n",
    "    uri = CLUSTER_ENDPOINT,\n",
    "    token = TOKEN \n",
    ")\n",
    "\n",
    "# Create schema\n",
    "schema = MilvusClient.create_schema(\n",
    "    auto_id = False,\n",
    "    enable_dynamic_field = True,\n",
    ")\n",
    "\n",
    "# Add fields to schema\n",
    "schema.add_field(field_name = \"id\", datatype = DataType.INT64, is_primary = True)\n",
    "schema.add_field(field_name = \"vector\", datatype = DataType.FLOAT_VECTOR, dim = 5)\n",
    "\n",
    "index_params = client.prepare_index_params()\n",
    "\n",
    "index_params.add_index(\n",
    "    field_name = \"vector\", \n",
    "    index_type = \"AUTOINDEX\",\n",
    "    metric_type = \"IP\",\n",
    "    params = { \"nlist\": 128 }\n",
    ")\n",
    "\n",
    "import time\n",
    "\n",
    "# Create a collection with the index loaded simultaneously\n",
    "client.create_collection(\n",
    "    collection_name = \"quick_setup_collection\",\n",
    "    schema = schema,\n",
    "    index_params = index_params\n",
    ")"
   ]
  },
  {
   "cell_type": "markdown",
   "id": "08432a29-21c6-4e23-98bd-472f2ce592a3",
   "metadata": {},
   "source": [
    "<h4>Generate Random Data</h4>"
   ]
  },
  {
   "cell_type": "code",
   "execution_count": null,
   "id": "e3fbbcc7-867f-4c63-9a25-5b3825c654a2",
   "metadata": {
    "tags": []
   },
   "outputs": [],
   "source": [
    "import random\n",
    "\n",
    "# Insert randomly generated vectors\n",
    "colors = [\"green\", \"blue\", \"yellow\", \"red\", \"black\", \"white\", \"purple\", \"pink\", \"orange\", \"brown\", \"grey\"]\n",
    "data = []\n",
    "\n",
    "for i in range(10000):\n",
    "    current_color = random.choice(colors)\n",
    "    current_tag = random.randint(1000, 9999)\n",
    "    data.append({\n",
    "        \"id\": i,\n",
    "        \"vector\": [ random.uniform(-1, 1) for _ in range(5) ],\n",
    "        \"color\": current_color,\n",
    "        \"tag\": current_tag,\n",
    "        \"color_tag\": f\"{current_color}_{str(current_tag)}\"\n",
    "    })\n",
    "\n",
    "print(data[0])\n",
    "\n",
    "insert_result = client.insert(\n",
    "    collection_name = \"quick_setup_collection\",\n",
    "    data = data,\n",
    ")\n",
    "\n",
    "print(insert_result[\"insert_count\"])"
   ]
  },
  {
   "cell_type": "markdown",
   "id": "caac9c50-a094-4852-91bb-2aab88547e20",
   "metadata": {},
   "source": [
    "<h4>Search with Iterators</h4>"
   ]
  },
  {
   "cell_type": "code",
   "execution_count": null,
   "id": "753a6690-20dc-4d75-adeb-c74879f97775",
   "metadata": {
    "tags": []
   },
   "outputs": [],
   "source": [
    "from pymilvus import Collection, connections\n",
    "\n",
    "# Search with iterator\n",
    "connections.connect(\n",
    "    uri = CLUSTER_ENDPOINT,\n",
    "    token = TOKEN\n",
    ")\n",
    "collection = Collection(\"quick_setup_collection\")\n",
    "\n",
    "query_vectors = [[0.3580376395471989, -0.6023495712049978, 0.18414012509913835, -0.26286205330961354, 0.9029438446296592]]\n",
    "search_params = {\n",
    "    \"metric_type\": \"IP\",\n",
    "    \"params\": {\"nprobe\": 10}\n",
    "}\n",
    "\n",
    "iterator = collection.search_iterator(\n",
    "    data = query_vectors,\n",
    "    anns_field = \"vector\",\n",
    "    batch_size = 10, # Number of elements per page returned with .next()\n",
    "    param = search_params,\n",
    "    output_fields = [\"color_tag\"],\n",
    "    limit = 3\n",
    ")\n",
    "\n",
    "results = []\n",
    "\n",
    "while True:\n",
    "    result = iterator.next()\n",
    "    if not result:\n",
    "        iterator.close()\n",
    "        break\n",
    "    \n",
    "    for hit in result:\n",
    "        results.append(hit.to_dict())\n",
    "\n",
    "print(results)"
   ]
  },
  {
   "cell_type": "markdown",
   "id": "7c9eb2f5-9054-40ea-883c-cdbcd61b4744",
   "metadata": {},
   "source": [
    "<h4>Querying with Iterators</h4>"
   ]
  },
  {
   "cell_type": "code",
   "execution_count": null,
   "id": "826cadc2-1a86-45fb-9d6e-7e58ab8ce5f5",
   "metadata": {
    "tags": []
   },
   "outputs": [],
   "source": [
    "# Query with iterator\n",
    "iterator = collection.query_iterator(\n",
    "    batch_size = 10,\n",
    "    expr = \"color_tag like \\\"brown_8%\\\"\",\n",
    "    output_fields = [\"color_tag\"]\n",
    ")\n",
    "\n",
    "results = []\n",
    "\n",
    "while True:\n",
    "    result = iterator.next()\n",
    "    if not result:\n",
    "        iterator.close()\n",
    "        break\n",
    "\n",
    "    results += result\n",
    "\n",
    "# Check the results\n",
    "print(f\"There are {len(results)} entities found. The first 3 are as follows:\")\n",
    "\n",
    "print(results[:3])"
   ]
  },
  {
   "cell_type": "code",
   "execution_count": null,
   "id": "aae9983c-9102-4473-b291-dbfc3d3f328d",
   "metadata": {},
   "outputs": [],
   "source": [
    "# Drop collection\n",
    "client.drop_collection(\n",
    "    collection_name = \"quick_setup_collection\",\n",
    ")"
   ]
  },
  {
   "cell_type": "code",
   "execution_count": null,
   "id": "0cbb6363-3556-4ae2-8e41-9585234913ed",
   "metadata": {},
   "outputs": [],
   "source": []
  }
 ],
 "metadata": {
  "kernelspec": {
   "display_name": "Python 3 (ipykernel)",
   "language": "python",
   "name": "python3"
  },
  "language_info": {
   "codemirror_mode": {
    "name": "ipython",
    "version": 3
   },
   "file_extension": ".py",
   "mimetype": "text/x-python",
   "name": "python",
   "nbconvert_exporter": "python",
   "pygments_lexer": "ipython3",
   "version": "3.10.5"
  }
 },
 "nbformat": 4,
 "nbformat_minor": 5
}
