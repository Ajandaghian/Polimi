{
 "cells": [
  {
   "cell_type": "code",
   "execution_count": null,
   "id": "2c3cff44-36aa-4921-af2c-98852444e3fa",
   "metadata": {
    "tags": []
   },
   "outputs": [],
   "source": [
    "# Open the configuration file\n",
    "import yaml\n",
    "\n",
    "with open(\"credentials.yaml\") as f:\n",
    "    credentials = yaml.safe_load(f)\n",
    "    \n",
    "    CLUSTER_ENDPOINT = credentials[\"CLUSTER_ENDPOINT\"]\n",
    "    TOKEN = credentials[\"TOKEN\"]"
   ]
  },
  {
   "cell_type": "code",
   "execution_count": null,
   "id": "a429ee3c-8e02-4391-bf51-e22adc5145ad",
   "metadata": {
    "tags": []
   },
   "outputs": [],
   "source": [
    "from pymilvus import MilvusClient, DataType\n",
    "\n",
    "# Set up a Milvus client\n",
    "client = MilvusClient(\n",
    "    uri = CLUSTER_ENDPOINT,\n",
    "    token = TOKEN \n",
    ")\n",
    "\n",
    "# Create a collection\n",
    "client.create_collection(\n",
    "    collection_name = \"quick_setup_collection\",\n",
    "    dimension = 5,\n",
    ")"
   ]
  },
  {
   "cell_type": "markdown",
   "id": "41155d42-a1c9-485d-a6ca-a638838f521c",
   "metadata": {},
   "source": [
    "<h4>Create Partitions</h4>\n",
    "<p>Partitions allow to define the way the data is stored within the database, allowing to query and work on specific partitions only.</p>"
   ]
  },
  {
   "cell_type": "code",
   "execution_count": null,
   "id": "27b508f7-8498-431b-b903-b4aba86e2ecf",
   "metadata": {
    "tags": []
   },
   "outputs": [],
   "source": [
    "from pprint import pprint\n",
    "\n",
    "# Collect the list of partitions\n",
    "partitions = client.list_partitions(collection_name = \"quick_setup_collection\")\n",
    "\n",
    "print(partitions)"
   ]
  },
  {
   "cell_type": "code",
   "execution_count": null,
   "id": "8985f9a8-5479-4491-b419-e207951eba57",
   "metadata": {
    "tags": []
   },
   "outputs": [],
   "source": [
    "# Create partitions\n",
    "client.create_partition(\n",
    "    collection_name = \"quick_setup_collection\",\n",
    "    partition_name = \"partition_1\"\n",
    ")\n",
    "\n",
    "client.create_partition(\n",
    "    collection_name = \"quick_setup_collection\",\n",
    "    partition_name = \"partition_2\"\n",
    ")\n",
    "\n",
    "# Collect the list of partitions\n",
    "partitions = client.list_partitions(collection_name = \"quick_setup_collection\")\n",
    "\n",
    "print(partitions)"
   ]
  },
  {
   "cell_type": "code",
   "execution_count": null,
   "id": "49ce9939-516d-45d5-8f20-31237c0fb005",
   "metadata": {
    "tags": []
   },
   "outputs": [],
   "source": [
    "# Check if a collection has a partition\n",
    "has_part = client.has_partition(\n",
    "    collection_name = \"quick_setup_collection\",\n",
    "    partition_name = \"partition_1\"\n",
    ")\n",
    "\n",
    "print(has_part)"
   ]
  },
  {
   "cell_type": "code",
   "execution_count": null,
   "id": "6238bbd1-ffa3-4f4d-b952-f5716cf19525",
   "metadata": {
    "tags": []
   },
   "outputs": [],
   "source": [
    "# Release the collection\n",
    "client.release_collection(collection_name = \"quick_setup_collection\")\n",
    "\n",
    "# Check proper release\n",
    "state = client.get_load_state(collection_name = \"quick_setup_collection\")\n",
    "\n",
    "print(state)"
   ]
  },
  {
   "cell_type": "code",
   "execution_count": null,
   "id": "5047dc0f-a9f3-4e33-8f1b-12f96e1ebb75",
   "metadata": {
    "tags": []
   },
   "outputs": [],
   "source": [
    "# Load Partition\n",
    "client.load_partitions(\n",
    "    collection_name = \"quick_setup_collection\",\n",
    "    partition_names = [\"partition_1\"]\n",
    ")\n",
    "\n",
    "coll_state = client.get_load_state(collection_name = \"quick_setup_collection\")\n",
    "print(state)\n",
    "\n",
    "par_1_state = client.get_load_state(collection_name = \"quick_setup_collection\", partition_name = \"partition_1\")\n",
    "print(par_1_state)\n",
    "\n",
    "par_2_state = client.get_load_state(collection_name = \"quick_setup_collection\", partition_name = \"partition_2\")\n",
    "print(par_2_state)"
   ]
  },
  {
   "cell_type": "code",
   "execution_count": null,
   "id": "41c3eec7-b7f4-423f-abec-77841a64d5e1",
   "metadata": {
    "tags": []
   },
   "outputs": [],
   "source": [
    "# Release Partition\n",
    "client.release_partitions(\n",
    "    collection_name = \"quick_setup_collection\",\n",
    "    partition_names = [\"partition_1\"]\n",
    ")\n",
    "\n",
    "coll_state = client.get_load_state(collection_name = \"quick_setup_collection\")\n",
    "print(state)\n",
    "\n",
    "par_1_state = client.get_load_state(collection_name = \"quick_setup_collection\", partition_name = \"partition_1\")\n",
    "print(par_1_state)"
   ]
  },
  {
   "cell_type": "code",
   "execution_count": null,
   "id": "9b896c4f-f62f-468c-92aa-35cfd4203548",
   "metadata": {
    "tags": []
   },
   "outputs": [],
   "source": [
    "# Drop partition_2\n",
    "client.drop_partition(\n",
    "    collection_name = \"quick_setup_collection\",\n",
    "    partition_name = \"partition_2\"\n",
    ")\n",
    "\n",
    "part_list = client.list_partitions(collection_name = \"quick_setup_collection\")\n",
    "print(part_list)"
   ]
  },
  {
   "cell_type": "code",
   "execution_count": null,
   "id": "7a87ea6a-389c-4577-b819-98a0e514f42b",
   "metadata": {},
   "outputs": [],
   "source": [
    "# Drop collection\n",
    "client.drop_collection(\n",
    "    collection_name = \"quick_setup_collection\",\n",
    ")"
   ]
  }
 ],
 "metadata": {
  "kernelspec": {
   "display_name": "Python 3 (ipykernel)",
   "language": "python",
   "name": "python3"
  },
  "language_info": {
   "codemirror_mode": {
    "name": "ipython",
    "version": 3
   },
   "file_extension": ".py",
   "mimetype": "text/x-python",
   "name": "python",
   "nbconvert_exporter": "python",
   "pygments_lexer": "ipython3",
   "version": "3.10.5"
  }
 },
 "nbformat": 4,
 "nbformat_minor": 5
}
