{
 "cells": [
  {
   "cell_type": "markdown",
   "id": "22967fe7-dd5c-4eae-8d78-86594ebe54da",
   "metadata": {},
   "source": [
    "<h4>Initial Configuration</h4>"
   ]
  },
  {
   "cell_type": "code",
   "execution_count": null,
   "id": "2b673d88-cb1f-4759-8a07-34feb96f9600",
   "metadata": {
    "tags": []
   },
   "outputs": [],
   "source": [
    "# Open the configuration file\n",
    "import yaml\n",
    "\n",
    "with open(\"credentials.yaml\") as f:\n",
    "    credentials = yaml.safe_load(f)\n",
    "    \n",
    "    CLUSTER_ENDPOINT = credentials[\"CLUSTER_ENDPOINT\"]\n",
    "    TOKEN = credentials[\"TOKEN\"]"
   ]
  },
  {
   "cell_type": "code",
   "execution_count": null,
   "id": "ef902c6d-31f2-4b66-986f-3f372834e5b5",
   "metadata": {
    "tags": []
   },
   "outputs": [],
   "source": [
    "from pymilvus import MilvusClient, DataType\n",
    "\n",
    "# Set up a Milvus client\n",
    "client = MilvusClient(\n",
    "    uri = CLUSTER_ENDPOINT,\n",
    "    token = TOKEN \n",
    ")\n",
    "\n",
    "# Create a collection\n",
    "client.create_collection(\n",
    "    collection_name = \"quick_setup_collection\",\n",
    "    dimension = 5,\n",
    ")"
   ]
  },
  {
   "cell_type": "markdown",
   "id": "f05e8fee-6fa8-493d-ba9f-8f71b8738fcf",
   "metadata": {
    "tags": []
   },
   "source": [
    "<h4>Add Data to Collection</h4>"
   ]
  },
  {
   "cell_type": "code",
   "execution_count": null,
   "id": "12885b4c-2a4f-44b4-b4e8-5de71a8881cb",
   "metadata": {
    "tags": []
   },
   "outputs": [],
   "source": [
    "# Prepare some data to be uploaded\n",
    "data = [\n",
    "    {\"id\": 0, \"vector\": [0.3580376395471989, -0.6023495712049978, 0.18414012509913835, -0.26286205330961354, 0.9029438446296592], \"color\": \"pink_8682\"},\n",
    "    {\"id\": 1, \"vector\": [0.19886812562848388, 0.06023560599112088, 0.6976963061752597, 0.2614474506242501, 0.838729485096104], \"color\": \"red_7025\"},\n",
    "    {\"id\": 2, \"vector\": [0.43742130801983836, -0.5597502546264526, 0.6457887650909682, 0.7894058910881185, 0.20785793220625592], \"color\": \"orange_6781\"},\n",
    "    {\"id\": 3, \"vector\": [0.3172005263489739, 0.9719044792798428, -0.36981146090600725, -0.4860894583077995, 0.95791889146345], \"color\": \"pink_9298\"},\n",
    "    {\"id\": 4, \"vector\": [0.4452349528804562, -0.8757026943054742, 0.8220779437047674, 0.46406290649483184, 0.30337481143159106], \"color\": \"red_4794\"},\n",
    "    {\"id\": 5, \"vector\": [0.985825131989184, -0.8144651566660419, 0.6299267002202009, 0.1206906911183383, -0.1446277761879955], \"color\": \"yellow_4222\"},\n",
    "    {\"id\": 6, \"vector\": [0.8371977790571115, -0.015764369584852833, -0.31062937026679327, -0.562666951622192, -0.8984947637863987], \"color\": \"red_9392\"},\n",
    "    {\"id\": 7, \"vector\": [-0.33445148015177995, -0.2567135004164067, 0.8987539745369246, 0.9402995886420709, 0.5378064918413052], \"color\": \"grey_8510\"},\n",
    "    {\"id\": 8, \"vector\": [0.39524717779832685, 0.4000257286739164, -0.5890507376891594, -0.8650502298996872, -0.6140360785406336], \"color\": \"white_9381\"},\n",
    "    {\"id\": 9, \"vector\": [0.5718280481994695, 0.24070317428066512, -0.3737913482606834, -0.06726932177492717, -0.6980531615588608], \"color\": \"purple_4976\"}\n",
    "]\n",
    "\n",
    "# Insert the data and print the outcome of the operation\n",
    "insert_status = client.insert(\n",
    "    collection_name = \"quick_setup_collection\",\n",
    "    data = data\n",
    ")\n",
    "\n",
    "print(insert_status)"
   ]
  },
  {
   "cell_type": "markdown",
   "id": "c0fd19bc-b969-49fd-9f92-884341293158",
   "metadata": {},
   "source": [
    "<h4>Add Data to a Specific Partition</h4>"
   ]
  },
  {
   "cell_type": "code",
   "execution_count": null,
   "id": "df2372c6-2e42-4e99-94f0-7e16bd429b10",
   "metadata": {
    "tags": []
   },
   "outputs": [],
   "source": [
    "# Insert data into a specific partition\n",
    "data = [\n",
    "    {\"id\": 10, \"vector\": [-0.5570353903748935, -0.8997887893201304, -0.7123782431855732, -0.6298990746450119, 0.6699215060604258], \"color\": \"red_1202\"},\n",
    "    {\"id\": 11, \"vector\": [0.6319019033373907, 0.6821488267878275, 0.8552303045704168, 0.36929791364943054, -0.14152860714878068], \"color\": \"blue_4150\"},\n",
    "    {\"id\": 12, \"vector\": [0.9483947484855766, -0.32294203351925344, 0.9759290319978025, 0.8262982148666174, -0.8351194181285713], \"color\": \"orange_4590\"},\n",
    "    {\"id\": 13, \"vector\": [-0.5449109892498731, 0.043511240563786524, -0.25105249484790804, -0.012030655265886425, -0.0010987671273892108], \"color\": \"pink_9619\"},\n",
    "    {\"id\": 14, \"vector\": [0.6603339372951424, -0.10866551787442225, -0.9435597754324891, 0.8230244263466688, -0.7986720938400362], \"color\": \"orange_4863\"},\n",
    "    {\"id\": 15, \"vector\": [-0.8825129181091456, -0.9204557711667729, -0.935350065513425, 0.5484069690287079, 0.24448151140671204], \"color\": \"orange_7984\"},\n",
    "    {\"id\": 16, \"vector\": [0.6285586391568163, 0.5389064528263487, -0.3163366239905099, 0.22036279378888013, 0.15077052220816167], \"color\": \"blue_9010\"},\n",
    "    {\"id\": 17, \"vector\": [-0.20151825016059233, -0.905239387635804, 0.6749305353372479, -0.7324272081377843, -0.33007998971889263], \"color\": \"blue_4521\"},\n",
    "    {\"id\": 18, \"vector\": [0.2432286610792349, 0.01785636564206139, -0.651356982731391, -0.35848148851027895, -0.7387383128324057], \"color\": \"orange_2529\"},\n",
    "    {\"id\": 19, \"vector\": [0.055512329053363674, 0.7100266349039421, 0.4956956543575197, 0.24541352586717702, 0.4209030729923515], \"color\": \"red_9437\"}\n",
    "]\n",
    "\n",
    "client.create_partition(\n",
    "    collection_name = \"quick_setup_collection\",\n",
    "    partition_name = \"partition_1\"\n",
    ")\n",
    "\n",
    "insert_partition_status = client.insert(\n",
    "    collection_name = \"quick_setup_collection\",\n",
    "    data = data,\n",
    "    partition_name = \"partition_1\"\n",
    ")\n",
    "\n",
    "print(insert_partition_status)"
   ]
  },
  {
   "cell_type": "markdown",
   "id": "cf4a8965-4958-46ba-b658-3e4b69c2007a",
   "metadata": {},
   "source": [
    "<h4>Upserting Data in Collection</h4>"
   ]
  },
  {
   "cell_type": "code",
   "execution_count": null,
   "id": "07a6c149-01ff-45b5-84c5-ded25c20e0fd",
   "metadata": {
    "tags": []
   },
   "outputs": [],
   "source": [
    "# Upserting data (i.e., inserting if they don't exist, updating if they exist)\n",
    "data = [\n",
    "    {\"id\": 0, \"vector\": [-0.619954382375778, 0.4479436794798608, -0.17493894838751745, -0.4248030059917294, -0.8648452746018911], \"color\": \"black_9898\"},\n",
    "    {\"id\": 1, \"vector\": [0.4762662251462588, -0.6942502138717026, -0.4490002642657902, -0.628696575798281, 0.9660395877041965], \"color\": \"red_7319\"},\n",
    "    {\"id\": 2, \"vector\": [-0.8864122635045097, 0.9260170474445351, 0.801326976181461, 0.6383943392381306, 0.7563037341572827], \"color\": \"white_6465\"},\n",
    "    {\"id\": 3, \"vector\": [0.14594326235891586, -0.3775407299900644, -0.3765479013078812, 0.20612075380355122, 0.4902678929632145], \"color\": \"orange_7580\"},\n",
    "    {\"id\": 4, \"vector\": [0.4548498669607359, -0.887610217681605, 0.5655081329910452, 0.19220509387904117, 0.016513983433433577], \"color\": \"red_3314\"},\n",
    "    {\"id\": 5, \"vector\": [0.11755001847051827, -0.7295149788999611, 0.2608115847524266, -0.1719167007897875, 0.7417611743754855], \"color\": \"black_9955\"},\n",
    "    {\"id\": 6, \"vector\": [0.9363032158314308, 0.030699901477745373, 0.8365910312319647, 0.7823840208444011, 0.2625222076909237], \"color\": \"yellow_2461\"},\n",
    "    {\"id\": 7, \"vector\": [0.0754823906014721, -0.6390658668265143, 0.5610517334334937, -0.8986261118798251, 0.9372056764266794], \"color\": \"white_5015\"},\n",
    "    {\"id\": 8, \"vector\": [-0.3038434006935904, 0.1279149203380523, 0.503958664270957, -0.2622661156746988, 0.7407627307791929], \"color\": \"purple_6414\"},\n",
    "    {\"id\": 9, \"vector\": [-0.7125086947677588, -0.8050968321012257, -0.32608864121785786, 0.3255654958645424, 0.26227968923834233], \"color\": \"brown_7231\"}\n",
    "]\n",
    "\n",
    "upsert_status = client.upsert(\n",
    "    collection_name = 'quick_setup_collection',\n",
    "    data = data\n",
    ")\n",
    "\n",
    "print(upsert_status)"
   ]
  },
  {
   "cell_type": "markdown",
   "id": "51af190e-04d4-432e-b13c-78988e916afc",
   "metadata": {},
   "source": [
    "<h4>Upserting Data in a Specific Partition</h4>"
   ]
  },
  {
   "cell_type": "code",
   "execution_count": null,
   "id": "1432b8ea-cd58-4928-98c3-b85713b00b23",
   "metadata": {
    "tags": []
   },
   "outputs": [],
   "source": [
    "# Upserting data in partitions\n",
    "data = [\n",
    "    {\"id\": 10, \"vector\": [0.06998888224297328, 0.8582816610326578, -0.9657938677934292, 0.6527905683627726, -0.8668460657158576], \"color\": \"black_3651\"},\n",
    "    {\"id\": 11, \"vector\": [0.6060703043917468, -0.3765080534566074, -0.7710758854987239, 0.36993888322346136, 0.5507513364206531], \"color\": \"grey_2049\"},\n",
    "    {\"id\": 12, \"vector\": [-0.9041813104515337, -0.9610546012461163, 0.20033003106083358, 0.11842506351635174, 0.8327356724591011], \"color\": \"blue_6168\"},\n",
    "    {\"id\": 13, \"vector\": [0.3202914977909075, -0.7279137773695252, -0.04747830871620273, 0.8266053056909548, 0.8277957187455489], \"color\": \"blue_1672\"},\n",
    "    {\"id\": 14, \"vector\": [0.2975811497890859, 0.2946936202691086, 0.5399463833894609, 0.8385334966677529, -0.4450543984655133], \"color\": \"pink_1601\"},\n",
    "    {\"id\": 15, \"vector\": [-0.04697464305600074, -0.08509022265734134, 0.9067184632552001, -0.2281912685064822, -0.9747503428652762], \"color\": \"yellow_9925\"},\n",
    "    {\"id\": 16, \"vector\": [-0.9363075919673911, -0.8153981031085669, 0.7943039120490902, -0.2093886809842529, 0.0771191335807897], \"color\": \"orange_9872\"},\n",
    "    {\"id\": 17, \"vector\": [-0.050451522820639916, 0.18931572752321935, 0.7522886192190488, -0.9071793089474034, 0.6032647330692296], \"color\": \"red_6450\"},\n",
    "    {\"id\": 18, \"vector\": [-0.9181544231141592, 0.6700755998126806, -0.014174674636136642, 0.6325780463623432, -0.49662222164032976], \"color\": \"purple_7392\"},\n",
    "    {\"id\": 19, \"vector\": [0.11426945899602536, 0.6089190684002581, -0.5842735738352236, 0.057050610092692855, -0.035163433018196244], \"color\": \"pink_4996\"}\n",
    "]\n",
    "\n",
    "upsert_partition_status = client.upsert(\n",
    "    collection_name = \"quick_setup_collection\",\n",
    "    data = data,\n",
    "    partition_name = \"partition_1\"\n",
    ")\n",
    "\n",
    "print(upsert_partition_status)"
   ]
  },
  {
   "cell_type": "markdown",
   "id": "420f78b2-4d13-436a-98e0-65ef6587668d",
   "metadata": {},
   "source": [
    "<h4>Delete Entities</h4>"
   ]
  },
  {
   "cell_type": "code",
   "execution_count": null,
   "id": "1952bdc8-0960-463e-9e13-97ce3b0299e5",
   "metadata": {
    "tags": []
   },
   "outputs": [],
   "source": [
    "# Delete entities\n",
    "delete_status = client.delete(\n",
    "    collection_name = \"quick_setup_collection\",\n",
    "    filter = \"id in [1, 2, 3]\"\n",
    ")\n",
    "\n",
    "print(delete_status)"
   ]
  },
  {
   "cell_type": "markdown",
   "id": "7a0abd20-a133-466a-b43b-1212d208ac61",
   "metadata": {},
   "source": [
    "<h4>Delete Entities by ID</h4>"
   ]
  },
  {
   "cell_type": "code",
   "execution_count": null,
   "id": "a12772db-69a4-40b6-aa6e-708d4ffa9204",
   "metadata": {
    "tags": []
   },
   "outputs": [],
   "source": [
    "# Delete entities by id\n",
    "delete_status = client.delete(\n",
    "    collection_name = \"quick_setup_collection\",\n",
    "    ids = [11, 12],\n",
    "    partition_name = \"partition_1\"\n",
    ")\n",
    "\n",
    "print(delete_status)"
   ]
  },
  {
   "cell_type": "markdown",
   "id": "240ffba3-dfe1-4c6b-bc3e-a39b17884dbe",
   "metadata": {},
   "source": [
    "<h4>Delete Entities in a Specific Partition</h4>"
   ]
  },
  {
   "cell_type": "code",
   "execution_count": null,
   "id": "9b5e5402-a499-46fe-965d-72811cdc2b6e",
   "metadata": {
    "tags": []
   },
   "outputs": [],
   "source": [
    "# delete entities by partition\n",
    "delete_status = client.delete(\n",
    "    collection_name = 'quick_setup_collection',\n",
    "    partition_name = 'partition_1',\n",
    "    filter = 'color like \"blue%\"'\n",
    ")\n",
    "\n",
    "print(\"Entities deleted from partition_1: \", delete_status['delete_count'])"
   ]
  },
  {
   "cell_type": "code",
   "execution_count": null,
   "id": "7b089ab2-b46a-476a-bf1f-2da859f05647",
   "metadata": {
    "tags": []
   },
   "outputs": [],
   "source": [
    "# Drop the collection\n",
    "client.drop_collection(\n",
    "    collection_name = \"quick_setup_collection\",\n",
    ")"
   ]
  }
 ],
 "metadata": {
  "kernelspec": {
   "display_name": "Python 3 (ipykernel)",
   "language": "python",
   "name": "python3"
  },
  "language_info": {
   "codemirror_mode": {
    "name": "ipython",
    "version": 3
   },
   "file_extension": ".py",
   "mimetype": "text/x-python",
   "name": "python",
   "nbconvert_exporter": "python",
   "pygments_lexer": "ipython3",
   "version": "3.10.5"
  }
 },
 "nbformat": 4,
 "nbformat_minor": 5
}
