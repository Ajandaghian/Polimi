{
 "cells": [
  {
   "cell_type": "markdown",
   "id": "92f273ac-9b7d-421a-955b-ded5203e44a2",
   "metadata": {},
   "source": [
    "<h4>Setup Collection</h4>"
   ]
  },
  {
   "cell_type": "code",
   "execution_count": 1,
   "id": "95fb8689-4ab7-45f4-bffd-fe6ada353990",
   "metadata": {
    "tags": []
   },
   "outputs": [],
   "source": [
    "# Open the configuration file\n",
    "import yaml\n",
    "\n",
    "with open(\"credentials.yaml\") as f:\n",
    "    credentials = yaml.safe_load(f)\n",
    "    \n",
    "    CLUSTER_ENDPOINT = credentials[\"CLUSTER_ENDPOINT\"]\n",
    "    TOKEN = credentials[\"TOKEN\"]"
   ]
  },
  {
   "cell_type": "code",
   "execution_count": 2,
   "id": "871afa41-72fa-4426-9eeb-846048d1bc0e",
   "metadata": {
    "tags": []
   },
   "outputs": [],
   "source": [
    "from pprint import pprint\n",
    "\n",
    "def print_results(results):\n",
    "\n",
    "    for el in results:\n",
    "        pprint(el)"
   ]
  },
  {
   "cell_type": "markdown",
   "id": "a412ed87-df9b-4e7d-9232-7acf90bf5545",
   "metadata": {},
   "source": [
    "<h4>JSON Fields</h4>"
   ]
  },
  {
   "cell_type": "code",
   "execution_count": 3,
   "id": "f9e9b5b9-f440-4b90-ac20-bcb636bd6db2",
   "metadata": {
    "tags": []
   },
   "outputs": [
    {
     "name": "stdout",
     "output_type": "stream",
     "text": [
      "{'state': <LoadState: Loaded>}\n"
     ]
    }
   ],
   "source": [
    "import random, time\n",
    "from pymilvus import connections, MilvusClient, DataType\n",
    "\n",
    "client = MilvusClient(\n",
    "    uri = CLUSTER_ENDPOINT,\n",
    "    token = TOKEN \n",
    ")\n",
    "\n",
    "schema = MilvusClient.create_schema(\n",
    "    auto_id = False,\n",
    "    enable_dynamic_field = False,\n",
    ")\n",
    "\n",
    "schema.add_field(field_name = \"id\", datatype = DataType.INT64, is_primary = True)\n",
    "schema.add_field(field_name = \"vector\", datatype = DataType.FLOAT_VECTOR, dim = 5)\n",
    "schema.add_field(field_name = \"color\", datatype = DataType.JSON)\n",
    "\n",
    "index_params = MilvusClient.prepare_index_params()\n",
    "\n",
    "index_params.add_index(\n",
    "    field_name = \"id\",\n",
    "    index_type = \"STL_SORT\"\n",
    ")\n",
    "\n",
    "index_params.add_index(\n",
    "    field_name = \"vector\",\n",
    "    index_type = \"AUTOINDEX\",\n",
    "    metric_type = \"L2\"\n",
    ")\n",
    "\n",
    "client.create_collection(\n",
    "    collection_name = \"json_collection\",\n",
    "    schema = schema,\n",
    "    index_params = index_params\n",
    ")\n",
    "\n",
    "state = client.get_load_state(\n",
    "    collection_name = \"json_collection\"\n",
    ")\n",
    "\n",
    "print(state)"
   ]
  },
  {
   "cell_type": "markdown",
   "id": "1a68de50-79c4-40d0-9cce-7a6ca4217782",
   "metadata": {
    "tags": []
   },
   "source": [
    "<h4>Generate Random Data</h4>"
   ]
  },
  {
   "cell_type": "code",
   "execution_count": 4,
   "id": "c8976da8-1302-4954-aef8-c994892203e7",
   "metadata": {
    "tags": []
   },
   "outputs": [
    {
     "name": "stdout",
     "output_type": "stream",
     "text": [
      "{'color': {'coord': [17, 15, 3],\n",
      "           'label': 'yellow',\n",
      "           'ref': [['purple', 'purple', 'grey'],\n",
      "                   ['yellow', 'white', 'brown'],\n",
      "                   ['black', 'orange', 'purple']],\n",
      "           'tag': 5687},\n",
      " 'id': 0,\n",
      " 'vector': [-0.5758152593862647,\n",
      "            -0.30164269432450963,\n",
      "            0.3132158109403198,\n",
      "            -0.43354101194051364,\n",
      "            -0.7455765648551225]}\n"
     ]
    }
   ],
   "source": [
    "colors = [\"green\", \"blue\", \"yellow\", \"red\", \"black\", \"white\", \"purple\", \"pink\", \"orange\", \"brown\", \"grey\"]\n",
    "data = []\n",
    "\n",
    "for i in range(1000):\n",
    "    current_color = random.choice(colors)\n",
    "    current_tag = random.randint(1000, 9999)\n",
    "    current_coord = [ random.randint(0, 40) for _ in range(3) ]\n",
    "    current_ref = [ [ random.choice(colors) for _ in range(3) ] for _ in range(3) ]\n",
    "    data.append({\n",
    "        \"id\": i,\n",
    "        \"vector\": [ random.uniform(-1, 1) for _ in range(5) ],\n",
    "        \"color\": {\n",
    "            \"label\": current_color,\n",
    "            \"tag\": current_tag,\n",
    "            \"coord\": current_coord,\n",
    "            \"ref\": current_ref\n",
    "        }\n",
    "    })\n",
    "\n",
    "pprint(data[0])"
   ]
  },
  {
   "cell_type": "code",
   "execution_count": 5,
   "id": "11070a53-e802-4cb2-aab2-dedb8f2ba278",
   "metadata": {
    "tags": []
   },
   "outputs": [
    {
     "name": "stdout",
     "output_type": "stream",
     "text": [
      "1000\n"
     ]
    }
   ],
   "source": [
    "insert_result = client.insert(\n",
    "    collection_name = \"json_collection\",\n",
    "    data=data\n",
    ")\n",
    "\n",
    "print(insert_result[\"insert_count\"])"
   ]
  },
  {
   "cell_type": "markdown",
   "id": "f3bfe34b-a75b-461f-8e60-9a8ba11b2b61",
   "metadata": {
    "tags": []
   },
   "source": [
    "<h4>Basic Search with JSON Field</h4>"
   ]
  },
  {
   "cell_type": "code",
   "execution_count": 6,
   "id": "8365bd1d-c444-4570-b897-6ded12d839cc",
   "metadata": {
    "tags": []
   },
   "outputs": [
    {
     "name": "stdout",
     "output_type": "stream",
     "text": [
      "[{'distance': 0.6245933771133423,\n",
      "  'entity': {'color': {'coord': [31, 3, 12],\n",
      "                       'label': 'red',\n",
      "                       'ref': [['yellow', 'brown', 'black'],\n",
      "                               ['grey', 'green', 'black'],\n",
      "                               ['blue', 'yellow', 'grey']],\n",
      "                       'tag': 5571},\n",
      "             'id': 241},\n",
      "  'id': 241},\n",
      " {'distance': 0.6451491117477417,\n",
      "  'entity': {'color': {'coord': [9, 33, 22],\n",
      "                       'label': 'red',\n",
      "                       'ref': [['brown', 'orange', 'purple'],\n",
      "                               ['white', 'blue', 'purple'],\n",
      "                               ['orange', 'brown', 'green']],\n",
      "                       'tag': 2181},\n",
      "             'id': 414},\n",
      "  'id': 414},\n",
      " {'distance': 0.8163830041885376,\n",
      "  'entity': {'color': {'coord': [37, 34, 1],\n",
      "                       'label': 'red',\n",
      "                       'ref': [['orange', 'black', 'brown'],\n",
      "                               ['orange', 'brown', 'orange'],\n",
      "                               ['yellow', 'blue', 'pink']],\n",
      "                       'tag': 5509},\n",
      "             'id': 561},\n",
      "  'id': 561}]\n"
     ]
    }
   ],
   "source": [
    "# Basic search with a JSON field\n",
    "query_vectors = [ [ random.uniform(-1, 1) for _ in range(5) ]]\n",
    "\n",
    "basic_search_result = client.search(\n",
    "    collection_name = \"json_collection\",\n",
    "    data = query_vectors,\n",
    "    filter = 'color[\"label\"] in [\"red\"]',\n",
    "    search_params = {\n",
    "        \"metric_type\": \"L2\",\n",
    "        \"params\": {\"nprobe\": 16}\n",
    "    },\n",
    "    output_fields = [\"id\", \"color\"],\n",
    "    limit = 3\n",
    ")\n",
    "\n",
    "print_results(basic_search_result)"
   ]
  },
  {
   "cell_type": "markdown",
   "id": "039c7773-d1f4-4599-9dcb-10c72250446c",
   "metadata": {
    "tags": []
   },
   "source": [
    "<h4>Advanced Query with JSON Field</h4>"
   ]
  },
  {
   "cell_type": "code",
   "execution_count": 7,
   "id": "b8cb49f4-2d7f-4e1c-8df4-ee7e5ce5ae94",
   "metadata": {
    "tags": []
   },
   "outputs": [
    {
     "name": "stdout",
     "output_type": "stream",
     "text": [
      "{'color': {'coord': [34, 8, 40],\n",
      "           'label': 'red',\n",
      "           'ref': [['yellow', 'purple', 'grey'],\n",
      "                   ['black', 'red', 'pink'],\n",
      "                   ['purple', 'purple', 'green']],\n",
      "           'tag': 4107},\n",
      " 'id': 16}\n",
      "{'color': {'coord': [17, 23, 33],\n",
      "           'label': 'purple',\n",
      "           'ref': [['red', 'green', 'orange'],\n",
      "                   ['black', 'red', 'pink'],\n",
      "                   ['green', 'yellow', 'blue']],\n",
      "           'tag': 4079},\n",
      " 'id': 56}\n",
      "{'color': {'coord': [29, 17, 1],\n",
      "           'label': 'purple',\n",
      "           'ref': [['brown', 'blue', 'grey'],\n",
      "                   ['black', 'red', 'pink'],\n",
      "                   ['blue', 'white', 'blue']],\n",
      "           'tag': 3733},\n",
      " 'id': 283}\n"
     ]
    }
   ],
   "source": [
    "# Advanced query within a JSON field\n",
    "advanced_search_result = client.query(\n",
    "    collection_name = \"json_collection\",\n",
    "    data = query_vectors,\n",
    "    filter = 'JSON_CONTAINS(color[\"ref\"], [\"black\", \"red\", \"pink\"])',\n",
    "    output_fields = [\"id\", \"color\"],\n",
    "    limit = 3\n",
    ")\n",
    "\n",
    "print_results(advanced_search_result)"
   ]
  },
  {
   "cell_type": "code",
   "execution_count": 8,
   "id": "7b39cf09-fafc-4f4b-9df6-898a0f523d88",
   "metadata": {
    "tags": []
   },
   "outputs": [
    {
     "name": "stdout",
     "output_type": "stream",
     "text": [
      "{'color': {'coord': [5, 4, 3],\n",
      "           'label': 'purple',\n",
      "           'ref': [['black', 'yellow', 'brown'],\n",
      "                   ['yellow', 'white', 'green'],\n",
      "                   ['red', 'pink', 'black']],\n",
      "           'tag': 5515},\n",
      " 'id': 5}\n",
      "{'color': {'coord': [23, 5, 4],\n",
      "           'label': 'black',\n",
      "           'ref': [['red', 'purple', 'purple'],\n",
      "                   ['green', 'green', 'black'],\n",
      "                   ['pink', 'pink', 'grey']],\n",
      "           'tag': 9221},\n",
      " 'id': 585}\n",
      "{'color': {'coord': [5, 4, 25],\n",
      "           'label': 'red',\n",
      "           'ref': [['orange', 'blue', 'white'],\n",
      "                   ['yellow', 'blue', 'red'],\n",
      "                   ['pink', 'pink', 'white']],\n",
      "           'tag': 5805},\n",
      " 'id': 711}\n"
     ]
    }
   ],
   "source": [
    "advanced_search_result = client.query(\n",
    "    collection_name = \"json_collection\",\n",
    "    data = query_vectors,\n",
    "    filter = 'JSON_CONTAINS_ALL(color[\"coord\"], [4, 5])',\n",
    "    output_fields = [\"id\", \"color\"],\n",
    "    limit = 3\n",
    ")\n",
    "\n",
    "print_results(advanced_search_result)"
   ]
  },
  {
   "cell_type": "code",
   "execution_count": null,
   "id": "3d861ee2-a338-4e34-b380-823a4fe760e4",
   "metadata": {
    "tags": []
   },
   "outputs": [],
   "source": [
    "any_query_result = client.query(\n",
    "    collection_name = \"json_collection\",\n",
    "    data = query_vectors,\n",
    "    filter = 'JSON_CONTAINS_ANY(color[\"coord\"], [4, 5])',\n",
    "    output_fields = [\"id\", \"color\"],\n",
    "    limit = 3\n",
    ")\n",
    "\n",
    "print_results(any_query_result)"
   ]
  },
  {
   "cell_type": "code",
   "execution_count": null,
   "id": "a944cca6-e4fc-402c-adf5-2345dcd387ed",
   "metadata": {
    "tags": []
   },
   "outputs": [],
   "source": [
    "# Drop collection\n",
    "client.drop_collection(\n",
    "    collection_name = \"json_collection\",\n",
    ")"
   ]
  },
  {
   "cell_type": "markdown",
   "id": "9b94223d-f89b-4fac-894f-1414ea97bbbe",
   "metadata": {},
   "source": [
    "<h4>Array Fields</h4>"
   ]
  },
  {
   "cell_type": "code",
   "execution_count": null,
   "id": "944d811b-4619-426f-b19a-44b3c43feb43",
   "metadata": {
    "tags": []
   },
   "outputs": [],
   "source": [
    "client = MilvusClient(\n",
    "    uri = CLUSTER_ENDPOINT,\n",
    "    token = TOKEN \n",
    ")\n",
    "\n",
    "# Create a collection\n",
    "schema = MilvusClient.create_schema(\n",
    "    auto_id = False,\n",
    "    enable_dynamic_field = False,\n",
    ")\n",
    "\n",
    "schema.add_field(field_name = \"id\", datatype = DataType.INT64, is_primary = True)\n",
    "schema.add_field(field_name = \"vector\", datatype = DataType.FLOAT_VECTOR, dim = 5)\n",
    "schema.add_field(field_name = \"color\", datatype = DataType.VARCHAR, max_length = 512)\n",
    "schema.add_field(field_name = \"color_tag\", datatype = DataType.INT64)\n",
    "schema.add_field(field_name = \"color_coord\", datatype = DataType.ARRAY, element_type = DataType.INT64, max_capacity = 5)\n",
    "\n",
    "index_params = MilvusClient.prepare_index_params()\n",
    "\n",
    "index_params.add_index(\n",
    "    field_name = \"id\",\n",
    "    index_type = \"STL_SORT\"\n",
    ")\n",
    "\n",
    "index_params.add_index(\n",
    "    field_name = \"vector\",\n",
    "    index_type = \"AUTOINDEX\",\n",
    "    metric_type = \"L2\"\n",
    ")\n",
    "\n",
    "client.create_collection(\n",
    "    collection_name = \"array_collection\",\n",
    "    schema = schema,\n",
    "    index_params = index_params\n",
    ")\n",
    "\n",
    "state = client.get_load_state(\n",
    "    collection_name = \"array_collection\"\n",
    ")\n",
    "\n",
    "print(state)"
   ]
  },
  {
   "cell_type": "markdown",
   "id": "2a59f781-4d04-4917-97fc-a6c358588251",
   "metadata": {},
   "source": [
    "<h4>Generate Random Data</h4>"
   ]
  },
  {
   "cell_type": "code",
   "execution_count": null,
   "id": "ac87020a-b784-443e-8276-d3e5fa5c20cb",
   "metadata": {
    "tags": []
   },
   "outputs": [],
   "source": [
    "colors = [\"green\", \"blue\", \"yellow\", \"red\", \"black\", \"white\", \"purple\", \"pink\", \"orange\", \"brown\", \"grey\"]\n",
    "data = []\n",
    "\n",
    "for i in range(1000):\n",
    "    current_color = random.choice(colors)\n",
    "    current_tag = random.randint(1000, 9999)\n",
    "    current_coord = [ random.randint(0, 40) for _ in range(random.randint(3, 5)) ]\n",
    "    data.append({\n",
    "        \"id\": i,\n",
    "        \"vector\": [ random.uniform(-1, 1) for _ in range(5) ],\n",
    "        \"color\": current_color,\n",
    "        \"color_tag\": current_tag,\n",
    "        \"color_coord\": current_coord,\n",
    "    })\n",
    "\n",
    "pprint(data[0])"
   ]
  },
  {
   "cell_type": "code",
   "execution_count": null,
   "id": "37df2b49-7183-48f7-a56f-629bde9c20bd",
   "metadata": {
    "tags": []
   },
   "outputs": [],
   "source": [
    "insert_result = client.insert(\n",
    "    collection_name = \"array_collection\",\n",
    "    data = data\n",
    ")\n",
    "\n",
    "print(insert_result[\"insert_count\"])"
   ]
  },
  {
   "cell_type": "markdown",
   "id": "64cf3f9f-3548-46d5-988d-776e3ba2e404",
   "metadata": {},
   "source": [
    "<h4>Basic Search with Array Field</h4>"
   ]
  },
  {
   "cell_type": "code",
   "execution_count": null,
   "id": "ecc37156-c91d-4ae8-b346-acb7feca60b3",
   "metadata": {
    "tags": []
   },
   "outputs": [],
   "source": [
    "# Basic search\n",
    "query_vectors = [ [ random.uniform(-1, 1) for _ in range(5) ]]\n",
    "\n",
    "basic_search_result = client.search(\n",
    "    collection_name = \"array_collection\",\n",
    "    data = query_vectors,\n",
    "    filter = \"color_coord[0] < 10\",\n",
    "    search_params = {\n",
    "        \"metric_type\": \"L2\",\n",
    "        \"params\": {\"nprobe\": 16}\n",
    "    },\n",
    "    output_fields = [\"id\", \"color\", \"color_tag\", \"color_coord\"],\n",
    "    limit = 3\n",
    ")\n",
    "\n",
    "print_results(basic_search_result)"
   ]
  },
  {
   "cell_type": "markdown",
   "id": "05306d07-cc98-4b46-a231-55b64208f705",
   "metadata": {
    "tags": []
   },
   "source": [
    "<h4>Advanced Queries with JSON Field</h4>"
   ]
  },
  {
   "cell_type": "code",
   "execution_count": null,
   "id": "4733c069-b13f-40be-bd96-61b6fe8d3b5d",
   "metadata": {
    "tags": []
   },
   "outputs": [],
   "source": [
    "# Advanced search\n",
    "advanced_search_result = client.query(\n",
    "    collection_name = \"array_collection\",\n",
    "    filter = \"ARRAY_CONTAINS(color_coord, 10)\",\n",
    "    output_fields = [\"id\", \"color\", \"color_tag\", \"color_coord\"],\n",
    "    limit = 3\n",
    ")\n",
    "\n",
    "print_results(advanced_search_result)"
   ]
  },
  {
   "cell_type": "code",
   "execution_count": null,
   "id": "358d3eca-c073-499f-bda7-c85711b863c0",
   "metadata": {
    "tags": []
   },
   "outputs": [],
   "source": [
    "advanced_search_result = client.query(\n",
    "    collection_name = \"array_collection\",\n",
    "    filter = \"ARRAY_CONTAINS_ALL(color_coord, [7, 8])\",\n",
    "    output_fields = [\"id\", \"color\", \"color_tag\", \"color_coord\"],\n",
    "    limit = 3\n",
    ")\n",
    "\n",
    "print_results(advanced_search_result)"
   ]
  },
  {
   "cell_type": "code",
   "execution_count": null,
   "id": "6e0b3ccd-b79b-499f-8213-c5b5c4b70c2c",
   "metadata": {
    "tags": []
   },
   "outputs": [],
   "source": [
    "advanced_search_result = client.query(\n",
    "    collection_name = \"array_collection\",\n",
    "    filter = \"ARRAY_CONTAINS_ANY(color_coord, [7, 8, 9])\",\n",
    "    output_fields = [\"id\", \"color\", \"color_tag\", \"color_coord\"],\n",
    "    limit = 3\n",
    ")\n",
    "\n",
    "print_results(advanced_search_result)"
   ]
  },
  {
   "cell_type": "code",
   "execution_count": null,
   "id": "c4c5ec7a-97a4-4219-8139-d59dd7d762a8",
   "metadata": {
    "tags": []
   },
   "outputs": [],
   "source": [
    "advanced_search_result = client.query(\n",
    "    collection_name = \"array_collection\",\n",
    "    filter = \"ARRAY_LENGTH(color_coord) == 4\",\n",
    "    output_fields = [\"id\", \"color\", \"color_tag\", \"color_coord\"],\n",
    "    limit = 3\n",
    ")\n",
    "\n",
    "print_results(advanced_search_result)"
   ]
  },
  {
   "cell_type": "code",
   "execution_count": null,
   "id": "94b2b6f2-c326-4c9e-8944-1b4dda7dae94",
   "metadata": {
    "tags": []
   },
   "outputs": [],
   "source": [
    "# Drop collection\n",
    "client.drop_collection(\n",
    "    collection_name = \"array_collection\",\n",
    ")"
   ]
  },
  {
   "cell_type": "markdown",
   "id": "e61e0465-5b97-4426-969f-ec57e2607b1e",
   "metadata": {},
   "source": [
    "<h4>Sparse Vectors</h4>"
   ]
  },
  {
   "cell_type": "code",
   "execution_count": null,
   "id": "e2fc1798-27f5-4e0d-aa36-e0675c4c0eec",
   "metadata": {
    "tags": []
   },
   "outputs": [],
   "source": [
    "client = MilvusClient(\n",
    "    uri = CLUSTER_ENDPOINT,\n",
    "    token = TOKEN\n",
    ")\n",
    "\n",
    "# Create a collection with a sparse vector field\n",
    "schema = client.create_schema(\n",
    "    auto_id = True,\n",
    "    enable_dynamic_fields = True,\n",
    ")\n",
    "\n",
    "schema.add_field(field_name = \"pk\", datatype = DataType.VARCHAR, is_primary = True, max_length = 100)\n",
    "schema.add_field(field_name = \"scalar_field\", datatype = DataType.DOUBLE)\n",
    "\n",
    "# For sparse vector, no need to specify dimension\n",
    "schema.add_field(field_name=\"sparse_vector\", datatype = DataType.SPARSE_FLOAT_VECTOR)\n",
    "\n",
    "client.create_collection(collection_name = \"sparse_vector_collection\", schema = schema)"
   ]
  },
  {
   "cell_type": "markdown",
   "id": "412c4cf1-4084-4831-b1a4-a4f908ba1910",
   "metadata": {},
   "source": [
    "<h4>Generate Random Data</h4>"
   ]
  },
  {
   "cell_type": "code",
   "execution_count": null,
   "id": "341b0d46-eb89-43e2-b92f-ad7fb88c2ee7",
   "metadata": {
    "tags": []
   },
   "outputs": [],
   "source": [
    "# Prepare entities with sparse vector representation\n",
    "import numpy as np\n",
    "import random\n",
    "\n",
    "rng = np.random.default_rng()\n",
    "\n",
    "num_entities, dim = 10000, 10000\n",
    "\n",
    "# Generate random sparse rows with an average of 25 non-zero elements per row\n",
    "entities = [\n",
    "    {\n",
    "        \"scalar_field\": rng.random(),\n",
    "        # To represent a single sparse vector row, you can use:\n",
    "        # - Any of the scipy.sparse sparse matrices class family with shape[0] == 1\n",
    "        # - Dict[int, float]\n",
    "        # - Iterable[Tuple[int, float]]\n",
    "        \"sparse_vector\": {\n",
    "            d: rng.random() for d in random.sample(range(dim), random.randint(20, 30))\n",
    "        },\n",
    "    }\n",
    "    for _ in range(num_entities)\n",
    "]\n",
    "\n",
    "# print the first entity to check the representation\n",
    "pprint(entities[0])"
   ]
  },
  {
   "cell_type": "code",
   "execution_count": null,
   "id": "a7d28ae7-884b-49fd-ad4f-8beaa6203d4f",
   "metadata": {
    "tags": []
   },
   "outputs": [],
   "source": [
    "from IPython.display import clear_output\n",
    "\n",
    "client.insert(collection_name = \"sparse_vector_collection\", data = entities)\n",
    "clear_output(wait=True)"
   ]
  },
  {
   "cell_type": "code",
   "execution_count": null,
   "id": "83d114db-82f0-49a8-a985-c6150e8f8ee6",
   "metadata": {
    "tags": []
   },
   "outputs": [],
   "source": [
    "# Index the collection\n",
    "index_params = client.prepare_index_params()\n",
    "\n",
    "index_params.add_index(\n",
    "    field_name = \"sparse_vector\",\n",
    "    index_name = \"sparse_inverted_index\",\n",
    "    index_type = \"AUTOINDEX\",\n",
    "    metric_type = \"IP\", # the metric type to be used for the index. Currently, only `IP` (Inner Product) is supported.\n",
    "    params = {\"drop_ratio_build\": 0.2}, # the ratio of small vector values to be dropped during indexing.\n",
    ")\n",
    "\n",
    "# Create index\n",
    "client.create_index(collection_name = \"sparse_vector_collection\", index_params=index_params)"
   ]
  },
  {
   "cell_type": "markdown",
   "id": "c6b1edae-cd38-4b15-9c1b-a75679d22be7",
   "metadata": {},
   "source": [
    "<h4>Search with Sparse Vectors</h4>"
   ]
  },
  {
   "cell_type": "code",
   "execution_count": null,
   "id": "cc4451bd-e4d6-4b48-9b01-466fa2ddd45a",
   "metadata": {
    "tags": []
   },
   "outputs": [],
   "source": [
    "# Load the collection into memory\n",
    "client.load_collection(collection_name = \"sparse_vector_collection\")\n",
    "\n",
    "# for demo purpose we search for the last inserted vector\n",
    "query_vector = entities[-1][\"sparse_vector\"]\n",
    "\n",
    "search_params = {\n",
    "    \"metric_type\": \"IP\",\n",
    "    \"params\": {\"drop_ratio_search\": 0.2}, # the ratio of small vector values to be dropped during search.\n",
    "}\n",
    "\n",
    "search_res = client.search(\n",
    "    collection_name = \"sparse_vector_collection\",\n",
    "    data = [query_vector],\n",
    "    limit = 3,\n",
    "    output_fields = [\"pk\", \"scalar_field\"],\n",
    "    search_params = search_params,\n",
    ")\n",
    "\n",
    "for hits in search_res:\n",
    "    for hit in hits:\n",
    "        pprint(hit)"
   ]
  },
  {
   "cell_type": "code",
   "execution_count": null,
   "id": "623209c9-17b8-41c3-bb0f-00f3826d0e92",
   "metadata": {
    "tags": []
   },
   "outputs": [],
   "source": [
    "# Perform a query by specifying filter expr\n",
    "filter_query_res = client.query(\n",
    "    collection_name = \"sparse_vector_collection\",\n",
    "    filter = \"scalar_field > 0.999\",\n",
    ")\n",
    "\n",
    "pprint(filter_query_res[:2])"
   ]
  },
  {
   "cell_type": "code",
   "execution_count": null,
   "id": "016c9705-89d9-43b8-8346-00c06cc36a6c",
   "metadata": {
    "tags": []
   },
   "outputs": [],
   "source": [
    "pks = [ret[\"pk\"] for ret in filter_query_res]\n",
    "\n",
    "# Perform a query by primary key\n",
    "pk_query_res = client.query(\n",
    "    collection_name = \"sparse_vector_collection\", filter = f\"pk == '{pks[0]}'\"\n",
    ")\n",
    "\n",
    "print_results(pk_query_res)"
   ]
  },
  {
   "cell_type": "code",
   "execution_count": null,
   "id": "5254aac9-e42e-4597-af74-e9531cb3440d",
   "metadata": {
    "tags": []
   },
   "outputs": [],
   "source": [
    "# Drop collection\n",
    "client.drop_collection(\n",
    "    collection_name = \"sparse_vector_collection\",\n",
    ")"
   ]
  },
  {
   "cell_type": "markdown",
   "id": "38f7606c-26e7-4b12-8d3d-a867cd695485",
   "metadata": {},
   "source": [
    "<h4>Binary Vector</h4>"
   ]
  },
  {
   "cell_type": "code",
   "execution_count": null,
   "id": "0779f72e-1e55-497f-a3db-8ad73c93e1a8",
   "metadata": {
    "tags": []
   },
   "outputs": [],
   "source": [
    "client = MilvusClient(\n",
    "    uri = CLUSTER_ENDPOINT,\n",
    "    token = TOKEN\n",
    ")\n",
    "\n",
    "# Define schema for the collection\n",
    "schema = client.create_schema(\n",
    "    auto_id = False,\n",
    "    enable_dynamic_field = True\n",
    ")\n",
    "\n",
    "schema.add_field(field_name = \"id\", datatype = DataType.INT64, is_primary = True)\n",
    "schema.add_field(field_name = \"binary_vector\", datatype = DataType.BINARY_VECTOR, dim = 128)\n",
    "\n",
    "# Additional fields for categorization\n",
    "schema.add_field(field_name = \"color\", datatype = DataType.VARCHAR, max_length = 64)\n",
    "schema.add_field(field_name = \"color_tag\", datatype = DataType.VARCHAR, max_length = 64)"
   ]
  },
  {
   "cell_type": "code",
   "execution_count": null,
   "id": "64ab64dd-2649-4d72-8e3d-5bf6c328cc51",
   "metadata": {
    "tags": []
   },
   "outputs": [],
   "source": [
    "# Prepare index parameters for the binary vector field\n",
    "index_params = client.prepare_index_params()\n",
    "\n",
    "index_params.add_index(\n",
    "    field_name = \"binary_vector\", \n",
    "    index_type = \"AUTOINDEX\", \n",
    "    metric_type = \"HAMMING\"  # Use HAMMING or JACCARD metric type for binary vectors\n",
    ")"
   ]
  },
  {
   "cell_type": "code",
   "execution_count": null,
   "id": "768d6cd7-2bf3-4274-9724-54163d8a2489",
   "metadata": {
    "tags": []
   },
   "outputs": [],
   "source": [
    "# Create the collection with the specified schema and index parameters\n",
    "client.create_collection(\n",
    "    collection_name = \"binary_vector_collection\",\n",
    "    schema = schema,\n",
    "    index_params = index_params\n",
    ")"
   ]
  },
  {
   "cell_type": "markdown",
   "id": "52a092f1-182f-4e16-a488-d298655a38b0",
   "metadata": {},
   "source": [
    "<h4>Generate Random Data</h4>"
   ]
  },
  {
   "cell_type": "code",
   "execution_count": null,
   "id": "0bc11f24-c87a-463a-a13e-84f370d1e601",
   "metadata": {
    "tags": []
   },
   "outputs": [],
   "source": [
    "import numpy as np\n",
    "import random\n",
    "import string\n",
    "\n",
    "# Sample set of colors for categorization\n",
    "colors = [\"green\", \"blue\", \"yellow\", \"red\", \"black\", \"white\", \"purple\", \"pink\", \"orange\", \"brown\", \"grey\"]\n",
    "entities = []\n",
    "\n",
    "# Function to generate and pack binary vectors\n",
    "def gen_binary_vectors(num, dim):\n",
    "    raw_vectors = []\n",
    "    binary_vectors = []\n",
    "    for _ in range(num):\n",
    "        raw_vector = [random.randint(0, 1) for _ in range(dim)]\n",
    "        raw_vectors.append(raw_vector)\n",
    "        binary_vectors.append(bytes(np.packbits(raw_vector, axis = -1).tolist()))\n",
    "    return raw_vectors, binary_vectors\n",
    "\n",
    "# Generating random binary vectors and packing them\n",
    "num_entities = 5000\n",
    "dim = 128\n",
    "_, binary_vectors = gen_binary_vectors(num_entities, dim)\n",
    "\n",
    "# Creating entities with binary vectors\n",
    "for i in range(num_entities):\n",
    "    current_color = random.choice(colors)\n",
    "    entity = {\n",
    "        \"id\": i,\n",
    "        \"binary_vector\": binary_vectors[i],\n",
    "        \"color\": current_color,\n",
    "        \"color_tag\": f\"{current_color}_{str(random.randint(1000, 9999))}\"\n",
    "    }\n",
    "    entities.append(entity)\n",
    "\n",
    "# Display the first entity to verify\n",
    "print(entities[0])"
   ]
  },
  {
   "cell_type": "code",
   "execution_count": null,
   "id": "7c8bd3b6-dcec-4666-a205-a4b9407d94cc",
   "metadata": {
    "tags": []
   },
   "outputs": [],
   "source": [
    "client.insert(collection_name = \"binary_vector_collection\", data = entities)\n",
    "clear_output(wait=True)"
   ]
  },
  {
   "cell_type": "markdown",
   "id": "0114eb46-f357-4e69-9ca6-df76328e66cb",
   "metadata": {},
   "source": [
    "<h4>Search with Binary Vectors</h4>"
   ]
  },
  {
   "cell_type": "code",
   "execution_count": null,
   "id": "d3d3670e-933b-43e6-a255-397c27de3a0e",
   "metadata": {
    "tags": []
   },
   "outputs": [],
   "source": [
    "# Load the collection into memory\n",
    "client.load_collection(collection_name = \"binary_vector_collection\")\n",
    "\n",
    "# Perform ANN search on binary vectors\n",
    "\n",
    "query_binary_vector = entities[-1][\"binary_vector\"]\n",
    "\n",
    "search_params = {\n",
    "    \"metric_type\": \"HAMMING\", # the value must be the same as the one defined in the collection schema\n",
    "    \"params\": {\"level\": 1}\n",
    "}\n",
    "\n",
    "search_res = client.search(\n",
    "    collection_name = \"binary_vector_collection\",\n",
    "    data = [query_binary_vector],\n",
    "    limit = 3,\n",
    "    output_fields = [\"my_id\", \"color\"],\n",
    "    search_params = search_params,\n",
    ")\n",
    "\n",
    "for hits in search_res:\n",
    "    for hit in hits:\n",
    "        print(hit)"
   ]
  },
  {
   "cell_type": "code",
   "execution_count": null,
   "id": "9cc5c281-dc58-4169-877d-a8cbdf7b6fa3",
   "metadata": {
    "tags": []
   },
   "outputs": [],
   "source": [
    "# Perform filtered search on binary vector index\n",
    "\n",
    "# Filter results whose `color` is prefixed with \"white\"\n",
    "res = client.search(\n",
    "    collection_name = \"binary_vector_collection\",\n",
    "    data = [query_binary_vector],\n",
    "    limit = 20,\n",
    "    search_params = {\"metric_type\": \"HAMMING\", \"params\": {\"level\": 1}},\n",
    "    filter = 'color_tag like \"white%\"',\n",
    "    output_fields = [\"color_tag\"]\n",
    ")\n",
    "\n",
    "for hits in res:\n",
    "    for hit in hits:\n",
    "        print(hit)"
   ]
  },
  {
   "cell_type": "code",
   "execution_count": null,
   "id": "b1196607-c73b-403d-ac7c-995a10cf96db",
   "metadata": {
    "tags": []
   },
   "outputs": [],
   "source": [
    "# Drop collection\n",
    "client.drop_collection(\n",
    "    collection_name = \"binary_vector_collection\",\n",
    ")"
   ]
  }
 ],
 "metadata": {
  "kernelspec": {
   "display_name": "Python 3 (ipykernel)",
   "language": "python",
   "name": "python3"
  },
  "language_info": {
   "codemirror_mode": {
    "name": "ipython",
    "version": 3
   },
   "file_extension": ".py",
   "mimetype": "text/x-python",
   "name": "python",
   "nbconvert_exporter": "python",
   "pygments_lexer": "ipython3",
   "version": "3.10.5"
  }
 },
 "nbformat": 4,
 "nbformat_minor": 5
}
