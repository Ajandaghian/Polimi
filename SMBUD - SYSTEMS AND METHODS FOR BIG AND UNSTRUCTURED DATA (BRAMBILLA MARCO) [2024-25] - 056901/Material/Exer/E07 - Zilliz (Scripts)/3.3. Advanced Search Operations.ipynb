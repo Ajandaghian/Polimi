{
 "cells": [
  {
   "cell_type": "markdown",
   "id": "98845cbc-9916-4ad4-908f-025fe0a244ee",
   "metadata": {},
   "source": [
    "<h4>Collection Setup</h4>"
   ]
  },
  {
   "cell_type": "code",
   "execution_count": null,
   "id": "d5baff87-a77b-41de-8ced-f17ca010f6bc",
   "metadata": {
    "tags": []
   },
   "outputs": [],
   "source": [
    "# Open the configuration file\n",
    "import yaml\n",
    "\n",
    "with open(\"credentials.yaml\") as f:\n",
    "    credentials = yaml.safe_load(f)\n",
    "    \n",
    "    CLUSTER_ENDPOINT = credentials[\"CLUSTER_ENDPOINT\"]\n",
    "    TOKEN = credentials[\"TOKEN\"]"
   ]
  },
  {
   "cell_type": "code",
   "execution_count": null,
   "id": "4dd2bf97-6a30-44b7-931a-d1e34178fc44",
   "metadata": {
    "tags": []
   },
   "outputs": [],
   "source": [
    "from pymilvus import connections, utility, Collection, FieldSchema, CollectionSchema, DataType\n",
    "import random\n",
    "\n",
    "# Connect to cluster\n",
    "connections.connect(\n",
    "    uri = CLUSTER_ENDPOINT, \n",
    "    token = TOKEN\n",
    ")\n",
    "\n",
    "# Create schema\n",
    "fields = [\n",
    "    FieldSchema(name = \"film_id\", dtype = DataType.INT64, is_primary = True),\n",
    "    FieldSchema(name = \"filmVector\", dtype = DataType.FLOAT_VECTOR, dim = 5), \n",
    "    FieldSchema(name = \"posterVector\", dtype = DataType.FLOAT_VECTOR, dim = 5)] \n",
    "\n",
    "schema = CollectionSchema(fields = fields, enable_dynamic_field = False)\n",
    "\n",
    "# Create collection\n",
    "collection = Collection(name = \"film_collection\", schema = schema)\n",
    "\n",
    "# Create index for each vector field\n",
    "index_params = {\n",
    "    \"metric_type\": \"L2\",\n",
    "    \"index_type\": \"AUTOINDEX\"\n",
    "}\n",
    "\n",
    "collection.create_index(\"filmVector\", index_params)\n",
    "collection.create_index(\"posterVector\", index_params)\n",
    "\n",
    "# Generate random entities to insert\n",
    "entities = []\n",
    "\n",
    "for _ in range(1000):\n",
    "    # generate random values for each field in the schema\n",
    "    film_id = random.randint(1, 1000)\n",
    "    film_vector = [ random.random() for _ in range(5) ]\n",
    "    poster_vector = [ random.random() for _ in range(5) ]\n",
    "\n",
    "    # creat a dictionary for each entity\n",
    "    entity = {\n",
    "        \"film_id\": film_id,\n",
    "        \"filmVector\": film_vector,\n",
    "        \"posterVector\": poster_vector\n",
    "    }\n",
    "\n",
    "    # add the entity to the list\n",
    "    entities.append(entity)\n",
    "    \n",
    "collection.insert(entities)"
   ]
  },
  {
   "cell_type": "markdown",
   "id": "ea48e280-5a46-4dd0-bc8c-58df6138f13a",
   "metadata": {},
   "source": [
    "<h4>ANNSearch and Hybrid Search</h4>\n",
    "<p>ANNSearch (Approximate Nearest Neighbor Search) is a type of search for Semantic Similarity. Compared to the standard NNSearch, it trades accuracy for performances and it is very effective on large datasets.</p>"
   ]
  },
  {
   "cell_type": "code",
   "execution_count": null,
   "id": "f6cf6325-ac67-4334-bc4c-66ea2690a827",
   "metadata": {
    "tags": []
   },
   "outputs": [],
   "source": [
    "from pymilvus import AnnSearchRequest\n",
    "\n",
    "# Create ANN search request for filmVector\n",
    "query_film_vector = [[0.8896863042430693, 0.370613100114602, 0.23779315077113428, 0.38227915951132996, 0.5997064603128835]]\n",
    "\n",
    "search_param_film = {\n",
    "    \"data\": query_film_vector, # Query vector\n",
    "    \"anns_field\": \"filmVector\", # Vector field name\n",
    "    \"param\": {\n",
    "        \"metric_type\": \"L2\", # This parameter value must be identical to the one used in the collection schema\n",
    "        \"params\": {\"nprobe\": 10} # Number of closest buckets to find (search step 1) before looking for the best one (search step 2)\n",
    "    },\n",
    "    \"limit\": 2 # Number of search results to return in this AnnSearchRequest\n",
    "}\n",
    "request_film = AnnSearchRequest(**search_param_film)\n",
    "\n",
    "# Create ANN search request for posterVector\n",
    "query_poster_vector = [[0.02550758562349764, 0.006085637357292062, 0.5325251250159071, 0.7676432650114147, 0.5521074424751443]]\n",
    "search_param_poster = {\n",
    "    \"data\": query_poster_vector, # Query vector\n",
    "    \"anns_field\": \"posterVector\", # Vector field name\n",
    "    \"param\": {\n",
    "        \"metric_type\": \"L2\", # This parameter value must be identical to the one used in the collection schema\n",
    "        \"params\": {\"nprobe\": 10}\n",
    "    },\n",
    "    \"limit\": 2 # Number of search results to return in this AnnSearchRequest\n",
    "}\n",
    "request_poster = AnnSearchRequest(**search_param_poster)\n",
    "\n",
    "# Store these two requests as a list\n",
    "requests = [request_film, request_poster]"
   ]
  },
  {
   "cell_type": "markdown",
   "id": "5ec5d3f5-19a4-4153-9279-37ad2e7da09e",
   "metadata": {},
   "source": [
    "<h4>Define a Weight Function</h4>"
   ]
  },
  {
   "cell_type": "code",
   "execution_count": null,
   "id": "1e9da7c4-b6d0-4351-905e-62880f7036d0",
   "metadata": {
    "tags": []
   },
   "outputs": [],
   "source": [
    "from pymilvus import WeightedRanker\n",
    "\n",
    "# Use WeightedRanker to combine results with specified weights\n",
    "# Assign weights of 0.8 to film search and 0.2 to poster search\n",
    "rerank = WeightedRanker(0.8, 0.2)"
   ]
  },
  {
   "cell_type": "markdown",
   "id": "80366203-3003-469a-bd6d-6dc1dcbe8b43",
   "metadata": {
    "tags": []
   },
   "source": [
    "<h4>Perform Hybrid Search</h4>"
   ]
  },
  {
   "cell_type": "code",
   "execution_count": null,
   "id": "a5b061c3-44e3-40bb-872e-3e215405f62a",
   "metadata": {
    "tags": []
   },
   "outputs": [],
   "source": [
    "# Before conducting hybrid search, load the collection into memory.\n",
    "collection.load()\n",
    "\n",
    "search_results = collection.hybrid_search(\n",
    "    requests, # List of AnnSearchRequests created in step 1\n",
    "    rerank, # Reranking strategy specified in step 2\n",
    "    limit = 2 # Number of final search results to return\n",
    ")\n",
    "\n",
    "print(search_results)"
   ]
  },
  {
   "cell_type": "code",
   "execution_count": null,
   "id": "8ad1e243-d290-4aa0-aa21-990f6e5f5694",
   "metadata": {
    "tags": []
   },
   "outputs": [],
   "source": [
    "# Drop collection\n",
    "utility.drop_collection(\n",
    "    collection_name = \"film_collection\",\n",
    ")"
   ]
  },
  {
   "cell_type": "code",
   "execution_count": null,
   "id": "7e8babd8-3507-4d89-a1bd-4778d1ab2b08",
   "metadata": {},
   "outputs": [],
   "source": []
  }
 ],
 "metadata": {
  "kernelspec": {
   "display_name": "Python 3 (ipykernel)",
   "language": "python",
   "name": "python3"
  },
  "language_info": {
   "codemirror_mode": {
    "name": "ipython",
    "version": 3
   },
   "file_extension": ".py",
   "mimetype": "text/x-python",
   "name": "python",
   "nbconvert_exporter": "python",
   "pygments_lexer": "ipython3",
   "version": "3.10.5"
  }
 },
 "nbformat": 4,
 "nbformat_minor": 5
}
