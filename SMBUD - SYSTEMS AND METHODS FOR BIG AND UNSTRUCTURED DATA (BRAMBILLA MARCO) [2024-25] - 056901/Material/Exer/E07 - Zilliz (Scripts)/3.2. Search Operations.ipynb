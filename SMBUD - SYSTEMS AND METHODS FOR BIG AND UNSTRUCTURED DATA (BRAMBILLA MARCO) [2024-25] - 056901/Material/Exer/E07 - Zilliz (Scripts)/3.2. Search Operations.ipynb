{
 "cells": [
  {
   "cell_type": "markdown",
   "id": "e4d91622-0a2f-452c-98c8-0f745ec1c006",
   "metadata": {},
   "source": [
    "<h4>Initial Configuration</h4>"
   ]
  },
  {
   "cell_type": "code",
   "execution_count": 1,
   "id": "9bb4f426-00d3-47ec-8330-db592b37e317",
   "metadata": {
    "tags": []
   },
   "outputs": [],
   "source": [
    "# Open the configuration file\n",
    "import yaml\n",
    "\n",
    "with open(\"credentials.yaml\") as f:\n",
    "    credentials = yaml.safe_load(f)\n",
    "    \n",
    "    CLUSTER_ENDPOINT = credentials[\"CLUSTER_ENDPOINT\"]\n",
    "    TOKEN = credentials[\"TOKEN\"]"
   ]
  },
  {
   "cell_type": "code",
   "execution_count": 2,
   "id": "24d12ba2-8b88-46a8-836a-763251906725",
   "metadata": {
    "tags": []
   },
   "outputs": [
    {
     "name": "stdout",
     "output_type": "stream",
     "text": [
      "{'state': <LoadState: Loaded>}\n"
     ]
    }
   ],
   "source": [
    "from pymilvus import MilvusClient, DataType\n",
    "\n",
    "# Set up a Milvus client\n",
    "client = MilvusClient(\n",
    "    uri = CLUSTER_ENDPOINT,\n",
    "    token = TOKEN \n",
    ")\n",
    "\n",
    "from pymilvus import DataType\n",
    "\n",
    "# Create schema\n",
    "schema = MilvusClient.create_schema(\n",
    "    auto_id = False,\n",
    "    enable_dynamic_field = True,\n",
    ")\n",
    "\n",
    "# Add fields to schema\n",
    "schema.add_field(field_name = \"id\", datatype = DataType.INT64, is_primary = True)\n",
    "schema.add_field(field_name = \"vector\", datatype = DataType.FLOAT_VECTOR, dim = 5)\n",
    "schema.add_field(field_name = \"color\", datatype = DataType.VARCHAR, max_length = 1000)\n",
    "schema.add_field(field_name = \"color_tag\", datatype = DataType.VARCHAR, max_length = 1000)\n",
    "\n",
    "index_params = client.prepare_index_params()\n",
    "\n",
    "index_params.add_index(\n",
    "    field_name = \"vector\", \n",
    "    index_type = \"AUTOINDEX\",\n",
    "    metric_type = \"IP\",\n",
    "    params = { \"nlist\": 128 }\n",
    ")\n",
    "\n",
    "import time\n",
    "\n",
    "# Create a collection with the index loaded simultaneously\n",
    "client.create_collection(\n",
    "    collection_name = \"quick_setup_collection\",\n",
    "    schema = schema,\n",
    "    index_params = index_params\n",
    ")\n",
    "\n",
    "time.sleep(5)\n",
    "\n",
    "res = client.get_load_state(\n",
    "    collection_name = \"quick_setup_collection\"\n",
    ")\n",
    "\n",
    "print(res)"
   ]
  },
  {
   "cell_type": "markdown",
   "id": "9476eff9-4370-4de6-8d94-221e9cdff5be",
   "metadata": {},
   "source": [
    "<h4>Random Data Generation</h4>"
   ]
  },
  {
   "cell_type": "code",
   "execution_count": 3,
   "id": "ca552fda-813d-4fc0-bda6-32b49f672599",
   "metadata": {
    "tags": []
   },
   "outputs": [
    {
     "name": "stdout",
     "output_type": "stream",
     "text": [
      "{'insert_count': 1000, 'ids': [0, 1, 2, 3, 4, 5, 6, 7, 8, 9, 10, 11, 12, 13, 14, 15, 16, 17, 18, 19, 20, 21, 22, 23, 24, 25, 26, 27, 28, 29, 30, 31, 32, 33, 34, 35, 36, 37, 38, 39, 40, 41, 42, 43, 44, 45, 46, 47, 48, 49, 50, 51, 52, 53, 54, 55, 56, 57, 58, 59, 60, 61, 62, 63, 64, 65, 66, 67, 68, 69, 70, 71, 72, 73, 74, 75, 76, 77, 78, 79, 80, 81, 82, 83, 84, 85, 86, 87, 88, 89, 90, 91, 92, 93, 94, 95, 96, 97, 98, 99, 100, 101, 102, 103, 104, 105, 106, 107, 108, 109, 110, 111, 112, 113, 114, 115, 116, 117, 118, 119, 120, 121, 122, 123, 124, 125, 126, 127, 128, 129, 130, 131, 132, 133, 134, 135, 136, 137, 138, 139, 140, 141, 142, 143, 144, 145, 146, 147, 148, 149, 150, 151, 152, 153, 154, 155, 156, 157, 158, 159, 160, 161, 162, 163, 164, 165, 166, 167, 168, 169, 170, 171, 172, 173, 174, 175, 176, 177, 178, 179, 180, 181, 182, 183, 184, 185, 186, 187, 188, 189, 190, 191, 192, 193, 194, 195, 196, 197, 198, 199, 200, 201, 202, 203, 204, 205, 206, 207, 208, 209, 210, 211, 212, 213, 214, 215, 216, 217, 218, 219, 220, 221, 222, 223, 224, 225, 226, 227, 228, 229, 230, 231, 232, 233, 234, 235, 236, 237, 238, 239, 240, 241, 242, 243, 244, 245, 246, 247, 248, 249, 250, 251, 252, 253, 254, 255, 256, 257, 258, 259, 260, 261, 262, 263, 264, 265, 266, 267, 268, 269, 270, 271, 272, 273, 274, 275, 276, 277, 278, 279, 280, 281, 282, 283, 284, 285, 286, 287, 288, 289, 290, 291, 292, 293, 294, 295, 296, 297, 298, 299, 300, 301, 302, 303, 304, 305, 306, 307, 308, 309, 310, 311, 312, 313, 314, 315, 316, 317, 318, 319, 320, 321, 322, 323, 324, 325, 326, 327, 328, 329, 330, 331, 332, 333, 334, 335, 336, 337, 338, 339, 340, 341, 342, 343, 344, 345, 346, 347, 348, 349, 350, 351, 352, 353, 354, 355, 356, 357, 358, 359, 360, 361, 362, 363, 364, 365, 366, 367, 368, 369, 370, 371, 372, 373, 374, 375, 376, 377, 378, 379, 380, 381, 382, 383, 384, 385, 386, 387, 388, 389, 390, 391, 392, 393, 394, 395, 396, 397, 398, 399, 400, 401, 402, 403, 404, 405, 406, 407, 408, 409, 410, 411, 412, 413, 414, 415, 416, 417, 418, 419, 420, 421, 422, 423, 424, 425, 426, 427, 428, 429, 430, 431, 432, 433, 434, 435, 436, 437, 438, 439, 440, 441, 442, 443, 444, 445, 446, 447, 448, 449, 450, 451, 452, 453, 454, 455, 456, 457, 458, 459, 460, 461, 462, 463, 464, 465, 466, 467, 468, 469, 470, 471, 472, 473, 474, 475, 476, 477, 478, 479, 480, 481, 482, 483, 484, 485, 486, 487, 488, 489, 490, 491, 492, 493, 494, 495, 496, 497, 498, 499, 500, 501, 502, 503, 504, 505, 506, 507, 508, 509, 510, 511, 512, 513, 514, 515, 516, 517, 518, 519, 520, 521, 522, 523, 524, 525, 526, 527, 528, 529, 530, 531, 532, 533, 534, 535, 536, 537, 538, 539, 540, 541, 542, 543, 544, 545, 546, 547, 548, 549, 550, 551, 552, 553, 554, 555, 556, 557, 558, 559, 560, 561, 562, 563, 564, 565, 566, 567, 568, 569, 570, 571, 572, 573, 574, 575, 576, 577, 578, 579, 580, 581, 582, 583, 584, 585, 586, 587, 588, 589, 590, 591, 592, 593, 594, 595, 596, 597, 598, 599, 600, 601, 602, 603, 604, 605, 606, 607, 608, 609, 610, 611, 612, 613, 614, 615, 616, 617, 618, 619, 620, 621, 622, 623, 624, 625, 626, 627, 628, 629, 630, 631, 632, 633, 634, 635, 636, 637, 638, 639, 640, 641, 642, 643, 644, 645, 646, 647, 648, 649, 650, 651, 652, 653, 654, 655, 656, 657, 658, 659, 660, 661, 662, 663, 664, 665, 666, 667, 668, 669, 670, 671, 672, 673, 674, 675, 676, 677, 678, 679, 680, 681, 682, 683, 684, 685, 686, 687, 688, 689, 690, 691, 692, 693, 694, 695, 696, 697, 698, 699, 700, 701, 702, 703, 704, 705, 706, 707, 708, 709, 710, 711, 712, 713, 714, 715, 716, 717, 718, 719, 720, 721, 722, 723, 724, 725, 726, 727, 728, 729, 730, 731, 732, 733, 734, 735, 736, 737, 738, 739, 740, 741, 742, 743, 744, 745, 746, 747, 748, 749, 750, 751, 752, 753, 754, 755, 756, 757, 758, 759, 760, 761, 762, 763, 764, 765, 766, 767, 768, 769, 770, 771, 772, 773, 774, 775, 776, 777, 778, 779, 780, 781, 782, 783, 784, 785, 786, 787, 788, 789, 790, 791, 792, 793, 794, 795, 796, 797, 798, 799, 800, 801, 802, 803, 804, 805, 806, 807, 808, 809, 810, 811, 812, 813, 814, 815, 816, 817, 818, 819, 820, 821, 822, 823, 824, 825, 826, 827, 828, 829, 830, 831, 832, 833, 834, 835, 836, 837, 838, 839, 840, 841, 842, 843, 844, 845, 846, 847, 848, 849, 850, 851, 852, 853, 854, 855, 856, 857, 858, 859, 860, 861, 862, 863, 864, 865, 866, 867, 868, 869, 870, 871, 872, 873, 874, 875, 876, 877, 878, 879, 880, 881, 882, 883, 884, 885, 886, 887, 888, 889, 890, 891, 892, 893, 894, 895, 896, 897, 898, 899, 900, 901, 902, 903, 904, 905, 906, 907, 908, 909, 910, 911, 912, 913, 914, 915, 916, 917, 918, 919, 920, 921, 922, 923, 924, 925, 926, 927, 928, 929, 930, 931, 932, 933, 934, 935, 936, 937, 938, 939, 940, 941, 942, 943, 944, 945, 946, 947, 948, 949, 950, 951, 952, 953, 954, 955, 956, 957, 958, 959, 960, 961, 962, 963, 964, 965, 966, 967, 968, 969, 970, 971, 972, 973, 974, 975, 976, 977, 978, 979, 980, 981, 982, 983, 984, 985, 986, 987, 988, 989, 990, 991, 992, 993, 994, 995, 996, 997, 998, 999], 'cost': 11}\n"
     ]
    }
   ],
   "source": [
    "import random\n",
    "\n",
    "# Insert randomly generated vectors \n",
    "colors = [\"green\", \"blue\", \"yellow\", \"red\", \"black\", \"white\", \"purple\", \"pink\", \"orange\", \"brown\", \"grey\"]\n",
    "data = []\n",
    "\n",
    "for i in range(1000):\n",
    "    current_color = random.choice(colors)\n",
    "    data.append({\n",
    "        \"id\": i,\n",
    "        \"vector\": [ random.uniform(-1, 1) for _ in range(5) ],\n",
    "        \"color\": current_color,\n",
    "        \"color_tag\": f\"{current_color}_{str(random.randint(1000, 9999))}\"\n",
    "    })\n",
    "\n",
    "insert_status = client.insert(\n",
    "    collection_name = \"quick_setup_collection\",\n",
    "    data = data\n",
    ")\n",
    "\n",
    "print(insert_status)"
   ]
  },
  {
   "cell_type": "markdown",
   "id": "f2b2e98d-6da7-4afe-8cb3-463c47770168",
   "metadata": {
    "tags": []
   },
   "source": [
    "<h4>Generate Partitions</h4>"
   ]
  },
  {
   "cell_type": "code",
   "execution_count": 4,
   "id": "9c311676-63be-4f0a-8503-e1cc17ab909c",
   "metadata": {
    "tags": []
   },
   "outputs": [
    {
     "name": "stdout",
     "output_type": "stream",
     "text": [
      "{'insert_count': 500, 'ids': [0, 1, 2, 3, 4, 5, 6, 7, 8, 9, 10, 11, 12, 13, 14, 15, 16, 17, 18, 19, 20, 21, 22, 23, 24, 25, 26, 27, 28, 29, 30, 31, 32, 33, 34, 35, 36, 37, 38, 39, 40, 41, 42, 43, 44, 45, 46, 47, 48, 49, 50, 51, 52, 53, 54, 55, 56, 57, 58, 59, 60, 61, 62, 63, 64, 65, 66, 67, 68, 69, 70, 71, 72, 73, 74, 75, 76, 77, 78, 79, 80, 81, 82, 83, 84, 85, 86, 87, 88, 89, 90, 91, 92, 93, 94, 95, 96, 97, 98, 99, 100, 101, 102, 103, 104, 105, 106, 107, 108, 109, 110, 111, 112, 113, 114, 115, 116, 117, 118, 119, 120, 121, 122, 123, 124, 125, 126, 127, 128, 129, 130, 131, 132, 133, 134, 135, 136, 137, 138, 139, 140, 141, 142, 143, 144, 145, 146, 147, 148, 149, 150, 151, 152, 153, 154, 155, 156, 157, 158, 159, 160, 161, 162, 163, 164, 165, 166, 167, 168, 169, 170, 171, 172, 173, 174, 175, 176, 177, 178, 179, 180, 181, 182, 183, 184, 185, 186, 187, 188, 189, 190, 191, 192, 193, 194, 195, 196, 197, 198, 199, 200, 201, 202, 203, 204, 205, 206, 207, 208, 209, 210, 211, 212, 213, 214, 215, 216, 217, 218, 219, 220, 221, 222, 223, 224, 225, 226, 227, 228, 229, 230, 231, 232, 233, 234, 235, 236, 237, 238, 239, 240, 241, 242, 243, 244, 245, 246, 247, 248, 249, 250, 251, 252, 253, 254, 255, 256, 257, 258, 259, 260, 261, 262, 263, 264, 265, 266, 267, 268, 269, 270, 271, 272, 273, 274, 275, 276, 277, 278, 279, 280, 281, 282, 283, 284, 285, 286, 287, 288, 289, 290, 291, 292, 293, 294, 295, 296, 297, 298, 299, 300, 301, 302, 303, 304, 305, 306, 307, 308, 309, 310, 311, 312, 313, 314, 315, 316, 317, 318, 319, 320, 321, 322, 323, 324, 325, 326, 327, 328, 329, 330, 331, 332, 333, 334, 335, 336, 337, 338, 339, 340, 341, 342, 343, 344, 345, 346, 347, 348, 349, 350, 351, 352, 353, 354, 355, 356, 357, 358, 359, 360, 361, 362, 363, 364, 365, 366, 367, 368, 369, 370, 371, 372, 373, 374, 375, 376, 377, 378, 379, 380, 381, 382, 383, 384, 385, 386, 387, 388, 389, 390, 391, 392, 393, 394, 395, 396, 397, 398, 399, 400, 401, 402, 403, 404, 405, 406, 407, 408, 409, 410, 411, 412, 413, 414, 415, 416, 417, 418, 419, 420, 421, 422, 423, 424, 425, 426, 427, 428, 429, 430, 431, 432, 433, 434, 435, 436, 437, 438, 439, 440, 441, 442, 443, 444, 445, 446, 447, 448, 449, 450, 451, 452, 453, 454, 455, 456, 457, 458, 459, 460, 461, 462, 463, 464, 465, 466, 467, 468, 469, 470, 471, 472, 473, 474, 475, 476, 477, 478, 479, 480, 481, 482, 483, 484, 485, 486, 487, 488, 489, 490, 491, 492, 493, 494, 495, 496, 497, 498, 499], 'cost': 6}\n",
      "{'insert_count': 500, 'ids': [0, 1, 2, 3, 4, 5, 6, 7, 8, 9, 10, 11, 12, 13, 14, 15, 16, 17, 18, 19, 20, 21, 22, 23, 24, 25, 26, 27, 28, 29, 30, 31, 32, 33, 34, 35, 36, 37, 38, 39, 40, 41, 42, 43, 44, 45, 46, 47, 48, 49, 50, 51, 52, 53, 54, 55, 56, 57, 58, 59, 60, 61, 62, 63, 64, 65, 66, 67, 68, 69, 70, 71, 72, 73, 74, 75, 76, 77, 78, 79, 80, 81, 82, 83, 84, 85, 86, 87, 88, 89, 90, 91, 92, 93, 94, 95, 96, 97, 98, 99, 100, 101, 102, 103, 104, 105, 106, 107, 108, 109, 110, 111, 112, 113, 114, 115, 116, 117, 118, 119, 120, 121, 122, 123, 124, 125, 126, 127, 128, 129, 130, 131, 132, 133, 134, 135, 136, 137, 138, 139, 140, 141, 142, 143, 144, 145, 146, 147, 148, 149, 150, 151, 152, 153, 154, 155, 156, 157, 158, 159, 160, 161, 162, 163, 164, 165, 166, 167, 168, 169, 170, 171, 172, 173, 174, 175, 176, 177, 178, 179, 180, 181, 182, 183, 184, 185, 186, 187, 188, 189, 190, 191, 192, 193, 194, 195, 196, 197, 198, 199, 200, 201, 202, 203, 204, 205, 206, 207, 208, 209, 210, 211, 212, 213, 214, 215, 216, 217, 218, 219, 220, 221, 222, 223, 224, 225, 226, 227, 228, 229, 230, 231, 232, 233, 234, 235, 236, 237, 238, 239, 240, 241, 242, 243, 244, 245, 246, 247, 248, 249, 250, 251, 252, 253, 254, 255, 256, 257, 258, 259, 260, 261, 262, 263, 264, 265, 266, 267, 268, 269, 270, 271, 272, 273, 274, 275, 276, 277, 278, 279, 280, 281, 282, 283, 284, 285, 286, 287, 288, 289, 290, 291, 292, 293, 294, 295, 296, 297, 298, 299, 300, 301, 302, 303, 304, 305, 306, 307, 308, 309, 310, 311, 312, 313, 314, 315, 316, 317, 318, 319, 320, 321, 322, 323, 324, 325, 326, 327, 328, 329, 330, 331, 332, 333, 334, 335, 336, 337, 338, 339, 340, 341, 342, 343, 344, 345, 346, 347, 348, 349, 350, 351, 352, 353, 354, 355, 356, 357, 358, 359, 360, 361, 362, 363, 364, 365, 366, 367, 368, 369, 370, 371, 372, 373, 374, 375, 376, 377, 378, 379, 380, 381, 382, 383, 384, 385, 386, 387, 388, 389, 390, 391, 392, 393, 394, 395, 396, 397, 398, 399, 400, 401, 402, 403, 404, 405, 406, 407, 408, 409, 410, 411, 412, 413, 414, 415, 416, 417, 418, 419, 420, 421, 422, 423, 424, 425, 426, 427, 428, 429, 430, 431, 432, 433, 434, 435, 436, 437, 438, 439, 440, 441, 442, 443, 444, 445, 446, 447, 448, 449, 450, 451, 452, 453, 454, 455, 456, 457, 458, 459, 460, 461, 462, 463, 464, 465, 466, 467, 468, 469, 470, 471, 472, 473, 474, 475, 476, 477, 478, 479, 480, 481, 482, 483, 484, 485, 486, 487, 488, 489, 490, 491, 492, 493, 494, 495, 496, 497, 498, 499], 'cost': 6}\n"
     ]
    }
   ],
   "source": [
    "# Create blue and red partitions\n",
    "client.create_partition(\n",
    "    collection_name = \"quick_setup_collection\",\n",
    "    partition_name = \"red\"\n",
    ")\n",
    "\n",
    "client.create_partition(\n",
    "    collection_name = \"quick_setup_collection\",\n",
    "    partition_name = \"blue\"\n",
    ")\n",
    "\n",
    "# Insert data into partitions\n",
    "red_data = [ {\"id\": i, \"vector\": [ random.uniform(-1, 1) for _ in range(5) ], \"color\": \"red\", \"color_tag\": f\"red_{str(random.randint(1000, 9999))}\" } for i in range(500) ]\n",
    "blue_data = [ {\"id\": i, \"vector\": [ random.uniform(-1, 1) for _ in range(5) ], \"color\": \"blue\", \"color_tag\": f\"blue_{str(random.randint(1000, 9999))}\" } for i in range(500) ]\n",
    "\n",
    "insert_status = client.insert(\n",
    "    collection_name = \"quick_setup_collection\",\n",
    "    data = red_data,\n",
    "    partition_name = \"red\"\n",
    ")\n",
    "\n",
    "print(insert_status)\n",
    "\n",
    "insert_status = client.insert(\n",
    "    collection_name = \"quick_setup_collection\",\n",
    "    data = blue_data,\n",
    "    partition_name = \"blue\"\n",
    ")\n",
    "\n",
    "print(insert_status)"
   ]
  },
  {
   "cell_type": "markdown",
   "id": "14fca28a-ee70-4248-8dde-3707842f69d5",
   "metadata": {},
   "source": [
    "<h4>Single Vector Search</h4>"
   ]
  },
  {
   "cell_type": "code",
   "execution_count": 5,
   "id": "023ff572-fa9f-4eaf-a0cd-2a0bb08f33f0",
   "metadata": {
    "tags": []
   },
   "outputs": [
    {
     "name": "stdout",
     "output_type": "stream",
     "text": [
      "[\n",
      "    [\n",
      "        {\n",
      "            \"id\": 894,\n",
      "            \"distance\": 1.820735216140747,\n",
      "            \"entity\": {}\n",
      "        },\n",
      "        {\n",
      "            \"id\": 318,\n",
      "            \"distance\": 1.7348827123641968,\n",
      "            \"entity\": {}\n",
      "        },\n",
      "        {\n",
      "            \"id\": 199,\n",
      "            \"distance\": 1.6810312271118164,\n",
      "            \"entity\": {}\n",
      "        }\n",
      "    ]\n",
      "]\n"
     ]
    }
   ],
   "source": [
    "import json\n",
    "# Single vector search\n",
    "query_vector = [0.3580376395471989, -0.6023495712049978, 0.18414012509913835, -0.26286205330961354, 0.9029438446296592]\n",
    "\n",
    "search_status = client.search(\n",
    "    collection_name = \"quick_setup_collection\",\n",
    "    data = [query_vector],\n",
    "    limit = 3, # The number of results to return\n",
    "    search_params = {\"metric_type\": \"IP\", \"params\": {\"level\": 1}}\n",
    ")\n",
    "\n",
    "search_result = json.dumps(search_status, indent = 4)\n",
    "print(search_result)"
   ]
  },
  {
   "cell_type": "markdown",
   "id": "2b52c4ad-2ab8-40a9-a071-5673be1d9228",
   "metadata": {
    "tags": []
   },
   "source": [
    "<h4>Batch Vector Search</h4>"
   ]
  },
  {
   "cell_type": "code",
   "execution_count": 6,
   "id": "b167454c-f917-47ce-82f4-c9a8e5c8066c",
   "metadata": {
    "tags": []
   },
   "outputs": [
    {
     "name": "stdout",
     "output_type": "stream",
     "text": [
      "[\n",
      "    [\n",
      "        {\n",
      "            \"id\": 894,\n",
      "            \"distance\": 1.820735216140747,\n",
      "            \"entity\": {}\n",
      "        },\n",
      "        {\n",
      "            \"id\": 318,\n",
      "            \"distance\": 1.7348827123641968,\n",
      "            \"entity\": {}\n",
      "        }\n",
      "    ],\n",
      "    [\n",
      "        {\n",
      "            \"id\": 287,\n",
      "            \"distance\": 1.8029110431671143,\n",
      "            \"entity\": {}\n",
      "        },\n",
      "        {\n",
      "            \"id\": 253,\n",
      "            \"distance\": 1.6727240085601807,\n",
      "            \"entity\": {}\n",
      "        }\n",
      "    ]\n",
      "]\n"
     ]
    }
   ],
   "source": [
    "# Batch-vector search\n",
    "bulk_query_vectors = [\n",
    "    [0.3580376395471989, -0.6023495712049978, 0.18414012509913835, -0.26286205330961354, 0.9029438446296592],\n",
    "    [0.19886812562848388, 0.06023560599112088, 0.6976963061752597, 0.2614474506242501, 0.838729485096104]\n",
    "] # A list of two vectors\n",
    "\n",
    "bulk_search_status = client.search(\n",
    "    collection_name = \"quick_setup_collection\",\n",
    "    data = bulk_query_vectors, \n",
    "    limit = 2,\n",
    "    search_params = {\"metric_type\": \"IP\", \"params\": {\"level\": 1}}\n",
    ")\n",
    "\n",
    "\n",
    "bulk_result = json.dumps(bulk_search_status, indent = 4)\n",
    "print(bulk_result)"
   ]
  },
  {
   "cell_type": "markdown",
   "id": "190a11c4-17e2-4721-b64b-098d4f6907a8",
   "metadata": {
    "tags": []
   },
   "source": [
    "<h4>Partition Search</h4>"
   ]
  },
  {
   "cell_type": "code",
   "execution_count": 7,
   "id": "c0c78a16-c73c-4ce5-9ac0-aae57e782679",
   "metadata": {
    "tags": []
   },
   "outputs": [
    {
     "name": "stdout",
     "output_type": "stream",
     "text": [
      "[\n",
      "    [\n",
      "        {\n",
      "            \"id\": 318,\n",
      "            \"distance\": 1.7348827123641968,\n",
      "            \"entity\": {}\n",
      "        },\n",
      "        {\n",
      "            \"id\": 199,\n",
      "            \"distance\": 1.6810312271118164,\n",
      "            \"entity\": {}\n",
      "        },\n",
      "        {\n",
      "            \"id\": 443,\n",
      "            \"distance\": 1.646945595741272,\n",
      "            \"entity\": {}\n",
      "        },\n",
      "        {\n",
      "            \"id\": 300,\n",
      "            \"distance\": 1.4745960235595703,\n",
      "            \"entity\": {}\n",
      "        },\n",
      "        {\n",
      "            \"id\": 47,\n",
      "            \"distance\": 1.4011565446853638,\n",
      "            \"entity\": {}\n",
      "        }\n",
      "    ]\n",
      "]\n"
     ]
    }
   ],
   "source": [
    "# Search within a partition\n",
    "partition_query_vector = [0.3580376395471989, -0.6023495712049978, 0.18414012509913835, -0.26286205330961354, 0.9029438446296592]\n",
    "\n",
    "partition_search_status = client.search(\n",
    "    collection_name = \"quick_setup_collection\",\n",
    "    data = [partition_query_vector],\n",
    "    limit = 5,\n",
    "    search_params = {\"metric_type\": \"IP\", \"params\": {\"level\": 1}}, # level -> search precision level (higher > more accurate > more computation time)\n",
    "    partition_names = [\"red\"]\n",
    ")\n",
    "\n",
    "\n",
    "partition_result = json.dumps(partition_search_status, indent = 4)\n",
    "print(partition_result)"
   ]
  },
  {
   "cell_type": "markdown",
   "id": "2a37065c-6556-486c-9004-14f1602f11d6",
   "metadata": {},
   "source": [
    "<h4>Configure Output Fields</h4>"
   ]
  },
  {
   "cell_type": "code",
   "execution_count": 8,
   "id": "55993a8c-243f-4d59-919b-04c56f9122e6",
   "metadata": {
    "tags": []
   },
   "outputs": [
    {
     "name": "stdout",
     "output_type": "stream",
     "text": [
      "[\n",
      "    [\n",
      "        {\n",
      "            \"id\": 894,\n",
      "            \"distance\": 1.820735216140747,\n",
      "            \"entity\": {\n",
      "                \"color\": \"yellow\"\n",
      "            }\n",
      "        },\n",
      "        {\n",
      "            \"id\": 318,\n",
      "            \"distance\": 1.7348827123641968,\n",
      "            \"entity\": {\n",
      "                \"color\": \"red\"\n",
      "            }\n",
      "        },\n",
      "        {\n",
      "            \"id\": 199,\n",
      "            \"distance\": 1.6810312271118164,\n",
      "            \"entity\": {\n",
      "                \"color\": \"red\"\n",
      "            }\n",
      "        },\n",
      "        {\n",
      "            \"id\": 274,\n",
      "            \"distance\": 1.663917899131775,\n",
      "            \"entity\": {\n",
      "                \"color\": \"blue\"\n",
      "            }\n",
      "        },\n",
      "        {\n",
      "            \"id\": 694,\n",
      "            \"distance\": 1.6502282619476318,\n",
      "            \"entity\": {\n",
      "                \"color\": \"grey\"\n",
      "            }\n",
      "        }\n",
      "    ]\n",
      "]\n"
     ]
    }
   ],
   "source": [
    "# Search with output fields\n",
    "output_query_vector = [0.3580376395471989, -0.6023495712049978, 0.18414012509913835, -0.26286205330961354, 0.9029438446296592]\n",
    "\n",
    "output_search_status = client.search(\n",
    "    collection_name = \"quick_setup_collection\",\n",
    "    data = [output_query_vector],\n",
    "    limit = 5,\n",
    "    search_params = {\"metric_type\": \"IP\", \"params\": {\"level\": 1}},\n",
    "    output_fields = [\"color\"]\n",
    ")\n",
    "\n",
    "output_result = json.dumps(output_search_status, indent = 4)\n",
    "print(output_result)"
   ]
  },
  {
   "cell_type": "markdown",
   "id": "1d6f8b4b-77ee-4e90-ab0b-7d51b4e80f70",
   "metadata": {},
   "source": [
    "<h4>Like Operator</h4>"
   ]
  },
  {
   "cell_type": "code",
   "execution_count": 9,
   "id": "2a22dbfb-79a0-4d6c-ad53-4e4a88fe9765",
   "metadata": {
    "tags": []
   },
   "outputs": [
    {
     "name": "stdout",
     "output_type": "stream",
     "text": [
      "[\n",
      "    [\n",
      "        {\n",
      "            \"id\": 318,\n",
      "            \"distance\": 1.7348827123641968,\n",
      "            \"entity\": {\n",
      "                \"color_tag\": \"red_3227\"\n",
      "            }\n",
      "        },\n",
      "        {\n",
      "            \"id\": 199,\n",
      "            \"distance\": 1.6810312271118164,\n",
      "            \"entity\": {\n",
      "                \"color_tag\": \"red_5896\"\n",
      "            }\n",
      "        },\n",
      "        {\n",
      "            \"id\": 443,\n",
      "            \"distance\": 1.646945595741272,\n",
      "            \"entity\": {\n",
      "                \"color_tag\": \"red_7454\"\n",
      "            }\n",
      "        },\n",
      "        {\n",
      "            \"id\": 300,\n",
      "            \"distance\": 1.4745960235595703,\n",
      "            \"entity\": {\n",
      "                \"color_tag\": \"red_3931\"\n",
      "            }\n",
      "        },\n",
      "        {\n",
      "            \"id\": 47,\n",
      "            \"distance\": 1.4011565446853638,\n",
      "            \"entity\": {\n",
      "                \"color_tag\": \"red_2913\"\n",
      "            }\n",
      "        }\n",
      "    ]\n",
      "]\n"
     ]
    }
   ],
   "source": [
    "# Filter with \"like\" operator and prefix wildcard\n",
    "like_query_vector = [0.3580376395471989, -0.6023495712049978, 0.18414012509913835, -0.26286205330961354, 0.9029438446296592]\n",
    "\n",
    "like_search_status = client.search(\n",
    "    collection_name = \"quick_setup_collection\",\n",
    "    data = [like_query_vector],\n",
    "    limit = 5,\n",
    "    search_params = {\"metric_type\": \"IP\", \"params\": {\"level\": 1}},\n",
    "    filter = 'color_tag like \"red%\"',\n",
    "    output_fields = [\"color_tag\"]\n",
    ")\n",
    "\n",
    "like_result = json.dumps(like_search_status, indent = 4)\n",
    "print(like_result)"
   ]
  },
  {
   "cell_type": "code",
   "execution_count": 11,
   "id": "53d03f54-8010-42cd-8cf6-2e0d592be1f9",
   "metadata": {
    "tags": []
   },
   "outputs": [
    {
     "name": "stdout",
     "output_type": "stream",
     "text": [
      "[\n",
      "    [\n",
      "        {\n",
      "            \"id\": 894,\n",
      "            \"distance\": 1.820735216140747,\n",
      "            \"entity\": {\n",
      "                \"color_tag\": \"yellow_5241\"\n",
      "            }\n",
      "        },\n",
      "        {\n",
      "            \"id\": 274,\n",
      "            \"distance\": 1.663917899131775,\n",
      "            \"entity\": {\n",
      "                \"color_tag\": \"blue_8096\"\n",
      "            }\n",
      "        },\n",
      "        {\n",
      "            \"id\": 390,\n",
      "            \"distance\": 1.6487438678741455,\n",
      "            \"entity\": {\n",
      "                \"color_tag\": \"blue_7443\"\n",
      "            }\n",
      "        },\n",
      "        {\n",
      "            \"id\": 12,\n",
      "            \"distance\": 1.6417144536972046,\n",
      "            \"entity\": {\n",
      "                \"color_tag\": \"blue_6963\"\n",
      "            }\n",
      "        },\n",
      "        {\n",
      "            \"id\": 349,\n",
      "            \"distance\": 1.5990583896636963,\n",
      "            \"entity\": {\n",
      "                \"color_tag\": \"blue_2153\"\n",
      "            }\n",
      "        }\n",
      "    ]\n",
      "]\n"
     ]
    }
   ],
   "source": [
    "import json\n",
    "\n",
    "# Infix match on color field\n",
    "infix_query_vector = [0.3580376395471989, -0.6023495712049978, 0.18414012509913835, -0.26286205330961354, 0.9029438446296592]\n",
    "\n",
    "infix_search_status = client.search(\n",
    "    collection_name = \"quick_setup_collection\", # Replace with the actual name of your collection\n",
    "    data = [infix_query_vector],\n",
    "    limit = 5, # Max. number of search results to return\n",
    "    search_params = {\"metric_type\": \"IP\", \"params\": {\"level\": 1}}, # Search parameters\n",
    "    output_fields = [\"color_tag\"], # Output fields to return\n",
    "    filter = 'color like \"%l%\"' # Filter on color field, infix match on \"ll\"\n",
    ")\n",
    "\n",
    "infix_result = json.dumps(infix_search_status, indent = 4)\n",
    "print(infix_result)"
   ]
  },
  {
   "cell_type": "markdown",
   "id": "01eed96a-baf6-435e-b211-d9d953d11d8b",
   "metadata": {
    "tags": []
   },
   "source": [
    "<h4>Range Search</h4>"
   ]
  },
  {
   "cell_type": "code",
   "execution_count": 12,
   "id": "2ce34cad-5ee3-4366-9f75-f64ca091d20e",
   "metadata": {
    "tags": []
   },
   "outputs": [
    {
     "name": "stdout",
     "output_type": "stream",
     "text": [
      "[\n",
      "    [\n",
      "        {\n",
      "            \"id\": 20,\n",
      "            \"distance\": 0.9918922781944275,\n",
      "            \"entity\": {\n",
      "                \"color_tag\": \"red_6826\"\n",
      "            }\n",
      "        },\n",
      "        {\n",
      "            \"id\": 348,\n",
      "            \"distance\": 0.9914668798446655,\n",
      "            \"entity\": {\n",
      "                \"color_tag\": \"blue_4829\"\n",
      "            }\n",
      "        },\n",
      "        {\n",
      "            \"id\": 458,\n",
      "            \"distance\": 0.9879510402679443,\n",
      "            \"entity\": {\n",
      "                \"color_tag\": \"yellow_2317\"\n",
      "            }\n",
      "        }\n",
      "    ]\n",
      "]\n"
     ]
    }
   ],
   "source": [
    "# Range search\n",
    "range_search_params = {\n",
    "    \"metric_type\": \"IP\",\n",
    "    \"params\": {\n",
    "        \"radius\": 0.8, # Radius of the search circle\n",
    "        \"range_filter\": 1.0 # Range filter to filter out vectors that are not within the search circle\n",
    "    }\n",
    "}\n",
    "\n",
    "range_query_vector = [0.3580376395471989, -0.6023495712049978, 0.18414012509913835, -0.26286205330961354, 0.9029438446296592]\n",
    "\n",
    "range_search_status = client.search(\n",
    "    collection_name = \"quick_setup_collection\",\n",
    "    data = [range_query_vector],\n",
    "    limit = 3,\n",
    "    search_params = range_search_params, # Search parameters\n",
    "    output_fields = [\"color_tag\"], # Output fields to return\n",
    ")\n",
    "\n",
    "range_result = json.dumps(range_search_status, indent=4)\n",
    "print(range_result)"
   ]
  },
  {
   "cell_type": "markdown",
   "id": "b5109ca6-d8a4-45f7-91fc-7b873c7e2b2d",
   "metadata": {},
   "source": [
    "<h4>Group Search</h4>"
   ]
  },
  {
   "cell_type": "code",
   "execution_count": 16,
   "id": "bccf3e1c-d0fd-4135-b4cc-e12544ebea40",
   "metadata": {
    "tags": []
   },
   "outputs": [
    {
     "name": "stdout",
     "output_type": "stream",
     "text": [
      "['blue', 'purple', 'black', 'blue', 'blue', 'red', 'purple', 'red', 'blue', 'red']\n"
     ]
    }
   ],
   "source": [
    "# Load data into collection\n",
    "client.load_collection(\"quick_setup_collection\") # Collection name\n",
    "\n",
    "# Group search results\n",
    "res = client.search(\n",
    "    collection_name = \"quick_setup_collection\", # Collection name\n",
    "    data = [[0.14529211512077012, 0.9147257273453546, 0.7965055218724449, 0.7009258593102812, 0.5605206522382088]], # Query vector\n",
    "    search_params = {\n",
    "        \"metric_type\": \"IP\",\n",
    "        \"params\": {\"level\": 1},\n",
    "    },\n",
    "    limit = 10,\n",
    "    group_by_field = \"id\",\n",
    "    output_fields = [\"id\", \"color\", \"color_tag\"]\n",
    ")\n",
    "\n",
    "# Retrieve the values in the `doc_id` column\n",
    "doc_ids = [result['entity']['color'] for result in res[0]]\n",
    "\n",
    "print(doc_ids)"
   ]
  },
  {
   "cell_type": "code",
   "execution_count": 17,
   "id": "436e35af-7f59-424f-8472-8324f2b8c25e",
   "metadata": {
    "tags": []
   },
   "outputs": [],
   "source": [
    "# Drop collection\n",
    "client.drop_collection(\n",
    "    collection_name = \"quick_setup_collection\",\n",
    ")"
   ]
  },
  {
   "cell_type": "code",
   "execution_count": null,
   "id": "f24912f4-4b7a-4113-a2a3-228d594d50ba",
   "metadata": {},
   "outputs": [],
   "source": []
  }
 ],
 "metadata": {
  "kernelspec": {
   "display_name": "Python 3 (ipykernel)",
   "language": "python",
   "name": "python3"
  },
  "language_info": {
   "codemirror_mode": {
    "name": "ipython",
    "version": 3
   },
   "file_extension": ".py",
   "mimetype": "text/x-python",
   "name": "python",
   "nbconvert_exporter": "python",
   "pygments_lexer": "ipython3",
   "version": "3.10.5"
  }
 },
 "nbformat": 4,
 "nbformat_minor": 5
}
