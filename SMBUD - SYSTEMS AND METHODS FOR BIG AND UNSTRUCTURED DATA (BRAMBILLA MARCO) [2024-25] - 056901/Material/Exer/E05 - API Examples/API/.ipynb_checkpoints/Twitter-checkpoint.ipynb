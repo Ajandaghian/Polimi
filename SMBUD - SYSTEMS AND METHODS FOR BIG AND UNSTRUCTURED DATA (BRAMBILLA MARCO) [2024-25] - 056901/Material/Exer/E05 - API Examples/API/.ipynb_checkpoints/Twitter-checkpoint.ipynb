{
 "cells": [
  {
   "cell_type": "code",
   "execution_count": 8,
   "metadata": {
    "tags": []
   },
   "outputs": [
    {
     "ename": "ModuleNotFoundError",
     "evalue": "No module named 'yaml'",
     "output_type": "error",
     "traceback": [
      "\u001b[0;31m---------------------------------------------------------------------------\u001b[0m",
      "\u001b[0;31mModuleNotFoundError\u001b[0m                       Traceback (most recent call last)",
      "Input \u001b[0;32mIn [8]\u001b[0m, in \u001b[0;36m<cell line: 5>\u001b[0;34m()\u001b[0m\n\u001b[1;32m      3\u001b[0m \u001b[38;5;28;01mimport\u001b[39;00m \u001b[38;5;21;01mpandas\u001b[39;00m \u001b[38;5;28;01mas\u001b[39;00m \u001b[38;5;21;01mpd\u001b[39;00m\n\u001b[1;32m      4\u001b[0m \u001b[38;5;28;01mimport\u001b[39;00m \u001b[38;5;21;01mjson\u001b[39;00m\n\u001b[0;32m----> 5\u001b[0m \u001b[38;5;28;01mimport\u001b[39;00m \u001b[38;5;21;01myaml\u001b[39;00m\n\u001b[1;32m      6\u001b[0m \u001b[38;5;28;01mimport\u001b[39;00m \u001b[38;5;21;01mpprint\u001b[39;00m\n",
      "\u001b[0;31mModuleNotFoundError\u001b[0m: No module named 'yaml'"
     ]
    }
   ],
   "source": [
    "import time\n",
    "import tweepy\n",
    "import pandas as pd\n",
    "import json\n",
    "import yaml\n",
    "import pprint"
   ]
  },
  {
   "cell_type": "code",
   "execution_count": 7,
   "metadata": {},
   "outputs": [
    {
     "name": "stdout",
     "output_type": "stream",
     "text": [
      "Collecting pyyaml\n",
      "  Downloading PyYAML-6.0-cp310-cp310-macosx_10_9_x86_64.whl (197 kB)\n",
      "\u001b[2K     \u001b[38;2;114;156;31m━━━━━━━━━━━━━━━━━━━━━━━━━━━━━━━━━━━━━━━\u001b[0m \u001b[32m197.6/197.6 kB\u001b[0m \u001b[31m2.0 MB/s\u001b[0m eta \u001b[36m0:00:00\u001b[0m MB/s\u001b[0m eta \u001b[36m0:00:01\u001b[0m\n",
      "\u001b[?25hInstalling collected packages: pyyaml\n",
      "Successfully installed pyyaml-6.0\n"
     ]
    }
   ],
   "source": [
    "!pip install pyyaml"
   ]
  },
  {
   "cell_type": "markdown",
   "metadata": {},
   "source": [
    "## Twitter API Example"
   ]
  },
  {
   "cell_type": "markdown",
   "metadata": {},
   "source": [
    "- Interact with [Twitter API](https://developer.twitter.com/en/docs.html). The main endpoints return tweets, users and followers. \n",
    "- It is necessary to generate an API key to obtain access to the endpoints.\n",
    "- You need to sign in on [Twitter](https://twitter.com) and then following this steps https://developer.twitter.com/en/docs/basics/authentication/guides/access-tokens.html"
   ]
  },
  {
   "cell_type": "markdown",
   "metadata": {},
   "source": [
    "API keys and tokens are needed to initialize Python Twitter Wrapper ([tweepy](https://tweepy.readthedocs.io/en/3.7.0/api.html)). It is a best practice to store the keys in a separated **configuration file** that should be kept secret and not shared (e.g.: on GitHub)."
   ]
  },
  {
   "cell_type": "code",
   "execution_count": 2,
   "metadata": {},
   "outputs": [],
   "source": [
    "with open(r'./twitter_API.yaml') as file:\n",
    "    cred = yaml.full_load(file)[\"twitter_credentials\"]"
   ]
  },
  {
   "cell_type": "code",
   "execution_count": 3,
   "metadata": {
    "tags": []
   },
   "outputs": [],
   "source": [
    "consumer_key = cred['consumer_key']\n",
    "consumer_secret = cred['consumer_secret']\n",
    "access_token = cred['access_token']\n",
    "access_token_secret = cred['access_token_secret']"
   ]
  },
  {
   "cell_type": "code",
   "execution_count": 4,
   "metadata": {
    "tags": []
   },
   "outputs": [],
   "source": [
    "auth = tweepy.OAuthHandler(consumer_key, consumer_secret)\n",
    "auth.set_access_token(access_token, access_token_secret)\n",
    "twitter = tweepy.API(auth)"
   ]
  },
  {
   "cell_type": "markdown",
   "metadata": {},
   "source": [
    "1) Get last N_MAX tweets of a specific user and store them in MongoDB collection."
   ]
  },
  {
   "cell_type": "code",
   "execution_count": 5,
   "metadata": {
    "tags": []
   },
   "outputs": [],
   "source": [
    "def save_tweet(data):\n",
    "    tw = {}\n",
    "    tw['id_post'] = tweet.id\n",
    "    tw['username'] = tweet.user.screen_name\n",
    "\n",
    "    if tweet.coordinates is not None:\n",
    "        coor = tweet.coordinates['coordinates']\n",
    "        lat = coor[1]\n",
    "        lng = coor[0]\n",
    "        tw['lat'] = lat\n",
    "        tw['long'] = lng\n",
    "    else:\n",
    "        lat = None\n",
    "        lng = None\n",
    "\n",
    "    if tweet.place is not None:\n",
    "        place = tweet.place.name\n",
    "        tw['place'] = place\n",
    "    else:\n",
    "        place = None\n",
    "\n",
    "    tw['text'] = tweet.full_text\n",
    "    tw['timestamp'] = tweet.created_at\n",
    "    tw['retweets'] = tweet.retweet_count\n",
    "    tw['likes'] = tweet.favorite_count\n",
    "    tw['lang'] = tweet.lang\n",
    "    \n",
    "    return tw"
   ]
  },
  {
   "cell_type": "code",
   "execution_count": 6,
   "metadata": {
    "tags": []
   },
   "outputs": [],
   "source": [
    "N_MAX = 100\n",
    "username = 'polimi'\n",
    "\n",
    "tweets_df = pd.DataFrame(columns=['id_post','username','lat', 'long', 'place','text','timestamp','retweets','likes','lang'])\n",
    "for tweet in tweepy.Cursor(twitter.user_timeline, screen_name=username, tweet_mode='extended').items(N_MAX):\n",
    "    tw_row = save_tweet(tweet)\n",
    "    tweets_df = tweets_df.append(tw_row, ignore_index=True)"
   ]
  },
  {
   "cell_type": "markdown",
   "metadata": {},
   "source": [
    "2) Retrieve user account information"
   ]
  },
  {
   "cell_type": "code",
   "execution_count": 7,
   "metadata": {},
   "outputs": [
    {
     "name": "stdout",
     "output_type": "stream",
     "text": [
      "{'contributors_enabled': False,\n",
      " 'created_at': 'Wed Feb 16 15:13:32 +0000 2011',\n",
      " 'default_profile': False,\n",
      " 'default_profile_image': False,\n",
      " 'description': 'Since 1863. Technology, Creativity, Culture',\n",
      " 'entities': {'description': {'urls': []},\n",
      "              'url': {'urls': [{'display_url': 'polimi.it',\n",
      "                                'expanded_url': 'http://www.polimi.it',\n",
      "                                'indices': [0, 22],\n",
      "                                'url': 'http://t.co/ogI6rYvBii'}]}},\n",
      " 'favourites_count': 1387,\n",
      " 'follow_request_sent': False,\n",
      " 'followers_count': 38738,\n",
      " 'following': False,\n",
      " 'friends_count': 233,\n",
      " 'geo_enabled': False,\n",
      " 'has_extended_profile': False,\n",
      " 'id': 253099487,\n",
      " 'id_str': '253099487',\n",
      " 'is_translation_enabled': False,\n",
      " 'is_translator': False,\n",
      " 'lang': None,\n",
      " 'listed_count': 501,\n",
      " 'location': 'Milano',\n",
      " 'name': 'Politecnico Milano',\n",
      " 'notifications': False,\n",
      " 'profile_background_color': '00437A',\n",
      " 'profile_background_image_url': 'http://abs.twimg.com/images/themes/theme1/bg.png',\n",
      " 'profile_background_image_url_https': 'https://abs.twimg.com/images/themes/theme1/bg.png',\n",
      " 'profile_background_tile': False,\n",
      " 'profile_banner_url': 'https://pbs.twimg.com/profile_banners/253099487/1398259631',\n",
      " 'profile_image_url': 'http://pbs.twimg.com/profile_images/458960380153192449/xFg4gSIp_normal.jpeg',\n",
      " 'profile_image_url_https': 'https://pbs.twimg.com/profile_images/458960380153192449/xFg4gSIp_normal.jpeg',\n",
      " 'profile_link_color': '00437A',\n",
      " 'profile_location': None,\n",
      " 'profile_sidebar_border_color': 'C0DEED',\n",
      " 'profile_sidebar_fill_color': 'FFFFFF',\n",
      " 'profile_text_color': '0F000F',\n",
      " 'profile_use_background_image': True,\n",
      " 'protected': False,\n",
      " 'screen_name': 'polimi',\n",
      " 'status': {'contributors': None,\n",
      "            'coordinates': None,\n",
      "            'created_at': 'Fri Oct 01 07:41:47 +0000 2021',\n",
      "            'entities': {'hashtags': [{'indices': [69, 90],\n",
      "                                       'text': 'LeonardoDroneContest'},\n",
      "                                      {'indices': [118, 127],\n",
      "                                       'text': 'Leonardo'}],\n",
      "                         'symbols': [],\n",
      "                         'urls': [],\n",
      "                         'user_mentions': [{'id': 615029235,\n",
      "                                            'id_str': '615029235',\n",
      "                                            'indices': [3, 15],\n",
      "                                            'name': 'Leonardo',\n",
      "                                            'screen_name': 'Leonardo_IT'},\n",
      "                                           {'id': 253099487,\n",
      "                                            'id_str': '253099487',\n",
      "                                            'indices': [20, 27],\n",
      "                                            'name': 'Politecnico Milano',\n",
      "                                            'screen_name': 'polimi'}]},\n",
      "            'favorite_count': 0,\n",
      "            'favorited': False,\n",
      "            'geo': None,\n",
      "            'id': 1443843573225566225,\n",
      "            'id_str': '1443843573225566225',\n",
      "            'in_reply_to_screen_name': None,\n",
      "            'in_reply_to_status_id': None,\n",
      "            'in_reply_to_status_id_str': None,\n",
      "            'in_reply_to_user_id': None,\n",
      "            'in_reply_to_user_id_str': None,\n",
      "            'is_quote_status': False,\n",
      "            'lang': 'it',\n",
      "            'place': None,\n",
      "            'retweet_count': 7,\n",
      "            'retweeted': False,\n",
      "            'retweeted_status': {'contributors': None,\n",
      "                                 'coordinates': None,\n",
      "                                 'created_at': 'Thu Sep 30 17:40:41 +0000 2021',\n",
      "                                 'entities': {'hashtags': [{'indices': [52, 73],\n",
      "                                                            'text': 'LeonardoDroneContest'},\n",
      "                                                           {'indices': [101,\n",
      "                                                                        110],\n",
      "                                                            'text': 'Leonardo'}],\n",
      "                                              'symbols': [],\n",
      "                                              'urls': [{'display_url': 'twitter.com/i/web/status/1…',\n",
      "                                                        'expanded_url': 'https://twitter.com/i/web/status/1443631903760912385',\n",
      "                                                        'indices': [117, 140],\n",
      "                                                        'url': 'https://t.co/3JPiwjboUi'}],\n",
      "                                              'user_mentions': [{'id': 253099487,\n",
      "                                                                 'id_str': '253099487',\n",
      "                                                                 'indices': [3,\n",
      "                                                                             10],\n",
      "                                                                 'name': 'Politecnico '\n",
      "                                                                         'Milano',\n",
      "                                                                 'screen_name': 'polimi'}]},\n",
      "                                 'favorite_count': 18,\n",
      "                                 'favorited': False,\n",
      "                                 'geo': None,\n",
      "                                 'id': 1443631903760912385,\n",
      "                                 'id_str': '1443631903760912385',\n",
      "                                 'in_reply_to_screen_name': None,\n",
      "                                 'in_reply_to_status_id': None,\n",
      "                                 'in_reply_to_status_id_str': None,\n",
      "                                 'in_reply_to_user_id': None,\n",
      "                                 'in_reply_to_user_id_str': None,\n",
      "                                 'is_quote_status': False,\n",
      "                                 'lang': 'it',\n",
      "                                 'place': None,\n",
      "                                 'possibly_sensitive': False,\n",
      "                                 'retweet_count': 7,\n",
      "                                 'retweeted': False,\n",
      "                                 'source': '<a '\n",
      "                                           'href=\"https://mobile.twitter.com\" '\n",
      "                                           'rel=\"nofollow\">Twitter Web App</a>',\n",
      "                                 'text': 'Il @polimi si è aggiudicato la '\n",
      "                                         'seconda edizione del '\n",
      "                                         '#LeonardoDroneContest, la '\n",
      "                                         'competizione ideata da #Leonardo in '\n",
      "                                         'c… https://t.co/3JPiwjboUi',\n",
      "                                 'truncated': True},\n",
      "            'source': '<a href=\"https://mobile.twitter.com\" '\n",
      "                      'rel=\"nofollow\">Twitter Web App</a>',\n",
      "            'text': 'RT @Leonardo_IT: Il @polimi si è aggiudicato la seconda '\n",
      "                    'edizione del #LeonardoDroneContest, la competizione '\n",
      "                    'ideata da #Leonardo in collabor…',\n",
      "            'truncated': False},\n",
      " 'statuses_count': 8920,\n",
      " 'time_zone': None,\n",
      " 'translator_type': 'none',\n",
      " 'url': 'http://t.co/ogI6rYvBii',\n",
      " 'utc_offset': None,\n",
      " 'verified': False,\n",
      " 'withheld_in_countries': []}\n"
     ]
    }
   ],
   "source": [
    "u = twitter.get_user(screen_name = username)\n",
    "\n",
    "pprint.pprint(u._json)"
   ]
  },
  {
   "cell_type": "markdown",
   "metadata": {},
   "source": [
    "3) Save **follow** relationship. \n",
    "\n",
    "This is the most expensive operation, since number of followers can be extremely large. For this reason, we need to define a function to handle **API rate limits**: over a certain number of requests, that depends on resource, the API stops for **15 minutes** (more details [here](https://developer.twitter.com/en/docs/basics/rate-limits))"
   ]
  },
  {
   "cell_type": "code",
   "execution_count": 8,
   "metadata": {
    "tags": []
   },
   "outputs": [],
   "source": [
    "def limit_handled(cursor):\n",
    "    while True:\n",
    "        try:\n",
    "            yield cursor.next()\n",
    "        except tweepy.RateLimitError:\n",
    "            print ('API Rate Limit exceeded. Waiting...')\n",
    "            \n",
    "            # wait for 15 minutes to reset the API timeout\n",
    "            time.sleep(15 * 60)\n",
    "        except StopIteration:\n",
    "            return"
   ]
  },
  {
   "cell_type": "code",
   "execution_count": 9,
   "metadata": {
    "tags": []
   },
   "outputs": [],
   "source": [
    "follow = pd.DataFrame(columns=['id_following', 'id_followed'])\n",
    "\n",
    "id_user = u.id\n",
    "for follower in limit_handled(tweepy.Cursor(twitter.followers_ids, screen_name=username).items(200)):\n",
    "    follow = follow.append({'id_following': follower, 'id_followed': id_user}, ignore_index=True)"
   ]
  },
  {
   "cell_type": "code",
   "execution_count": 10,
   "metadata": {},
   "outputs": [
    {
     "data": {
      "text/html": [
       "<div>\n",
       "<style scoped>\n",
       "    .dataframe tbody tr th:only-of-type {\n",
       "        vertical-align: middle;\n",
       "    }\n",
       "\n",
       "    .dataframe tbody tr th {\n",
       "        vertical-align: top;\n",
       "    }\n",
       "\n",
       "    .dataframe thead th {\n",
       "        text-align: right;\n",
       "    }\n",
       "</style>\n",
       "<table border=\"1\" class=\"dataframe\">\n",
       "  <thead>\n",
       "    <tr style=\"text-align: right;\">\n",
       "      <th></th>\n",
       "      <th>id_following</th>\n",
       "      <th>id_followed</th>\n",
       "    </tr>\n",
       "  </thead>\n",
       "  <tbody>\n",
       "    <tr>\n",
       "      <th>0</th>\n",
       "      <td>372084104</td>\n",
       "      <td>253099487</td>\n",
       "    </tr>\n",
       "    <tr>\n",
       "      <th>1</th>\n",
       "      <td>1238120666949353473</td>\n",
       "      <td>253099487</td>\n",
       "    </tr>\n",
       "    <tr>\n",
       "      <th>2</th>\n",
       "      <td>1397890657633681412</td>\n",
       "      <td>253099487</td>\n",
       "    </tr>\n",
       "    <tr>\n",
       "      <th>3</th>\n",
       "      <td>1442838293649952770</td>\n",
       "      <td>253099487</td>\n",
       "    </tr>\n",
       "    <tr>\n",
       "      <th>4</th>\n",
       "      <td>430882302</td>\n",
       "      <td>253099487</td>\n",
       "    </tr>\n",
       "  </tbody>\n",
       "</table>\n",
       "</div>"
      ],
      "text/plain": [
       "          id_following id_followed\n",
       "0            372084104   253099487\n",
       "1  1238120666949353473   253099487\n",
       "2  1397890657633681412   253099487\n",
       "3  1442838293649952770   253099487\n",
       "4            430882302   253099487"
      ]
     },
     "execution_count": 10,
     "metadata": {},
     "output_type": "execute_result"
    }
   ],
   "source": [
    "follow.head()"
   ]
  },
  {
   "cell_type": "code",
   "execution_count": 11,
   "metadata": {
    "tags": []
   },
   "outputs": [
    {
     "data": {
      "text/html": [
       "<div>\n",
       "<style scoped>\n",
       "    .dataframe tbody tr th:only-of-type {\n",
       "        vertical-align: middle;\n",
       "    }\n",
       "\n",
       "    .dataframe tbody tr th {\n",
       "        vertical-align: top;\n",
       "    }\n",
       "\n",
       "    .dataframe thead th {\n",
       "        text-align: right;\n",
       "    }\n",
       "</style>\n",
       "<table border=\"1\" class=\"dataframe\">\n",
       "  <thead>\n",
       "    <tr style=\"text-align: right;\">\n",
       "      <th></th>\n",
       "      <th>id_following</th>\n",
       "      <th>id_followed</th>\n",
       "    </tr>\n",
       "  </thead>\n",
       "  <tbody>\n",
       "    <tr>\n",
       "      <th>0</th>\n",
       "      <td>372084104</td>\n",
       "      <td>253099487</td>\n",
       "    </tr>\n",
       "    <tr>\n",
       "      <th>1</th>\n",
       "      <td>1238120666949353473</td>\n",
       "      <td>253099487</td>\n",
       "    </tr>\n",
       "    <tr>\n",
       "      <th>2</th>\n",
       "      <td>1397890657633681412</td>\n",
       "      <td>253099487</td>\n",
       "    </tr>\n",
       "    <tr>\n",
       "      <th>3</th>\n",
       "      <td>1442838293649952770</td>\n",
       "      <td>253099487</td>\n",
       "    </tr>\n",
       "    <tr>\n",
       "      <th>4</th>\n",
       "      <td>430882302</td>\n",
       "      <td>253099487</td>\n",
       "    </tr>\n",
       "  </tbody>\n",
       "</table>\n",
       "</div>"
      ],
      "text/plain": [
       "          id_following  id_followed\n",
       "0            372084104    253099487\n",
       "1  1238120666949353473    253099487\n",
       "2  1397890657633681412    253099487\n",
       "3  1442838293649952770    253099487\n",
       "4            430882302    253099487"
      ]
     },
     "execution_count": 11,
     "metadata": {},
     "output_type": "execute_result"
    }
   ],
   "source": [
    "follow['id_following'] = follow['id_following'].astype('int64')\n",
    "follow['id_followed'] = follow['id_followed'].astype('int64')\n",
    "follow.head()"
   ]
  },
  {
   "cell_type": "code",
   "execution_count": 12,
   "metadata": {
    "tags": []
   },
   "outputs": [],
   "source": [
    "# save data\n",
    "follow.to_csv(\"./followers.csv\", index=None)"
   ]
  },
  {
   "cell_type": "code",
   "execution_count": null,
   "metadata": {},
   "outputs": [],
   "source": []
  }
 ],
 "metadata": {
  "kernelspec": {
   "display_name": "Python 3 (ipykernel)",
   "language": "python",
   "name": "python3"
  },
  "language_info": {
   "codemirror_mode": {
    "name": "ipython",
    "version": 3
   },
   "file_extension": ".py",
   "mimetype": "text/x-python",
   "name": "python",
   "nbconvert_exporter": "python",
   "pygments_lexer": "ipython3",
   "version": "3.10.5"
  }
 },
 "nbformat": 4,
 "nbformat_minor": 4
}
