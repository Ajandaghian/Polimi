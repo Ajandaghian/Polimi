{
 "cells": [
  {
   "cell_type": "code",
   "execution_count": 1,
   "id": "c2bf3e17",
   "metadata": {},
   "outputs": [],
   "source": [
    "import os\n",
    "import sys\n",
    "import warnings\n",
    "import pandas as pd\n",
    "\n",
    "!unzip /content/data_ai_academy_2024.zip -d /content/\n",
    "\n",
    "if \"data_cleaning_evaluation.ipynb\" in os.listdir():\n",
    "    os.remove(\"data_cleaning_evaluation.ipynb\")\n",
    "\n",
    "\n",
    "warnings.filterwarnings(\"ignore\")\n",
    "\n",
    "try:\n",
    "    import pyarmor\n",
    "except:\n",
    "    os.system(\"pip install pyarmor\")\n",
    "    import pyarmor\n",
    "\n",
    "\n",
    "if \"/content/dist_31012/\" not in sys.path:\n",
    "    sys.path.append(\"/content/dist_31012/\")\n",
    "\n",
    "import model_evaluation_pipeline as pipe"
   ]
  },
  {
   "cell_type": "code",
   "execution_count": null,
   "id": "dc995f31",
   "metadata": {},
   "outputs": [],
   "source": [
    "# add complete or relative path to your file here\n",
    "# EXAMPLE: \"/content/data/telco.xlsx\"\n",
    "df = pd.read_excel(\"$INSERT PATH HERE$\")"
   ]
  },
  {
   "cell_type": "code",
   "execution_count": null,
   "id": "8721391a",
   "metadata": {},
   "outputs": [],
   "source": [
    "pipe.evaluate_dataset_cleanness(df)"
   ]
  }
 ],
 "metadata": {
  "environment": {
   "kernel": "conda-base-py",
   "name": "workbench-notebooks.m125",
   "type": "gcloud",
   "uri": "us-docker.pkg.dev/deeplearning-platform-release/gcr.io/workbench-notebooks:m125"
  },
  "kernelspec": {
   "display_name": "Python 3",
   "language": "python",
   "name": "python3"
  },
  "language_info": {
   "codemirror_mode": {
    "name": "ipython",
    "version": 3
   },
   "file_extension": ".py",
   "mimetype": "text/x-python",
   "name": "python",
   "nbconvert_exporter": "python",
   "pygments_lexer": "ipython3",
   "version": "3.10.11"
  }
 },
 "nbformat": 4,
 "nbformat_minor": 5
}
